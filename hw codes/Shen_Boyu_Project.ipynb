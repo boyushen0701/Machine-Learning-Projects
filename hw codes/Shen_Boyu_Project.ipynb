{
  "cells": [
    {
      "cell_type": "markdown",
      "metadata": {
        "id": "UyAgx3r6TfiV"
      },
      "source": [
        "# DSCI 552 Project"
      ]
    },
    {
      "cell_type": "markdown",
      "metadata": {
        "id": "pwgaelS6TfiY"
      },
      "source": [
        "#### Name: Boyu Shen\n",
        "#### Github username: boyushen0701\n",
        "#### USC ID: 3547352504"
      ]
    },
    {
      "cell_type": "markdown",
      "source": [
        "1.Transfer Learning for Image Classification"
      ],
      "metadata": {
        "id": "rnEIVUSq778T"
      }
    },
    {
      "cell_type": "markdown",
      "source": [
        "(a)\n",
        "In this problem, we are trying to build a classifier that distinguishes images of 20\n",
        "bird species. You are provided with text data in twenty folders.\n",
        "\n",
        "(b)\n",
        "Data Exploration and Pre-processing"
      ],
      "metadata": {
        "id": "Wm0vbzv58dLW"
      }
    },
    {
      "cell_type": "markdown",
      "source": [
        "i.Images in each class are given in separate folders. The file\n",
        "Classes.xlsx\n",
        "pro-\n",
        "vides the classes assigned to the bird species images in each folder. Therefore,\n",
        "you encode your classes using one-hot encoding and\n",
        "Classes.xlsx"
      ],
      "metadata": {
        "id": "OyOL5yg6A0m0"
      }
    },
    {
      "cell_type": "code",
      "source": [
        "!pip install -U efficientnet"
      ],
      "metadata": {
        "colab": {
          "base_uri": "https://localhost:8080/"
        },
        "id": "P94Zlu6z8IRR",
        "outputId": "716d042e-2b3d-4ddd-ae56-22513a2ac349"
      },
      "execution_count": 52,
      "outputs": [
        {
          "output_type": "stream",
          "name": "stdout",
          "text": [
            "Looking in indexes: https://pypi.org/simple, https://us-python.pkg.dev/colab-wheels/public/simple/\n",
            "Collecting efficientnet\n",
            "  Downloading efficientnet-1.1.1-py3-none-any.whl (18 kB)\n",
            "Requirement already satisfied: scikit-image in /usr/local/lib/python3.8/dist-packages (from efficientnet) (0.18.3)\n",
            "Collecting keras-applications<=1.0.8,>=1.0.7\n",
            "  Downloading Keras_Applications-1.0.8-py3-none-any.whl (50 kB)\n",
            "\u001b[K     |████████████████████████████████| 50 kB 6.7 MB/s \n",
            "\u001b[?25hRequirement already satisfied: numpy>=1.9.1 in /usr/local/lib/python3.8/dist-packages (from keras-applications<=1.0.8,>=1.0.7->efficientnet) (1.21.6)\n",
            "Requirement already satisfied: h5py in /usr/local/lib/python3.8/dist-packages (from keras-applications<=1.0.8,>=1.0.7->efficientnet) (3.1.0)\n",
            "Requirement already satisfied: scipy>=1.0.1 in /usr/local/lib/python3.8/dist-packages (from scikit-image->efficientnet) (1.7.3)\n",
            "Requirement already satisfied: tifffile>=2019.7.26 in /usr/local/lib/python3.8/dist-packages (from scikit-image->efficientnet) (2022.10.10)\n",
            "Requirement already satisfied: networkx>=2.0 in /usr/local/lib/python3.8/dist-packages (from scikit-image->efficientnet) (2.8.8)\n",
            "Requirement already satisfied: matplotlib!=3.0.0,>=2.0.0 in /usr/local/lib/python3.8/dist-packages (from scikit-image->efficientnet) (3.2.2)\n",
            "Requirement already satisfied: PyWavelets>=1.1.1 in /usr/local/lib/python3.8/dist-packages (from scikit-image->efficientnet) (1.4.1)\n",
            "Requirement already satisfied: imageio>=2.3.0 in /usr/local/lib/python3.8/dist-packages (from scikit-image->efficientnet) (2.9.0)\n",
            "Requirement already satisfied: pillow!=7.1.0,!=7.1.1,>=4.3.0 in /usr/local/lib/python3.8/dist-packages (from scikit-image->efficientnet) (7.1.2)\n",
            "Requirement already satisfied: kiwisolver>=1.0.1 in /usr/local/lib/python3.8/dist-packages (from matplotlib!=3.0.0,>=2.0.0->scikit-image->efficientnet) (1.4.4)\n",
            "Requirement already satisfied: pyparsing!=2.0.4,!=2.1.2,!=2.1.6,>=2.0.1 in /usr/local/lib/python3.8/dist-packages (from matplotlib!=3.0.0,>=2.0.0->scikit-image->efficientnet) (3.0.9)\n",
            "Requirement already satisfied: cycler>=0.10 in /usr/local/lib/python3.8/dist-packages (from matplotlib!=3.0.0,>=2.0.0->scikit-image->efficientnet) (0.11.0)\n",
            "Requirement already satisfied: python-dateutil>=2.1 in /usr/local/lib/python3.8/dist-packages (from matplotlib!=3.0.0,>=2.0.0->scikit-image->efficientnet) (2.8.2)\n",
            "Requirement already satisfied: six>=1.5 in /usr/local/lib/python3.8/dist-packages (from python-dateutil>=2.1->matplotlib!=3.0.0,>=2.0.0->scikit-image->efficientnet) (1.15.0)\n",
            "Installing collected packages: keras-applications, efficientnet\n",
            "Successfully installed efficientnet-1.1.1 keras-applications-1.0.8\n"
          ]
        }
      ]
    },
    {
      "cell_type": "code",
      "source": [
        "from google.colab import drive\n",
        "import pandas as pd\n",
        "import numpy as np\n",
        "import splitfolders\n",
        "import keras\n",
        "import tensorflow as tf\n",
        "from sklearn.preprocessing import OneHotEncoder\n",
        "from keras import Sequential\n",
        "from tensorflow.keras import layers\n",
        "from tensorflow.keras import activations\n",
        "from keras.preprocessing.image import ImageDataGenerator\n",
        "from keras.layers import Conv2D, MaxPooling2D\n",
        "from keras.layers import Activation, Dropout, Flatten, Dense\n",
        "from keras import backend as K\n",
        "from keras.preprocessing.image import ImageDataGenerator\n",
        "from tensorflow.keras.applications.vgg16 import VGG16\n",
        "import efficientnet.keras as efn"
      ],
      "metadata": {
        "id": "jMNwXtZU74Wc"
      },
      "execution_count": 53,
      "outputs": []
    },
    {
      "cell_type": "code",
      "source": [
        "!pip install split-folders"
      ],
      "metadata": {
        "colab": {
          "base_uri": "https://localhost:8080/"
        },
        "id": "5ilvBgrm_HWA",
        "outputId": "0ddd1f16-c43e-45d7-a987-cca88ca613cd"
      },
      "execution_count": 3,
      "outputs": [
        {
          "output_type": "stream",
          "name": "stdout",
          "text": [
            "Looking in indexes: https://pypi.org/simple, https://us-python.pkg.dev/colab-wheels/public/simple/\n",
            "Collecting split-folders\n",
            "  Downloading split_folders-0.5.1-py3-none-any.whl (8.4 kB)\n",
            "Installing collected packages: split-folders\n",
            "Successfully installed split-folders-0.5.1\n"
          ]
        }
      ]
    },
    {
      "cell_type": "code",
      "source": [
        "#Retrieving data\n",
        "drive.mount(\"/content/drive\")\n",
        "\n",
        "# read data from excel\n",
        "data = pd.read_excel('/content/drive/My Drive/Colab Notebooks/552 project/data/Classes.xlsx', sheet_name=0)\n",
        "\n",
        "#Create an instance of One-hot-encoder\n",
        "enc=OneHotEncoder()\n",
        "  \n",
        "#Passing encoded columns\n",
        "enc_data=pd.DataFrame(enc.fit_transform(data[['Class']]).toarray())\n",
        "  \n",
        "#Merge with main\n",
        "New_df=data.join(enc_data) \n",
        "print(New_df)"
      ],
      "metadata": {
        "colab": {
          "base_uri": "https://localhost:8080/"
        },
        "id": "wf_KxfvyBckB",
        "outputId": "25df33a1-83e5-497a-9171-059f88684f96"
      },
      "execution_count": 13,
      "outputs": [
        {
          "output_type": "stream",
          "name": "stdout",
          "text": [
            "Drive already mounted at /content/drive; to attempt to forcibly remount, call drive.mount(\"/content/drive\", force_remount=True).\n",
            "                     Folder Name   Class    0    1    2    3    4    5    6  \\\n",
            "0              005.Crested_Auklet      0  1.0  0.0  0.0  0.0  0.0  0.0  0.0   \n",
            "1                    013.Bobolink      1  0.0  1.0  0.0  0.0  0.0  0.0  0.0   \n",
            "2              015.Lazuli_Bunting      2  0.0  0.0  1.0  0.0  0.0  0.0  0.0   \n",
            "3            023.Brandt_Cormorant      3  0.0  0.0  0.0  1.0  0.0  0.0  0.0   \n",
            "4      040.Olive_sided_Flycatcher      4  0.0  0.0  0.0  0.0  1.0  0.0  0.0   \n",
            "5   041.Scissor_tailed_Flycatcher      5  0.0  0.0  0.0  0.0  0.0  1.0  0.0   \n",
            "6            067.Anna_Hummingbird      6  0.0  0.0  0.0  0.0  0.0  0.0  1.0   \n",
            "7             072.Pomarine_Jaeger      7  0.0  0.0  0.0  0.0  0.0  0.0  0.0   \n",
            "8             076.Dark_eyed_Junco      8  0.0  0.0  0.0  0.0  0.0  0.0  0.0   \n",
            "9             081.Pied_Kingfisher      9  0.0  0.0  0.0  0.0  0.0  0.0  0.0   \n",
            "10          082.Ringed_Kingfisher     10  0.0  0.0  0.0  0.0  0.0  0.0  0.0   \n",
            "11               086.Pacific_Loon     11  0.0  0.0  0.0  0.0  0.0  0.0  0.0   \n",
            "12                   099.Ovenbird     12  0.0  0.0  0.0  0.0  0.0  0.0  0.0   \n",
            "13             104.American_Pipit     13  0.0  0.0  0.0  0.0  0.0  0.0  0.0   \n",
            "14           127.Savannah_Sparrow     14  0.0  0.0  0.0  0.0  0.0  0.0  0.0   \n",
            "15               135.Bank_Swallow     15  0.0  0.0  0.0  0.0  0.0  0.0  0.0   \n",
            "16                 141.Artic_Tern     16  0.0  0.0  0.0  0.0  0.0  0.0  0.0   \n",
            "17             149.Brown_Thrasher     17  0.0  0.0  0.0  0.0  0.0  0.0  0.0   \n",
            "18           156.White_eyed_Vireo     18  0.0  0.0  0.0  0.0  0.0  0.0  0.0   \n",
            "19           168.Kentucky_Warbler     19  0.0  0.0  0.0  0.0  0.0  0.0  0.0   \n",
            "\n",
            "      7  ...   10   11   12   13   14   15   16   17   18   19  \n",
            "0   0.0  ...  0.0  0.0  0.0  0.0  0.0  0.0  0.0  0.0  0.0  0.0  \n",
            "1   0.0  ...  0.0  0.0  0.0  0.0  0.0  0.0  0.0  0.0  0.0  0.0  \n",
            "2   0.0  ...  0.0  0.0  0.0  0.0  0.0  0.0  0.0  0.0  0.0  0.0  \n",
            "3   0.0  ...  0.0  0.0  0.0  0.0  0.0  0.0  0.0  0.0  0.0  0.0  \n",
            "4   0.0  ...  0.0  0.0  0.0  0.0  0.0  0.0  0.0  0.0  0.0  0.0  \n",
            "5   0.0  ...  0.0  0.0  0.0  0.0  0.0  0.0  0.0  0.0  0.0  0.0  \n",
            "6   0.0  ...  0.0  0.0  0.0  0.0  0.0  0.0  0.0  0.0  0.0  0.0  \n",
            "7   1.0  ...  0.0  0.0  0.0  0.0  0.0  0.0  0.0  0.0  0.0  0.0  \n",
            "8   0.0  ...  0.0  0.0  0.0  0.0  0.0  0.0  0.0  0.0  0.0  0.0  \n",
            "9   0.0  ...  0.0  0.0  0.0  0.0  0.0  0.0  0.0  0.0  0.0  0.0  \n",
            "10  0.0  ...  1.0  0.0  0.0  0.0  0.0  0.0  0.0  0.0  0.0  0.0  \n",
            "11  0.0  ...  0.0  1.0  0.0  0.0  0.0  0.0  0.0  0.0  0.0  0.0  \n",
            "12  0.0  ...  0.0  0.0  1.0  0.0  0.0  0.0  0.0  0.0  0.0  0.0  \n",
            "13  0.0  ...  0.0  0.0  0.0  1.0  0.0  0.0  0.0  0.0  0.0  0.0  \n",
            "14  0.0  ...  0.0  0.0  0.0  0.0  1.0  0.0  0.0  0.0  0.0  0.0  \n",
            "15  0.0  ...  0.0  0.0  0.0  0.0  0.0  1.0  0.0  0.0  0.0  0.0  \n",
            "16  0.0  ...  0.0  0.0  0.0  0.0  0.0  0.0  1.0  0.0  0.0  0.0  \n",
            "17  0.0  ...  0.0  0.0  0.0  0.0  0.0  0.0  0.0  1.0  0.0  0.0  \n",
            "18  0.0  ...  0.0  0.0  0.0  0.0  0.0  0.0  0.0  0.0  1.0  0.0  \n",
            "19  0.0  ...  0.0  0.0  0.0  0.0  0.0  0.0  0.0  0.0  0.0  1.0  \n",
            "\n",
            "[20 rows x 22 columns]\n"
          ]
        }
      ]
    },
    {
      "cell_type": "markdown",
      "source": [
        "ii. Randomly select [0.7ni] images from each folder as your training set, [0.15ni] as validation set, and the rest as your test set, where ni is the number of images in folder i and dxe is the ceiling of x."
      ],
      "metadata": {
        "id": "V0LNXJwzDwwr"
      }
    },
    {
      "cell_type": "code",
      "source": [
        "inputfolder = '/content/drive/My Drive/Colab Notebooks/552 project/data/images'\n",
        "splitfolders.ratio(inputfolder, output=\"/content/drive/My Drive/Colab Notebooks/552 project/data/output\", seed=1, ratio=(.7, 0.15,0.15)) "
      ],
      "metadata": {
        "colab": {
          "base_uri": "https://localhost:8080/"
        },
        "id": "ggmWC0XvCI0G",
        "outputId": "2b474f61-a3b3-439f-f5cf-8e72b9ca81ed"
      },
      "execution_count": 10,
      "outputs": [
        {
          "output_type": "stream",
          "name": "stderr",
          "text": [
            "Copying files: 1176 files [11:32,  1.70 files/s]\n"
          ]
        }
      ]
    },
    {
      "cell_type": "markdown",
      "source": [
        "iii. In order for all the images to have the same size, zero-pad or resize the images\n",
        "in your dataset. This can be done using various tools, including OpenCV"
      ],
      "metadata": {
        "id": "pQc7jbg9Fkeh"
      }
    },
    {
      "cell_type": "code",
      "source": [
        "img_width, img_height = 224, 224\n",
        "if K.image_data_format() == 'channels_first':\n",
        "    input_shape = (3, img_width, img_height)\n",
        "else:\n",
        "    input_shape = (img_width, img_height, 3)"
      ],
      "metadata": {
        "id": "hEJ8P4MmIItX"
      },
      "execution_count": 58,
      "outputs": []
    },
    {
      "cell_type": "markdown",
      "source": [
        "(c) Transfer Learning"
      ],
      "metadata": {
        "id": "5wSlW2qjlmQ1"
      }
    },
    {
      "cell_type": "markdown",
      "source": [
        "i. In this project, you will use pre-trained mod\u0002els EfficientNetB0 and VGG16. For both pre-trained networks, you will only train the last fully connected layer, and will freeze all layers before them (i.e. we do not change their parameters during training) and use the outputs of the penultimate layer in the original pre-trained model as the features extracted from each image."
      ],
      "metadata": {
        "id": "WAKCAFIKINha"
      }
    },
    {
      "cell_type": "code",
      "source": [
        "#load the base model\n",
        "vgg16_base = VGG16(input_shape = input_shape, # Shape of our images\n",
        "include_top = False, # Leave out the last fully connected layer\n",
        "weights = 'imagenet')\n",
        "\n",
        "\n",
        "\n",
        "base_model=vgg16_base\n",
        "for layer in base_model.layers:\n",
        "    layer.trainable = False\n"
      ],
      "metadata": {
        "id": "i_gX-e4lFsUb"
      },
      "execution_count": 59,
      "outputs": []
    },
    {
      "cell_type": "markdown",
      "source": [
        "ii. To perform empirical regularization, crop, randomly zoo, rotate, flip, contrast,and translate images in your training set for image augmentation. You can\n",
        "use various tools to do this, including OpenCV."
      ],
      "metadata": {
        "id": "zEtrFgyYzlaz"
      }
    },
    {
      "cell_type": "code",
      "source": [
        "train_data_dir = '/content/drive/My Drive/Colab Notebooks/552 project/data/output/train'\n",
        "validation_data_dir = '/content/drive/My Drive/Colab Notebooks/552 project/data/output/val'\n",
        "batch_size = 5\n",
        "\n",
        "# this is the augmentation configuration we will use for training\n",
        "train_datagen = ImageDataGenerator(\n",
        "    rescale=1. / 255,\n",
        "    shear_range=0.2,\n",
        "    zoom_range=0.2,\n",
        "    horizontal_flip=True)\n",
        "\n",
        "# this is the augmentation configuration we will use for testing:\n",
        "# only rescaling\n",
        "test_datagen = ImageDataGenerator(rescale=1. / 255)\n",
        "\n",
        "train_generator = train_datagen.flow_from_directory(\n",
        "    train_data_dir,\n",
        "    target_size=(img_width, img_height),\n",
        "    batch_size=batch_size,\n",
        "    class_mode='categorical')\n",
        "\n",
        "validation_generator = test_datagen.flow_from_directory(\n",
        "    validation_data_dir,\n",
        "    target_size=(img_width, img_height),\n",
        "    batch_size=batch_size,\n",
        "    class_mode='categorical')\n",
        "\n"
      ],
      "metadata": {
        "colab": {
          "base_uri": "https://localhost:8080/"
        },
        "id": "NTLakjICzklu",
        "outputId": "5cf65d43-1b90-482f-f7a3-22858d23206c"
      },
      "execution_count": 60,
      "outputs": [
        {
          "output_type": "stream",
          "name": "stdout",
          "text": [
            "Found 820 images belonging to 20 classes.\n",
            "Found 171 images belonging to 20 classes.\n"
          ]
        }
      ]
    },
    {
      "cell_type": "markdown",
      "source": [
        "iii. Use ReLU activation functions in the last layer and a softmax layer, along\n",
        "with batch normalization 4 and a dropout rate of 20% as well as ADAM optimizer. Use multinomial cross entropy loss. You can try any batch size,\n",
        "but a batch size of 5 seems reasonable."
      ],
      "metadata": {
        "id": "TgzSOW3XM5w-"
      }
    },
    {
      "cell_type": "code",
      "source": [
        "x = layers.Flatten()(base_model.output)\n",
        "\n",
        "x = layers.BatchNormalization()(x)\n",
        "\n",
        "# Add a fully connected layer with 20 hidden units and ReLU activation\n",
        "x = layers.Activation(activations.relu)(x)\n",
        "\n",
        "# Add a dropout rate of 0.5\n",
        "x = layers.Dropout(0.2)(x)\n",
        "\n",
        "# Add a final sigmoid layer with 1 node for classification output\n",
        "x = layers.Dense(20, activation='softmax')(x)\n",
        "\n",
        "model = tf.keras.models.Model(base_model.input, x)\n",
        "\n",
        "#loss_fn = keras.losses.CategoricalCrossentropy()\n",
        "op = keras.optimizers.Adam(learning_rate=0.001, beta_1=0.9, beta_2=0.999, epsilon=None, decay=0.0, amsgrad=False)\n",
        "model.compile(loss ='categorical_crossentropy', optimizer = op, metrics = ['acc'])\n"
      ],
      "metadata": {
        "id": "HYrOWHYzM92W"
      },
      "execution_count": 61,
      "outputs": []
    },
    {
      "cell_type": "markdown",
      "source": [
        "iv. Train the networks (EfficientNetB0 and VGG16) for at least 50 epochs\n",
        "(preferably 100 epochs) and perform early stopping using the validation set.\n",
        "Keep the network parameters that have the lowest validation error. Plot the\n",
        "training and validation errors vs. epochs."
      ],
      "metadata": {
        "id": "2FdofYVcITlH"
      }
    },
    {
      "cell_type": "code",
      "source": [
        "from tensorflow.keras.callbacks import EarlyStopping\n",
        "early_stopping = EarlyStopping(\n",
        "    monitor='val_loss', \n",
        "    patience=8, \n",
        "    min_delta=0.001, \n",
        "    mode='min'\n",
        ")\n",
        "hist1=model.fit(\n",
        "    train_generator,\n",
        "    steps_per_epoch=16,\n",
        "    epochs=50,\n",
        "    validation_data= validation_generator,\n",
        "    validation_steps=3,\n",
        "    callbacks=[early_stopping])\n",
        "\n",
        "model.save_weights('/content/drive/My Drive/Colab Notebooks/552 project/data/weights1.h5')"
      ],
      "metadata": {
        "colab": {
          "base_uri": "https://localhost:8080/"
        },
        "id": "AQ0Z-hfwMzyS",
        "outputId": "f6909739-fe69-4829-ad53-04e4c561c98e"
      },
      "execution_count": 62,
      "outputs": [
        {
          "output_type": "stream",
          "name": "stdout",
          "text": [
            "Epoch 1/50\n",
            "16/16 [==============================] - 3s 120ms/step - loss: 5.3131 - acc: 0.0500 - val_loss: 5.9922 - val_acc: 0.0667\n",
            "Epoch 2/50\n",
            "16/16 [==============================] - 2s 103ms/step - loss: 4.7691 - acc: 0.2500 - val_loss: 4.7185 - val_acc: 0.0667\n",
            "Epoch 3/50\n",
            "16/16 [==============================] - 2s 98ms/step - loss: 4.3385 - acc: 0.2875 - val_loss: 4.0115 - val_acc: 0.1333\n",
            "Epoch 4/50\n",
            "16/16 [==============================] - 2s 99ms/step - loss: 3.2303 - acc: 0.3500 - val_loss: 3.3757 - val_acc: 0.2667\n",
            "Epoch 5/50\n",
            "16/16 [==============================] - 2s 102ms/step - loss: 3.4474 - acc: 0.4125 - val_loss: 4.4189 - val_acc: 0.1333\n",
            "Epoch 6/50\n",
            "16/16 [==============================] - 2s 101ms/step - loss: 3.1501 - acc: 0.4250 - val_loss: 3.8554 - val_acc: 0.2000\n",
            "Epoch 7/50\n",
            "16/16 [==============================] - 2s 99ms/step - loss: 2.8851 - acc: 0.4625 - val_loss: 5.1245 - val_acc: 0.0667\n",
            "Epoch 8/50\n",
            "16/16 [==============================] - 2s 99ms/step - loss: 3.8047 - acc: 0.4250 - val_loss: 2.7846 - val_acc: 0.4000\n",
            "Epoch 9/50\n",
            "16/16 [==============================] - 2s 99ms/step - loss: 2.7151 - acc: 0.5500 - val_loss: 3.3094 - val_acc: 0.3333\n",
            "Epoch 10/50\n",
            "16/16 [==============================] - 2s 99ms/step - loss: 2.6135 - acc: 0.5000 - val_loss: 2.9278 - val_acc: 0.2667\n",
            "Epoch 11/50\n",
            "16/16 [==============================] - 2s 101ms/step - loss: 3.2355 - acc: 0.5375 - val_loss: 2.2027 - val_acc: 0.4000\n",
            "Epoch 12/50\n",
            "16/16 [==============================] - 2s 104ms/step - loss: 2.8886 - acc: 0.4875 - val_loss: 3.5839 - val_acc: 0.2667\n",
            "Epoch 13/50\n",
            "16/16 [==============================] - 2s 99ms/step - loss: 2.7817 - acc: 0.5250 - val_loss: 2.8958 - val_acc: 0.4667\n",
            "Epoch 14/50\n",
            "16/16 [==============================] - 2s 99ms/step - loss: 2.7056 - acc: 0.5000 - val_loss: 2.7901 - val_acc: 0.4000\n",
            "Epoch 15/50\n",
            "16/16 [==============================] - 2s 102ms/step - loss: 2.3952 - acc: 0.5875 - val_loss: 4.0717 - val_acc: 0.3333\n",
            "Epoch 16/50\n",
            "16/16 [==============================] - 2s 100ms/step - loss: 1.7015 - acc: 0.6125 - val_loss: 3.8381 - val_acc: 0.2667\n",
            "Epoch 17/50\n",
            "16/16 [==============================] - 2s 101ms/step - loss: 2.1185 - acc: 0.6000 - val_loss: 2.5740 - val_acc: 0.3333\n",
            "Epoch 18/50\n",
            "16/16 [==============================] - 2s 99ms/step - loss: 1.4888 - acc: 0.6375 - val_loss: 4.3935 - val_acc: 0.2000\n",
            "Epoch 19/50\n",
            "16/16 [==============================] - 2s 101ms/step - loss: 1.7564 - acc: 0.7000 - val_loss: 2.8913 - val_acc: 0.5333\n"
          ]
        }
      ]
    },
    {
      "cell_type": "code",
      "source": [
        "# perform the same process on EfficientNetB0\n",
        "base_model = efn.EfficientNetB0(input_shape = input_shape, include_top = False, weights = 'imagenet')\n",
        "\n",
        "for layer in base_model.layers:\n",
        "    layer.trainable = False\n",
        "\n",
        "x = layers.Flatten()(base_model.output)\n",
        "\n",
        "x = layers.BatchNormalization()(x)\n",
        "\n",
        "# Add a fully connected layer with 20 hidden units and ReLU activation\n",
        "x = layers.Activation(activations.relu)(x)\n",
        "\n",
        "# Add a dropout rate of 0.5\n",
        "x = layers.Dropout(0.2)(x)\n",
        "\n",
        "# Add a final sigmoid layer with 1 node for classification output\n",
        "x = layers.Dense(20, activation='softmax')(x)\n",
        "\n",
        "model = tf.keras.models.Model(base_model.input, x)\n",
        "\n",
        "#loss_fn = keras.losses.CategoricalCrossentropy()\n",
        "op = keras.optimizers.Adam(learning_rate=0.001, beta_1=0.9, beta_2=0.999, epsilon=None, decay=0.0, amsgrad=False)\n",
        "model.compile(loss ='categorical_crossentropy', optimizer = op, metrics = ['acc'])\n",
        "\n",
        "hist2=model.fit(\n",
        "    train_generator,\n",
        "    steps_per_epoch=16,\n",
        "    epochs=50,\n",
        "    validation_data= validation_generator,\n",
        "    validation_steps=3,\n",
        "    callbacks=[early_stopping])\n",
        "\n",
        "model.save_weights('/content/drive/My Drive/Colab Notebooks/552 project/data/weights2.h5')"
      ],
      "metadata": {
        "colab": {
          "base_uri": "https://localhost:8080/"
        },
        "id": "zdM3f4rxIFX9",
        "outputId": "bf4533a4-b8ed-46f2-a878-116bc767db5f"
      },
      "execution_count": 64,
      "outputs": [
        {
          "output_type": "stream",
          "name": "stdout",
          "text": [
            "Epoch 1/50\n",
            "16/16 [==============================] - 8s 181ms/step - loss: 21.8699 - acc: 0.1250 - val_loss: 10.6135 - val_acc: 0.0667\n",
            "Epoch 2/50\n",
            "16/16 [==============================] - 2s 97ms/step - loss: 16.1663 - acc: 0.1375 - val_loss: 8.0862 - val_acc: 0.3333\n",
            "Epoch 3/50\n",
            "16/16 [==============================] - 2s 103ms/step - loss: 12.7011 - acc: 0.2625 - val_loss: 16.0828 - val_acc: 0.0667\n",
            "Epoch 4/50\n",
            "16/16 [==============================] - 2s 97ms/step - loss: 9.9693 - acc: 0.3000 - val_loss: 4.2722 - val_acc: 0.4667\n",
            "Epoch 5/50\n",
            "16/16 [==============================] - 2s 97ms/step - loss: 12.0045 - acc: 0.3000 - val_loss: 7.4210 - val_acc: 0.4667\n",
            "Epoch 6/50\n",
            "16/16 [==============================] - 2s 95ms/step - loss: 8.4287 - acc: 0.4250 - val_loss: 8.9951 - val_acc: 0.3333\n",
            "Epoch 7/50\n",
            "16/16 [==============================] - 2s 99ms/step - loss: 8.1359 - acc: 0.4125 - val_loss: 6.9201 - val_acc: 0.3333\n",
            "Epoch 8/50\n",
            "16/16 [==============================] - 2s 97ms/step - loss: 9.0430 - acc: 0.3375 - val_loss: 7.9812 - val_acc: 0.4667\n",
            "Epoch 9/50\n",
            "16/16 [==============================] - 2s 98ms/step - loss: 8.8760 - acc: 0.4750 - val_loss: 9.7915 - val_acc: 0.3333\n",
            "Epoch 10/50\n",
            "16/16 [==============================] - 2s 97ms/step - loss: 8.1936 - acc: 0.4500 - val_loss: 11.9421 - val_acc: 0.3333\n",
            "Epoch 11/50\n",
            "16/16 [==============================] - 2s 97ms/step - loss: 8.9477 - acc: 0.4625 - val_loss: 3.0249 - val_acc: 0.5333\n",
            "Epoch 12/50\n",
            "16/16 [==============================] - 2s 98ms/step - loss: 8.1463 - acc: 0.4375 - val_loss: 3.9967 - val_acc: 0.7333\n",
            "Epoch 13/50\n",
            "16/16 [==============================] - 2s 97ms/step - loss: 9.3630 - acc: 0.4875 - val_loss: 8.2324 - val_acc: 0.5333\n",
            "Epoch 14/50\n",
            "16/16 [==============================] - 2s 97ms/step - loss: 10.5233 - acc: 0.4125 - val_loss: 3.7183 - val_acc: 0.5333\n",
            "Epoch 15/50\n",
            "16/16 [==============================] - 2s 97ms/step - loss: 11.4821 - acc: 0.4875 - val_loss: 7.7727 - val_acc: 0.4667\n",
            "Epoch 16/50\n",
            "16/16 [==============================] - 2s 99ms/step - loss: 8.9623 - acc: 0.4875 - val_loss: 4.2288 - val_acc: 0.6000\n",
            "Epoch 17/50\n",
            "16/16 [==============================] - 2s 99ms/step - loss: 7.3858 - acc: 0.6125 - val_loss: 3.4745 - val_acc: 0.7333\n",
            "Epoch 18/50\n",
            "16/16 [==============================] - 2s 99ms/step - loss: 6.1344 - acc: 0.5625 - val_loss: 3.1006 - val_acc: 0.7333\n",
            "Epoch 19/50\n",
            "16/16 [==============================] - 2s 100ms/step - loss: 7.0891 - acc: 0.5500 - val_loss: 7.6630 - val_acc: 0.5333\n"
          ]
        }
      ]
    },
    {
      "cell_type": "code",
      "source": [
        "import matplotlib.pyplot as plt\n",
        "\n",
        "plt.figure()\n",
        "plt.plot(hist1.history['loss'])\n",
        "plt.plot(hist1.history['val_loss'])\n",
        "plt.title('model loss, VGG16')\n",
        "plt.ylabel('loss')\n",
        "plt.xlabel('epoch')\n",
        "plt.legend(['train','val'], loc = 'upper left')\n",
        "plt.show()"
      ],
      "metadata": {
        "colab": {
          "base_uri": "https://localhost:8080/",
          "height": 295
        },
        "id": "GzBgduMF9W6C",
        "outputId": "2241b678-2a43-43ac-9b45-882813b5c778"
      },
      "execution_count": 66,
      "outputs": [
        {
          "output_type": "display_data",
          "data": {
            "text/plain": [
              "<Figure size 432x288 with 1 Axes>"
            ],
            "image/png": "[encoded data removed]"
          },
          "metadata": {
            "needs_background": "light"
          }
        }
      ]
    },
    {
      "cell_type": "code",
      "source": [
        "plt.figure()\n",
        "plt.plot(hist2.history['loss'])\n",
        "plt.plot(hist2.history['val_loss'])\n",
        "plt.title('model loss, EfficientNetB0')\n",
        "plt.ylabel('loss')\n",
        "plt.xlabel('epoch')\n",
        "plt.legend(['train','val'], loc = 'upper left')\n",
        "plt.show()"
      ],
      "metadata": {
        "colab": {
          "base_uri": "https://localhost:8080/",
          "height": 295
        },
        "id": "ru-WKeZ0-p1j",
        "outputId": "3d33045e-ebc6-4225-954e-a5b11b61cd03"
      },
      "execution_count": 67,
      "outputs": [
        {
          "output_type": "display_data",
          "data": {
            "text/plain": [
              "<Figure size 432x288 with 1 Axes>"
            ],
            "image/png": "[encoded data removed]"
          },
          "metadata": {
            "needs_background": "light"
          }
        }
      ]
    },
    {
      "cell_type": "code",
      "source": [],
      "metadata": {
        "id": "FH3mU2-0ASx5"
      },
      "execution_count": null,
      "outputs": []
    }
  ],
  "metadata": {
    "kernelspec": {
      "display_name": "Python 3",
      "language": "python",
      "name": "python3"
    },
    "language_info": {
      "codemirror_mode": {
        "name": "ipython",
        "version": 3
      },
      "file_extension": ".py",
      "mimetype": "text/x-python",
      "name": "python",
      "nbconvert_exporter": "python",
      "pygments_lexer": "ipython3",
      "version": "3.7.4"
    },
    "colab": {
      "provenance": []
    },
    "accelerator": "GPU",
    "gpuClass": "standard"
  },
  "nbformat": 4,
  "nbformat_minor": 0
}