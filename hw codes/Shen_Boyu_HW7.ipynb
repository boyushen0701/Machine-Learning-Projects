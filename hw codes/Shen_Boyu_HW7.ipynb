{
 "cells": [
  {
   "cell_type": "markdown",
   "metadata": {},
   "source": [
    "<font size=5>DSCI-552 Homework7\n",
    "\n"
   ]
  },
  {
   "cell_type": "markdown",
   "metadata": {},
   "source": [
    "#### Name: Boyu Shen\n",
    "#### Github username: boyushen0701\n",
    "#### USC ID: 3547352504\n"
   ]
  },
  {
   "cell_type": "code",
   "execution_count": 27,
   "metadata": {},
   "outputs": [],
   "source": [
    "import pandas as pd\n",
    "import numpy as np\n",
    "from sklearn.model_selection import train_test_split\n",
    "from sklearn import preprocessing\n",
    "from sklearn.svm import SVC\n",
    "from sklearn.model_selection import GridSearchCV\n",
    "from sklearn.svm import LinearSVC\n",
    "from imblearn.over_sampling import SMOTE\n",
    "from imblearn.pipeline import Pipeline as imbpipeline\n",
    "from sklearn.cluster import KMeans\n",
    "from sklearn.metrics import silhouette_score"
   ]
  },
  {
   "cell_type": "markdown",
   "metadata": {},
   "source": [
    "1. Multi-class and Multi-Label Classification Using Support Vector Machines\n",
    "<br>(a) Download the Anuran Calls (MFCCs) Data Set from: https://archive.ics.uci.edu/ml/datasets/Anuran+Calls+%28MFCCs%29. \n",
    "Choose 70% of the data randomly as the training set."
   ]
  },
  {
   "cell_type": "code",
   "execution_count": 2,
   "metadata": {},
   "outputs": [
    {
     "data": {
      "text/html": [
       "<div>\n",
       "<style scoped>\n",
       "    .dataframe tbody tr th:only-of-type {\n",
       "        vertical-align: middle;\n",
       "    }\n",
       "\n",
       "    .dataframe tbody tr th {\n",
       "        vertical-align: top;\n",
       "    }\n",
       "\n",
       "    .dataframe thead th {\n",
       "        text-align: right;\n",
       "    }\n",
       "</style>\n",
       "<table border=\"1\" class=\"dataframe\">\n",
       "  <thead>\n",
       "    <tr style=\"text-align: right;\">\n",
       "      <th></th>\n",
       "      <th>MFCCs_ 1</th>\n",
       "      <th>MFCCs_ 2</th>\n",
       "      <th>MFCCs_ 3</th>\n",
       "      <th>MFCCs_ 4</th>\n",
       "      <th>MFCCs_ 5</th>\n",
       "      <th>MFCCs_ 6</th>\n",
       "      <th>MFCCs_ 7</th>\n",
       "      <th>MFCCs_ 8</th>\n",
       "      <th>MFCCs_ 9</th>\n",
       "      <th>MFCCs_10</th>\n",
       "      <th>...</th>\n",
       "      <th>MFCCs_17</th>\n",
       "      <th>MFCCs_18</th>\n",
       "      <th>MFCCs_19</th>\n",
       "      <th>MFCCs_20</th>\n",
       "      <th>MFCCs_21</th>\n",
       "      <th>MFCCs_22</th>\n",
       "      <th>Family</th>\n",
       "      <th>Genus</th>\n",
       "      <th>Species</th>\n",
       "      <th>RecordID</th>\n",
       "    </tr>\n",
       "  </thead>\n",
       "  <tbody>\n",
       "    <tr>\n",
       "      <th>0</th>\n",
       "      <td>1.0</td>\n",
       "      <td>0.152936</td>\n",
       "      <td>-0.105586</td>\n",
       "      <td>0.200722</td>\n",
       "      <td>0.317201</td>\n",
       "      <td>0.260764</td>\n",
       "      <td>0.100945</td>\n",
       "      <td>-0.150063</td>\n",
       "      <td>-0.171128</td>\n",
       "      <td>0.124676</td>\n",
       "      <td>...</td>\n",
       "      <td>-0.108351</td>\n",
       "      <td>-0.077623</td>\n",
       "      <td>-0.009568</td>\n",
       "      <td>0.057684</td>\n",
       "      <td>0.118680</td>\n",
       "      <td>0.014038</td>\n",
       "      <td>Leptodactylidae</td>\n",
       "      <td>Adenomera</td>\n",
       "      <td>AdenomeraAndre</td>\n",
       "      <td>1</td>\n",
       "    </tr>\n",
       "    <tr>\n",
       "      <th>1</th>\n",
       "      <td>1.0</td>\n",
       "      <td>0.171534</td>\n",
       "      <td>-0.098975</td>\n",
       "      <td>0.268425</td>\n",
       "      <td>0.338672</td>\n",
       "      <td>0.268353</td>\n",
       "      <td>0.060835</td>\n",
       "      <td>-0.222475</td>\n",
       "      <td>-0.207693</td>\n",
       "      <td>0.170883</td>\n",
       "      <td>...</td>\n",
       "      <td>-0.090974</td>\n",
       "      <td>-0.056510</td>\n",
       "      <td>-0.035303</td>\n",
       "      <td>0.020140</td>\n",
       "      <td>0.082263</td>\n",
       "      <td>0.029056</td>\n",
       "      <td>Leptodactylidae</td>\n",
       "      <td>Adenomera</td>\n",
       "      <td>AdenomeraAndre</td>\n",
       "      <td>1</td>\n",
       "    </tr>\n",
       "    <tr>\n",
       "      <th>2</th>\n",
       "      <td>1.0</td>\n",
       "      <td>0.152317</td>\n",
       "      <td>-0.082973</td>\n",
       "      <td>0.287128</td>\n",
       "      <td>0.276014</td>\n",
       "      <td>0.189867</td>\n",
       "      <td>0.008714</td>\n",
       "      <td>-0.242234</td>\n",
       "      <td>-0.219153</td>\n",
       "      <td>0.232538</td>\n",
       "      <td>...</td>\n",
       "      <td>-0.050691</td>\n",
       "      <td>-0.023590</td>\n",
       "      <td>-0.066722</td>\n",
       "      <td>-0.025083</td>\n",
       "      <td>0.099108</td>\n",
       "      <td>0.077162</td>\n",
       "      <td>Leptodactylidae</td>\n",
       "      <td>Adenomera</td>\n",
       "      <td>AdenomeraAndre</td>\n",
       "      <td>1</td>\n",
       "    </tr>\n",
       "    <tr>\n",
       "      <th>3</th>\n",
       "      <td>1.0</td>\n",
       "      <td>0.224392</td>\n",
       "      <td>0.118985</td>\n",
       "      <td>0.329432</td>\n",
       "      <td>0.372088</td>\n",
       "      <td>0.361005</td>\n",
       "      <td>0.015501</td>\n",
       "      <td>-0.194347</td>\n",
       "      <td>-0.098181</td>\n",
       "      <td>0.270375</td>\n",
       "      <td>...</td>\n",
       "      <td>-0.136009</td>\n",
       "      <td>-0.177037</td>\n",
       "      <td>-0.130498</td>\n",
       "      <td>-0.054766</td>\n",
       "      <td>-0.018691</td>\n",
       "      <td>0.023954</td>\n",
       "      <td>Leptodactylidae</td>\n",
       "      <td>Adenomera</td>\n",
       "      <td>AdenomeraAndre</td>\n",
       "      <td>1</td>\n",
       "    </tr>\n",
       "    <tr>\n",
       "      <th>4</th>\n",
       "      <td>1.0</td>\n",
       "      <td>0.087817</td>\n",
       "      <td>-0.068345</td>\n",
       "      <td>0.306967</td>\n",
       "      <td>0.330923</td>\n",
       "      <td>0.249144</td>\n",
       "      <td>0.006884</td>\n",
       "      <td>-0.265423</td>\n",
       "      <td>-0.172700</td>\n",
       "      <td>0.266434</td>\n",
       "      <td>...</td>\n",
       "      <td>-0.048885</td>\n",
       "      <td>-0.053074</td>\n",
       "      <td>-0.088550</td>\n",
       "      <td>-0.031346</td>\n",
       "      <td>0.108610</td>\n",
       "      <td>0.079244</td>\n",
       "      <td>Leptodactylidae</td>\n",
       "      <td>Adenomera</td>\n",
       "      <td>AdenomeraAndre</td>\n",
       "      <td>1</td>\n",
       "    </tr>\n",
       "    <tr>\n",
       "      <th>...</th>\n",
       "      <td>...</td>\n",
       "      <td>...</td>\n",
       "      <td>...</td>\n",
       "      <td>...</td>\n",
       "      <td>...</td>\n",
       "      <td>...</td>\n",
       "      <td>...</td>\n",
       "      <td>...</td>\n",
       "      <td>...</td>\n",
       "      <td>...</td>\n",
       "      <td>...</td>\n",
       "      <td>...</td>\n",
       "      <td>...</td>\n",
       "      <td>...</td>\n",
       "      <td>...</td>\n",
       "      <td>...</td>\n",
       "      <td>...</td>\n",
       "      <td>...</td>\n",
       "      <td>...</td>\n",
       "      <td>...</td>\n",
       "      <td>...</td>\n",
       "    </tr>\n",
       "    <tr>\n",
       "      <th>7190</th>\n",
       "      <td>1.0</td>\n",
       "      <td>-0.554504</td>\n",
       "      <td>-0.337717</td>\n",
       "      <td>0.035533</td>\n",
       "      <td>0.034511</td>\n",
       "      <td>0.443451</td>\n",
       "      <td>0.093889</td>\n",
       "      <td>-0.100753</td>\n",
       "      <td>0.037087</td>\n",
       "      <td>0.081075</td>\n",
       "      <td>...</td>\n",
       "      <td>0.069430</td>\n",
       "      <td>0.071001</td>\n",
       "      <td>0.021591</td>\n",
       "      <td>0.052449</td>\n",
       "      <td>-0.021860</td>\n",
       "      <td>-0.079860</td>\n",
       "      <td>Hylidae</td>\n",
       "      <td>Scinax</td>\n",
       "      <td>ScinaxRuber</td>\n",
       "      <td>60</td>\n",
       "    </tr>\n",
       "    <tr>\n",
       "      <th>7191</th>\n",
       "      <td>1.0</td>\n",
       "      <td>-0.517273</td>\n",
       "      <td>-0.370574</td>\n",
       "      <td>0.030673</td>\n",
       "      <td>0.068097</td>\n",
       "      <td>0.402890</td>\n",
       "      <td>0.096628</td>\n",
       "      <td>-0.116460</td>\n",
       "      <td>0.063727</td>\n",
       "      <td>0.089034</td>\n",
       "      <td>...</td>\n",
       "      <td>0.061127</td>\n",
       "      <td>0.068978</td>\n",
       "      <td>0.017745</td>\n",
       "      <td>0.046461</td>\n",
       "      <td>-0.015418</td>\n",
       "      <td>-0.101892</td>\n",
       "      <td>Hylidae</td>\n",
       "      <td>Scinax</td>\n",
       "      <td>ScinaxRuber</td>\n",
       "      <td>60</td>\n",
       "    </tr>\n",
       "    <tr>\n",
       "      <th>7192</th>\n",
       "      <td>1.0</td>\n",
       "      <td>-0.582557</td>\n",
       "      <td>-0.343237</td>\n",
       "      <td>0.029468</td>\n",
       "      <td>0.064179</td>\n",
       "      <td>0.385596</td>\n",
       "      <td>0.114905</td>\n",
       "      <td>-0.103317</td>\n",
       "      <td>0.070370</td>\n",
       "      <td>0.081317</td>\n",
       "      <td>...</td>\n",
       "      <td>0.082474</td>\n",
       "      <td>0.077771</td>\n",
       "      <td>-0.009688</td>\n",
       "      <td>0.027834</td>\n",
       "      <td>-0.000531</td>\n",
       "      <td>-0.080425</td>\n",
       "      <td>Hylidae</td>\n",
       "      <td>Scinax</td>\n",
       "      <td>ScinaxRuber</td>\n",
       "      <td>60</td>\n",
       "    </tr>\n",
       "    <tr>\n",
       "      <th>7193</th>\n",
       "      <td>1.0</td>\n",
       "      <td>-0.519497</td>\n",
       "      <td>-0.307553</td>\n",
       "      <td>-0.004922</td>\n",
       "      <td>0.072865</td>\n",
       "      <td>0.377131</td>\n",
       "      <td>0.086866</td>\n",
       "      <td>-0.115799</td>\n",
       "      <td>0.056979</td>\n",
       "      <td>0.089316</td>\n",
       "      <td>...</td>\n",
       "      <td>0.051796</td>\n",
       "      <td>0.069073</td>\n",
       "      <td>0.017963</td>\n",
       "      <td>0.041803</td>\n",
       "      <td>-0.027911</td>\n",
       "      <td>-0.096895</td>\n",
       "      <td>Hylidae</td>\n",
       "      <td>Scinax</td>\n",
       "      <td>ScinaxRuber</td>\n",
       "      <td>60</td>\n",
       "    </tr>\n",
       "    <tr>\n",
       "      <th>7194</th>\n",
       "      <td>1.0</td>\n",
       "      <td>-0.508833</td>\n",
       "      <td>-0.324106</td>\n",
       "      <td>0.062068</td>\n",
       "      <td>0.078211</td>\n",
       "      <td>0.397188</td>\n",
       "      <td>0.094596</td>\n",
       "      <td>-0.117672</td>\n",
       "      <td>0.058874</td>\n",
       "      <td>0.076180</td>\n",
       "      <td>...</td>\n",
       "      <td>0.061455</td>\n",
       "      <td>0.072983</td>\n",
       "      <td>-0.003980</td>\n",
       "      <td>0.031560</td>\n",
       "      <td>-0.029355</td>\n",
       "      <td>-0.087910</td>\n",
       "      <td>Hylidae</td>\n",
       "      <td>Scinax</td>\n",
       "      <td>ScinaxRuber</td>\n",
       "      <td>60</td>\n",
       "    </tr>\n",
       "  </tbody>\n",
       "</table>\n",
       "<p>7195 rows × 26 columns</p>\n",
       "</div>"
      ],
      "text/plain": [
       "      MFCCs_ 1  MFCCs_ 2  MFCCs_ 3  MFCCs_ 4  MFCCs_ 5  MFCCs_ 6  MFCCs_ 7  \\\n",
       "0          1.0  0.152936 -0.105586  0.200722  0.317201  0.260764  0.100945   \n",
       "1          1.0  0.171534 -0.098975  0.268425  0.338672  0.268353  0.060835   \n",
       "2          1.0  0.152317 -0.082973  0.287128  0.276014  0.189867  0.008714   \n",
       "3          1.0  0.224392  0.118985  0.329432  0.372088  0.361005  0.015501   \n",
       "4          1.0  0.087817 -0.068345  0.306967  0.330923  0.249144  0.006884   \n",
       "...        ...       ...       ...       ...       ...       ...       ...   \n",
       "7190       1.0 -0.554504 -0.337717  0.035533  0.034511  0.443451  0.093889   \n",
       "7191       1.0 -0.517273 -0.370574  0.030673  0.068097  0.402890  0.096628   \n",
       "7192       1.0 -0.582557 -0.343237  0.029468  0.064179  0.385596  0.114905   \n",
       "7193       1.0 -0.519497 -0.307553 -0.004922  0.072865  0.377131  0.086866   \n",
       "7194       1.0 -0.508833 -0.324106  0.062068  0.078211  0.397188  0.094596   \n",
       "\n",
       "      MFCCs_ 8  MFCCs_ 9  MFCCs_10  ...  MFCCs_17  MFCCs_18  MFCCs_19  \\\n",
       "0    -0.150063 -0.171128  0.124676  ... -0.108351 -0.077623 -0.009568   \n",
       "1    -0.222475 -0.207693  0.170883  ... -0.090974 -0.056510 -0.035303   \n",
       "2    -0.242234 -0.219153  0.232538  ... -0.050691 -0.023590 -0.066722   \n",
       "3    -0.194347 -0.098181  0.270375  ... -0.136009 -0.177037 -0.130498   \n",
       "4    -0.265423 -0.172700  0.266434  ... -0.048885 -0.053074 -0.088550   \n",
       "...        ...       ...       ...  ...       ...       ...       ...   \n",
       "7190 -0.100753  0.037087  0.081075  ...  0.069430  0.071001  0.021591   \n",
       "7191 -0.116460  0.063727  0.089034  ...  0.061127  0.068978  0.017745   \n",
       "7192 -0.103317  0.070370  0.081317  ...  0.082474  0.077771 -0.009688   \n",
       "7193 -0.115799  0.056979  0.089316  ...  0.051796  0.069073  0.017963   \n",
       "7194 -0.117672  0.058874  0.076180  ...  0.061455  0.072983 -0.003980   \n",
       "\n",
       "      MFCCs_20  MFCCs_21  MFCCs_22           Family      Genus  \\\n",
       "0     0.057684  0.118680  0.014038  Leptodactylidae  Adenomera   \n",
       "1     0.020140  0.082263  0.029056  Leptodactylidae  Adenomera   \n",
       "2    -0.025083  0.099108  0.077162  Leptodactylidae  Adenomera   \n",
       "3    -0.054766 -0.018691  0.023954  Leptodactylidae  Adenomera   \n",
       "4    -0.031346  0.108610  0.079244  Leptodactylidae  Adenomera   \n",
       "...        ...       ...       ...              ...        ...   \n",
       "7190  0.052449 -0.021860 -0.079860          Hylidae     Scinax   \n",
       "7191  0.046461 -0.015418 -0.101892          Hylidae     Scinax   \n",
       "7192  0.027834 -0.000531 -0.080425          Hylidae     Scinax   \n",
       "7193  0.041803 -0.027911 -0.096895          Hylidae     Scinax   \n",
       "7194  0.031560 -0.029355 -0.087910          Hylidae     Scinax   \n",
       "\n",
       "             Species  RecordID  \n",
       "0     AdenomeraAndre         1  \n",
       "1     AdenomeraAndre         1  \n",
       "2     AdenomeraAndre         1  \n",
       "3     AdenomeraAndre         1  \n",
       "4     AdenomeraAndre         1  \n",
       "...              ...       ...  \n",
       "7190     ScinaxRuber        60  \n",
       "7191     ScinaxRuber        60  \n",
       "7192     ScinaxRuber        60  \n",
       "7193     ScinaxRuber        60  \n",
       "7194     ScinaxRuber        60  \n",
       "\n",
       "[7195 rows x 26 columns]"
      ]
     },
     "execution_count": 2,
     "metadata": {},
     "output_type": "execute_result"
    }
   ],
   "source": [
    "data=pd.read_csv('../data/Anuran Calls (MFCCs)/Frogs_MFCCs.csv')\n",
    "data #take a look at the data"
   ]
  },
  {
   "cell_type": "code",
   "execution_count": 3,
   "metadata": {},
   "outputs": [
    {
     "data": {
      "text/html": [
       "<div>\n",
       "<style scoped>\n",
       "    .dataframe tbody tr th:only-of-type {\n",
       "        vertical-align: middle;\n",
       "    }\n",
       "\n",
       "    .dataframe tbody tr th {\n",
       "        vertical-align: top;\n",
       "    }\n",
       "\n",
       "    .dataframe thead th {\n",
       "        text-align: right;\n",
       "    }\n",
       "</style>\n",
       "<table border=\"1\" class=\"dataframe\">\n",
       "  <thead>\n",
       "    <tr style=\"text-align: right;\">\n",
       "      <th></th>\n",
       "      <th>MFCCs_ 1</th>\n",
       "      <th>MFCCs_ 2</th>\n",
       "      <th>MFCCs_ 3</th>\n",
       "      <th>MFCCs_ 4</th>\n",
       "      <th>MFCCs_ 5</th>\n",
       "      <th>MFCCs_ 6</th>\n",
       "      <th>MFCCs_ 7</th>\n",
       "      <th>MFCCs_ 8</th>\n",
       "      <th>MFCCs_ 9</th>\n",
       "      <th>MFCCs_10</th>\n",
       "      <th>...</th>\n",
       "      <th>MFCCs_13</th>\n",
       "      <th>MFCCs_14</th>\n",
       "      <th>MFCCs_15</th>\n",
       "      <th>MFCCs_16</th>\n",
       "      <th>MFCCs_17</th>\n",
       "      <th>MFCCs_18</th>\n",
       "      <th>MFCCs_19</th>\n",
       "      <th>MFCCs_20</th>\n",
       "      <th>MFCCs_21</th>\n",
       "      <th>MFCCs_22</th>\n",
       "    </tr>\n",
       "  </thead>\n",
       "  <tbody>\n",
       "    <tr>\n",
       "      <th>2638</th>\n",
       "      <td>1.0</td>\n",
       "      <td>0.324796</td>\n",
       "      <td>0.312712</td>\n",
       "      <td>0.571277</td>\n",
       "      <td>0.117794</td>\n",
       "      <td>0.051736</td>\n",
       "      <td>-0.108748</td>\n",
       "      <td>0.021625</td>\n",
       "      <td>0.270109</td>\n",
       "      <td>0.056149</td>\n",
       "      <td>...</td>\n",
       "      <td>0.376238</td>\n",
       "      <td>-0.166292</td>\n",
       "      <td>-0.287838</td>\n",
       "      <td>0.093755</td>\n",
       "      <td>0.231317</td>\n",
       "      <td>0.009849</td>\n",
       "      <td>-0.128929</td>\n",
       "      <td>-0.151440</td>\n",
       "      <td>0.032300</td>\n",
       "      <td>0.211260</td>\n",
       "    </tr>\n",
       "    <tr>\n",
       "      <th>4029</th>\n",
       "      <td>1.0</td>\n",
       "      <td>0.343922</td>\n",
       "      <td>0.202815</td>\n",
       "      <td>0.554668</td>\n",
       "      <td>0.189612</td>\n",
       "      <td>-0.032036</td>\n",
       "      <td>-0.214515</td>\n",
       "      <td>-0.022074</td>\n",
       "      <td>0.275364</td>\n",
       "      <td>0.010725</td>\n",
       "      <td>...</td>\n",
       "      <td>0.337136</td>\n",
       "      <td>-0.082354</td>\n",
       "      <td>-0.243919</td>\n",
       "      <td>0.078113</td>\n",
       "      <td>0.168210</td>\n",
       "      <td>-0.040252</td>\n",
       "      <td>-0.158168</td>\n",
       "      <td>-0.178164</td>\n",
       "      <td>0.047615</td>\n",
       "      <td>0.240486</td>\n",
       "    </tr>\n",
       "    <tr>\n",
       "      <th>3359</th>\n",
       "      <td>1.0</td>\n",
       "      <td>0.157770</td>\n",
       "      <td>0.123564</td>\n",
       "      <td>0.518031</td>\n",
       "      <td>0.216295</td>\n",
       "      <td>0.048151</td>\n",
       "      <td>-0.099028</td>\n",
       "      <td>0.022988</td>\n",
       "      <td>0.235824</td>\n",
       "      <td>0.071091</td>\n",
       "      <td>...</td>\n",
       "      <td>0.350292</td>\n",
       "      <td>0.035715</td>\n",
       "      <td>-0.250754</td>\n",
       "      <td>-0.020449</td>\n",
       "      <td>0.223493</td>\n",
       "      <td>0.157406</td>\n",
       "      <td>-0.009409</td>\n",
       "      <td>-0.181462</td>\n",
       "      <td>-0.101058</td>\n",
       "      <td>0.158452</td>\n",
       "    </tr>\n",
       "    <tr>\n",
       "      <th>2789</th>\n",
       "      <td>1.0</td>\n",
       "      <td>0.446230</td>\n",
       "      <td>0.293763</td>\n",
       "      <td>0.521786</td>\n",
       "      <td>0.165828</td>\n",
       "      <td>0.064217</td>\n",
       "      <td>-0.067240</td>\n",
       "      <td>0.040621</td>\n",
       "      <td>0.282114</td>\n",
       "      <td>0.011836</td>\n",
       "      <td>...</td>\n",
       "      <td>0.423472</td>\n",
       "      <td>-0.027754</td>\n",
       "      <td>-0.253478</td>\n",
       "      <td>0.153014</td>\n",
       "      <td>0.240175</td>\n",
       "      <td>0.059994</td>\n",
       "      <td>0.007772</td>\n",
       "      <td>-0.060229</td>\n",
       "      <td>-0.014213</td>\n",
       "      <td>0.165095</td>\n",
       "    </tr>\n",
       "    <tr>\n",
       "      <th>3923</th>\n",
       "      <td>1.0</td>\n",
       "      <td>0.499275</td>\n",
       "      <td>0.295859</td>\n",
       "      <td>0.555787</td>\n",
       "      <td>0.196173</td>\n",
       "      <td>-0.025651</td>\n",
       "      <td>-0.114093</td>\n",
       "      <td>0.118516</td>\n",
       "      <td>0.322047</td>\n",
       "      <td>0.071258</td>\n",
       "      <td>...</td>\n",
       "      <td>0.360658</td>\n",
       "      <td>0.008901</td>\n",
       "      <td>-0.249021</td>\n",
       "      <td>-0.006190</td>\n",
       "      <td>0.183361</td>\n",
       "      <td>0.043871</td>\n",
       "      <td>-0.072323</td>\n",
       "      <td>-0.106102</td>\n",
       "      <td>0.035438</td>\n",
       "      <td>0.190355</td>\n",
       "    </tr>\n",
       "    <tr>\n",
       "      <th>...</th>\n",
       "      <td>...</td>\n",
       "      <td>...</td>\n",
       "      <td>...</td>\n",
       "      <td>...</td>\n",
       "      <td>...</td>\n",
       "      <td>...</td>\n",
       "      <td>...</td>\n",
       "      <td>...</td>\n",
       "      <td>...</td>\n",
       "      <td>...</td>\n",
       "      <td>...</td>\n",
       "      <td>...</td>\n",
       "      <td>...</td>\n",
       "      <td>...</td>\n",
       "      <td>...</td>\n",
       "      <td>...</td>\n",
       "      <td>...</td>\n",
       "      <td>...</td>\n",
       "      <td>...</td>\n",
       "      <td>...</td>\n",
       "      <td>...</td>\n",
       "    </tr>\n",
       "    <tr>\n",
       "      <th>356</th>\n",
       "      <td>1.0</td>\n",
       "      <td>0.618774</td>\n",
       "      <td>0.674925</td>\n",
       "      <td>0.564547</td>\n",
       "      <td>-0.187268</td>\n",
       "      <td>-0.028974</td>\n",
       "      <td>0.509547</td>\n",
       "      <td>0.086252</td>\n",
       "      <td>-0.266585</td>\n",
       "      <td>0.180334</td>\n",
       "      <td>...</td>\n",
       "      <td>-0.076202</td>\n",
       "      <td>0.139512</td>\n",
       "      <td>0.024253</td>\n",
       "      <td>-0.075820</td>\n",
       "      <td>0.059986</td>\n",
       "      <td>0.029501</td>\n",
       "      <td>-0.030409</td>\n",
       "      <td>0.024515</td>\n",
       "      <td>0.097357</td>\n",
       "      <td>-0.075564</td>\n",
       "    </tr>\n",
       "    <tr>\n",
       "      <th>7104</th>\n",
       "      <td>1.0</td>\n",
       "      <td>0.255767</td>\n",
       "      <td>0.379813</td>\n",
       "      <td>0.312270</td>\n",
       "      <td>0.283792</td>\n",
       "      <td>0.096846</td>\n",
       "      <td>-0.203001</td>\n",
       "      <td>0.075483</td>\n",
       "      <td>0.104501</td>\n",
       "      <td>-0.005680</td>\n",
       "      <td>...</td>\n",
       "      <td>0.006804</td>\n",
       "      <td>0.011851</td>\n",
       "      <td>-0.010567</td>\n",
       "      <td>0.087923</td>\n",
       "      <td>0.050572</td>\n",
       "      <td>0.004450</td>\n",
       "      <td>0.013495</td>\n",
       "      <td>-0.011554</td>\n",
       "      <td>0.027697</td>\n",
       "      <td>0.021368</td>\n",
       "    </tr>\n",
       "    <tr>\n",
       "      <th>4908</th>\n",
       "      <td>1.0</td>\n",
       "      <td>0.069835</td>\n",
       "      <td>0.087514</td>\n",
       "      <td>0.392737</td>\n",
       "      <td>0.237009</td>\n",
       "      <td>0.258090</td>\n",
       "      <td>0.083343</td>\n",
       "      <td>-0.312759</td>\n",
       "      <td>-0.151686</td>\n",
       "      <td>0.381647</td>\n",
       "      <td>...</td>\n",
       "      <td>-0.055604</td>\n",
       "      <td>0.335923</td>\n",
       "      <td>0.050359</td>\n",
       "      <td>-0.233119</td>\n",
       "      <td>-0.175891</td>\n",
       "      <td>0.045890</td>\n",
       "      <td>0.186029</td>\n",
       "      <td>0.206889</td>\n",
       "      <td>-0.029906</td>\n",
       "      <td>-0.285516</td>\n",
       "    </tr>\n",
       "    <tr>\n",
       "      <th>6276</th>\n",
       "      <td>1.0</td>\n",
       "      <td>0.151640</td>\n",
       "      <td>0.317315</td>\n",
       "      <td>0.288890</td>\n",
       "      <td>0.209712</td>\n",
       "      <td>0.272962</td>\n",
       "      <td>0.105791</td>\n",
       "      <td>-0.187052</td>\n",
       "      <td>-0.011356</td>\n",
       "      <td>0.127442</td>\n",
       "      <td>...</td>\n",
       "      <td>0.113878</td>\n",
       "      <td>-0.072290</td>\n",
       "      <td>-0.130444</td>\n",
       "      <td>0.043723</td>\n",
       "      <td>0.126357</td>\n",
       "      <td>0.043502</td>\n",
       "      <td>0.005903</td>\n",
       "      <td>-0.016535</td>\n",
       "      <td>-0.078534</td>\n",
       "      <td>0.019283</td>\n",
       "    </tr>\n",
       "    <tr>\n",
       "      <th>2933</th>\n",
       "      <td>1.0</td>\n",
       "      <td>0.251380</td>\n",
       "      <td>0.216083</td>\n",
       "      <td>0.556081</td>\n",
       "      <td>0.159532</td>\n",
       "      <td>0.098090</td>\n",
       "      <td>-0.067860</td>\n",
       "      <td>0.021326</td>\n",
       "      <td>0.271163</td>\n",
       "      <td>0.102541</td>\n",
       "      <td>...</td>\n",
       "      <td>0.399472</td>\n",
       "      <td>-0.137104</td>\n",
       "      <td>-0.261332</td>\n",
       "      <td>0.209356</td>\n",
       "      <td>0.259244</td>\n",
       "      <td>-0.006333</td>\n",
       "      <td>-0.061217</td>\n",
       "      <td>-0.072738</td>\n",
       "      <td>0.109412</td>\n",
       "      <td>0.254989</td>\n",
       "    </tr>\n",
       "  </tbody>\n",
       "</table>\n",
       "<p>5036 rows × 22 columns</p>\n",
       "</div>"
      ],
      "text/plain": [
       "      MFCCs_ 1  MFCCs_ 2  MFCCs_ 3  MFCCs_ 4  MFCCs_ 5  MFCCs_ 6  MFCCs_ 7  \\\n",
       "2638       1.0  0.324796  0.312712  0.571277  0.117794  0.051736 -0.108748   \n",
       "4029       1.0  0.343922  0.202815  0.554668  0.189612 -0.032036 -0.214515   \n",
       "3359       1.0  0.157770  0.123564  0.518031  0.216295  0.048151 -0.099028   \n",
       "2789       1.0  0.446230  0.293763  0.521786  0.165828  0.064217 -0.067240   \n",
       "3923       1.0  0.499275  0.295859  0.555787  0.196173 -0.025651 -0.114093   \n",
       "...        ...       ...       ...       ...       ...       ...       ...   \n",
       "356        1.0  0.618774  0.674925  0.564547 -0.187268 -0.028974  0.509547   \n",
       "7104       1.0  0.255767  0.379813  0.312270  0.283792  0.096846 -0.203001   \n",
       "4908       1.0  0.069835  0.087514  0.392737  0.237009  0.258090  0.083343   \n",
       "6276       1.0  0.151640  0.317315  0.288890  0.209712  0.272962  0.105791   \n",
       "2933       1.0  0.251380  0.216083  0.556081  0.159532  0.098090 -0.067860   \n",
       "\n",
       "      MFCCs_ 8  MFCCs_ 9  MFCCs_10  ...  MFCCs_13  MFCCs_14  MFCCs_15  \\\n",
       "2638  0.021625  0.270109  0.056149  ...  0.376238 -0.166292 -0.287838   \n",
       "4029 -0.022074  0.275364  0.010725  ...  0.337136 -0.082354 -0.243919   \n",
       "3359  0.022988  0.235824  0.071091  ...  0.350292  0.035715 -0.250754   \n",
       "2789  0.040621  0.282114  0.011836  ...  0.423472 -0.027754 -0.253478   \n",
       "3923  0.118516  0.322047  0.071258  ...  0.360658  0.008901 -0.249021   \n",
       "...        ...       ...       ...  ...       ...       ...       ...   \n",
       "356   0.086252 -0.266585  0.180334  ... -0.076202  0.139512  0.024253   \n",
       "7104  0.075483  0.104501 -0.005680  ...  0.006804  0.011851 -0.010567   \n",
       "4908 -0.312759 -0.151686  0.381647  ... -0.055604  0.335923  0.050359   \n",
       "6276 -0.187052 -0.011356  0.127442  ...  0.113878 -0.072290 -0.130444   \n",
       "2933  0.021326  0.271163  0.102541  ...  0.399472 -0.137104 -0.261332   \n",
       "\n",
       "      MFCCs_16  MFCCs_17  MFCCs_18  MFCCs_19  MFCCs_20  MFCCs_21  MFCCs_22  \n",
       "2638  0.093755  0.231317  0.009849 -0.128929 -0.151440  0.032300  0.211260  \n",
       "4029  0.078113  0.168210 -0.040252 -0.158168 -0.178164  0.047615  0.240486  \n",
       "3359 -0.020449  0.223493  0.157406 -0.009409 -0.181462 -0.101058  0.158452  \n",
       "2789  0.153014  0.240175  0.059994  0.007772 -0.060229 -0.014213  0.165095  \n",
       "3923 -0.006190  0.183361  0.043871 -0.072323 -0.106102  0.035438  0.190355  \n",
       "...        ...       ...       ...       ...       ...       ...       ...  \n",
       "356  -0.075820  0.059986  0.029501 -0.030409  0.024515  0.097357 -0.075564  \n",
       "7104  0.087923  0.050572  0.004450  0.013495 -0.011554  0.027697  0.021368  \n",
       "4908 -0.233119 -0.175891  0.045890  0.186029  0.206889 -0.029906 -0.285516  \n",
       "6276  0.043723  0.126357  0.043502  0.005903 -0.016535 -0.078534  0.019283  \n",
       "2933  0.209356  0.259244 -0.006333 -0.061217 -0.072738  0.109412  0.254989  \n",
       "\n",
       "[5036 rows x 22 columns]"
      ]
     },
     "execution_count": 3,
     "metadata": {},
     "output_type": "execute_result"
    }
   ],
   "source": [
    "from sklearn.model_selection import train_test_split\n",
    "\n",
    "X_set=data.iloc[:,:-4]\n",
    "Y_set=data.iloc[:,-4:-1] # Families, Genus, and Species are labels\n",
    "X_train,X_test,Y_train,Y_test=train_test_split(X_set,Y_set,test_size=0.3,random_state=22)\n",
    "X_train"
   ]
  },
  {
   "cell_type": "markdown",
   "metadata": {},
   "source": [
    "(b) Each instance has three labels: Families, Genus, and Species. Each of the labels has multiple classes. We wish to solve a multi-class and multi-label problem. One of the most important approaches to multi-label classification is to train a classifier for each label (binary relevance). We first try this approach:\n",
    "<br>\n",
    "<br>i. Research exact match and hamming score/ loss methods for evaluating multi-label classification and use them in evaluating the classifiers in this problem."
   ]
  },
  {
   "cell_type": "markdown",
   "metadata": {},
   "source": [
    "(1)Exact match: the percentage/accuracy of samples whose predicted set of labels exactly match with the true set of labels.\n",
    "<br>(2)Hamming score: the average of correctly predicted label intersection over labels union for each sample\n",
    "<br>(3)Hamming loss: the fraction of the wrong labels to the total number of labels."
   ]
  },
  {
   "cell_type": "markdown",
   "metadata": {},
   "source": [
    "The below snippet code of defining hamming score function refers from this website: https://www.linkedin.com/pulse/hamming-score-multi-label-classification-chandra-sharat"
   ]
  },
  {
   "cell_type": "code",
   "execution_count": 15,
   "metadata": {},
   "outputs": [],
   "source": [
    "# reference website: https://www.linkedin.com/pulse/hamming-score-multi-label-classification-chandra-sharat\n",
    "def hamming_score(y_true, y_pred):\n",
    "    acc_list = []\n",
    "    for i in range(y_true.shape[0]):\n",
    "        set_true = set( np.where(y_true[i])[0] )\n",
    "        set_pred = set( np.where(y_pred[i])[0] )\n",
    "        tmp_a = None\n",
    "        if len(set_true) == 0 and len(set_pred) == 0:\n",
    "            tmp_a = 1\n",
    "        else:\n",
    "            tmp_a = len(set_true.intersection(set_pred))/float( len(set_true.union(set_pred)) )\n",
    "        acc_list.append(tmp_a)\n",
    "    return np.mean(acc_list)"
   ]
  },
  {
   "cell_type": "markdown",
   "metadata": {},
   "source": [
    "But it seems it is for binary classification only, here it is a multiclass classification problem, so Hamming score should be like the \n",
    "average proportion of the predicted correct labels to the total number of labels over all instances(refers from \"Accuracy (A)\" in the paper 《A Literature Survey on Algorithms for Multi-label Learning》, by Mohammad Sorower), which is equal to 1-Hammingloss here."
   ]
  },
  {
   "cell_type": "markdown",
   "metadata": {},
   "source": [
    "ii. Train a SVM for each of the labels, using Gaussian kernels and one versus all classifiers. Determine the weight of the SVM penalty and \n",
    "the width of the Gaussian Kernel using 10 fold cross validation. You are welcome to try to solve the problem with both standardized and raw \n",
    "attributes and report the results."
   ]
  },
  {
   "cell_type": "code",
   "execution_count": 34,
   "metadata": {},
   "outputs": [
    {
     "name": "stdout",
     "output_type": "stream",
     "text": [
      "[0, 1, 2, 3] represent ['Bufonidae' 'Dendrobatidae' 'Hylidae' 'Leptodactylidae'] respectively\n"
     ]
    }
   ],
   "source": [
    "from sklearn import preprocessing\n",
    "\n",
    "le1 = preprocessing.LabelEncoder() # encode 4 Families, 8 Genus and 10 species with integers\n",
    "Y1_train=Y_train['Family']\n",
    "Y1_train=le1.fit_transform(Y1_train)\n",
    "print(list(range(4)),'represent',le1.inverse_transform([0,1,2,3]),'respectively') "
   ]
  },
  {
   "cell_type": "code",
   "execution_count": 35,
   "metadata": {},
   "outputs": [
    {
     "name": "stdout",
     "output_type": "stream",
     "text": [
      "[0, 1, 2, 3, 4, 5, 6, 7] represent ['Adenomera' 'Ameerega' 'Dendropsophus' 'Hypsiboas' 'Leptodactylus'\n",
      " 'Osteocephalus' 'Rhinella' 'Scinax'] respectively\n"
     ]
    }
   ],
   "source": [
    "le2 = preprocessing.LabelEncoder()\n",
    "Y2_train=Y_train['Genus']\n",
    "Y2_train=le2.fit_transform(Y2_train)\n",
    "print(list(range(8)),'represent',le2.inverse_transform([0,1,2,3,4,5,6,7]),'respectively')"
   ]
  },
  {
   "cell_type": "code",
   "execution_count": 36,
   "metadata": {},
   "outputs": [
    {
     "name": "stdout",
     "output_type": "stream",
     "text": [
      "[0, 1, 2, 3, 4, 5, 6, 7, 8, 9] represent ['AdenomeraAndre' 'AdenomeraHylaedactylus' 'Ameeregatrivittata'\n",
      " 'HylaMinuta' 'HypsiboasCinerascens' 'HypsiboasCordobae'\n",
      " 'LeptodactylusFuscus' 'OsteocephalusOophagus' 'Rhinellagranulosa'\n",
      " 'ScinaxRuber'] respectively\n"
     ]
    }
   ],
   "source": [
    "le3 = preprocessing.LabelEncoder()\n",
    "Y3_train=Y_train['Species']\n",
    "Y3_train=le3.fit_transform(Y3_train)\n",
    "print(list(range(10)),'represent',le3.inverse_transform([0,1,2,3,4,5,6,7,8,9]),'respectively')"
   ]
  },
  {
   "cell_type": "code",
   "execution_count": 6,
   "metadata": {},
   "outputs": [],
   "source": [
    "y1_train=Y_train['Family']\n",
    "y2_train=Y_train['Genus']\n",
    "y3_train=Y_train['Species']\n",
    "y1_test=Y_test['Family']\n",
    "y2_test=Y_test['Genus']\n",
    "y3_test=Y_test['Species']"
   ]
  },
  {
   "cell_type": "code",
   "execution_count": 46,
   "metadata": {},
   "outputs": [],
   "source": [
    "from sklearn import preprocessing\n",
    "\n",
    "std=preprocessing.StandardScaler()\n",
    "std.fit(X_train)\n",
    "X_train_std=std.transform(X_train)\n",
    "X_test_std=std.transform(X_test)"
   ]
  },
  {
   "cell_type": "code",
   "execution_count": 56,
   "metadata": {},
   "outputs": [
    {
     "name": "stdout",
     "output_type": "stream",
     "text": [
      "For SVC predicting label \"Family\", the best c is 10 and the best gamma is 1.7000000000000004\n"
     ]
    },
    {
     "name": "stderr",
     "output_type": "stream",
     "text": [
      "E:\\usc\\anaconda\\lib\\site-packages\\sklearn\\svm\\_base.py:284: ConvergenceWarning: Solver terminated early (max_iter=100).  Consider pre-processing your data with StandardScaler or MinMaxScaler.\n",
      "  warnings.warn(\n"
     ]
    }
   ],
   "source": [
    "from sklearn.svm import SVC\n",
    "from sklearn.model_selection import GridSearchCV\n",
    "\n",
    "lambdas=[]\n",
    "log_l=range(-3,5)\n",
    "for i in log_l:\n",
    "    lambdas.append(10**i)\n",
    "gammas=np.arange(0.1,2.1,0.2)\n",
    "\n",
    "svc=SVC(kernel='rbf', random_state=22, max_iter = 100, decision_function_shape='ovr') # train Gaussian kernels and one versus all classifiers\n",
    "parameters={'C':lambdas,'gamma':gammas}\n",
    "\n",
    "gs1 = GridSearchCV(svc, parameters, cv=10 ,n_jobs=-1).fit(X_train, y1_train)\n",
    "c1=gs1.best_params_['C']\n",
    "gamma1=gs1.best_params_['gamma']\n",
    "print('For SVC predicting label \"Family\",','the best c is',c1,'and the best gamma is',gamma1)"
   ]
  },
  {
   "cell_type": "code",
   "execution_count": 49,
   "metadata": {},
   "outputs": [
    {
     "name": "stdout",
     "output_type": "stream",
     "text": [
      "For SVC predicting label \"Genus\", the best c is 10 and the best gamma is 1.9000000000000004\n"
     ]
    },
    {
     "name": "stderr",
     "output_type": "stream",
     "text": [
      "E:\\usc\\anaconda\\lib\\site-packages\\sklearn\\svm\\_base.py:284: ConvergenceWarning: Solver terminated early (max_iter=100).  Consider pre-processing your data with StandardScaler or MinMaxScaler.\n",
      "  warnings.warn(\n"
     ]
    }
   ],
   "source": [
    "gs2 = GridSearchCV(svc, parameters, cv=10 ,n_jobs=-1).fit(X_train, y2_train)\n",
    "c2=gs2.best_params_['C']\n",
    "gamma2=gs2.best_params_['gamma']\n",
    "print('For SVC predicting label \"Genus\",','the best c is',c2,'and the best gamma is',gamma2)"
   ]
  },
  {
   "cell_type": "code",
   "execution_count": 50,
   "metadata": {},
   "outputs": [
    {
     "name": "stdout",
     "output_type": "stream",
     "text": [
      "For SVC predicting label \"Species\", the best c is 10 and the best gamma is 1.7000000000000004\n"
     ]
    },
    {
     "name": "stderr",
     "output_type": "stream",
     "text": [
      "E:\\usc\\anaconda\\lib\\site-packages\\sklearn\\svm\\_base.py:284: ConvergenceWarning: Solver terminated early (max_iter=100).  Consider pre-processing your data with StandardScaler or MinMaxScaler.\n",
      "  warnings.warn(\n"
     ]
    }
   ],
   "source": [
    "gs3 = GridSearchCV(svc, parameters, cv=10 ,n_jobs=-1).fit(X_train, y3_train)\n",
    "c3=gs3.best_params_['C']\n",
    "gamma3=gs3.best_params_['gamma']\n",
    "print('For SVC predicting label \"Species\",','the best c is',c3,'and the best gamma is',gamma3)"
   ]
  },
  {
   "cell_type": "code",
   "execution_count": 58,
   "metadata": {},
   "outputs": [
    {
     "name": "stdout",
     "output_type": "stream",
     "text": [
      "['Leptodactylidae' 'Hylidae' 'Leptodactylidae' ... 'Hylidae'\n",
      " 'Dendrobatidae' 'Hylidae']\n"
     ]
    },
    {
     "name": "stderr",
     "output_type": "stream",
     "text": [
      "E:\\usc\\anaconda\\lib\\site-packages\\sklearn\\svm\\_base.py:284: ConvergenceWarning: Solver terminated early (max_iter=100).  Consider pre-processing your data with StandardScaler or MinMaxScaler.\n",
      "  warnings.warn(\n"
     ]
    }
   ],
   "source": [
    "svc1=SVC(C=c1,gamma=gamma1,kernel='rbf',random_state=22,max_iter=100,decision_function_shape='ovr')\n",
    "svc1.fit(X_train, y1_train) # re-train the model with whole training data\n",
    "y1_pred=svc1.predict(X_test)\n",
    "print(y1_pred)"
   ]
  },
  {
   "cell_type": "code",
   "execution_count": 59,
   "metadata": {},
   "outputs": [
    {
     "name": "stdout",
     "output_type": "stream",
     "text": [
      "['Adenomera' 'Hypsiboas' 'Adenomera' ... 'Dendropsophus' 'Ameerega'\n",
      " 'Hypsiboas']\n"
     ]
    },
    {
     "name": "stderr",
     "output_type": "stream",
     "text": [
      "E:\\usc\\anaconda\\lib\\site-packages\\sklearn\\svm\\_base.py:284: ConvergenceWarning: Solver terminated early (max_iter=100).  Consider pre-processing your data with StandardScaler or MinMaxScaler.\n",
      "  warnings.warn(\n"
     ]
    }
   ],
   "source": [
    "svc2=SVC(C=c2,gamma=gamma2,kernel='rbf',random_state=22,max_iter=100,decision_function_shape='ovr')\n",
    "svc2.fit(X_train, y2_train) # re-train the model with whole training data\n",
    "y2_pred=svc2.predict(X_test)\n",
    "print(y2_pred)"
   ]
  },
  {
   "cell_type": "code",
   "execution_count": 60,
   "metadata": {},
   "outputs": [
    {
     "name": "stdout",
     "output_type": "stream",
     "text": [
      "['AdenomeraHylaedactylus' 'HypsiboasCordobae' 'AdenomeraHylaedactylus' ...\n",
      " 'HylaMinuta' 'Ameeregatrivittata' 'HypsiboasCinerascens']\n"
     ]
    },
    {
     "name": "stderr",
     "output_type": "stream",
     "text": [
      "E:\\usc\\anaconda\\lib\\site-packages\\sklearn\\svm\\_base.py:284: ConvergenceWarning: Solver terminated early (max_iter=100).  Consider pre-processing your data with StandardScaler or MinMaxScaler.\n",
      "  warnings.warn(\n"
     ]
    }
   ],
   "source": [
    "svc3=SVC(C=c3,gamma=gamma3,kernel='rbf',random_state=22,max_iter=100,decision_function_shape='ovr')\n",
    "svc3.fit(X_train, y3_train) # re-train the model with whole training data\n",
    "y3_pred=svc3.predict(X_test)\n",
    "print(y3_pred)"
   ]
  },
  {
   "cell_type": "code",
   "execution_count": 63,
   "metadata": {},
   "outputs": [
    {
     "name": "stdout",
     "output_type": "stream",
     "text": [
      "[('Leptodactylidae', 'Adenomera', 'AdenomeraHylaedactylus'), ('Hylidae', 'Hypsiboas', 'HypsiboasCordobae'), ('Leptodactylidae', 'Adenomera', 'AdenomeraHylaedactylus'), ('Leptodactylidae', 'Adenomera', 'AdenomeraHylaedactylus'), ('Hylidae', 'Dendropsophus', 'HylaMinuta'), ('Hylidae', 'Hypsiboas', 'HypsiboasCordobae'), ('Leptodactylidae', 'Leptodactylus', 'LeptodactylusFuscus'), ('Leptodactylidae', 'Adenomera', 'AdenomeraAndre'), ('Leptodactylidae', 'Adenomera', 'AdenomeraHylaedactylus'), ('Hylidae', 'Dendropsophus', 'HylaMinuta'), ('Dendrobatidae', 'Ameerega', 'Ameeregatrivittata'), ('Leptodactylidae', 'Adenomera', 'AdenomeraHylaedactylus'), ('Leptodactylidae', 'Adenomera', 'AdenomeraHylaedactylus'), ('Leptodactylidae', 'Adenomera', 'AdenomeraAndre'), ('Leptodactylidae', 'Adenomera', 'AdenomeraHylaedactylus'), ('Leptodactylidae', 'Adenomera', 'AdenomeraAndre'), ('Leptodactylidae', 'Adenomera', 'AdenomeraHylaedactylus'), ('Hylidae', 'Hypsiboas', 'HypsiboasCordobae'), ('Dendrobatidae', 'Ameerega', 'Ameeregatrivittata'), ('Hylidae', 'Hypsiboas', 'HypsiboasCordobae'), ('Bufonidae', 'Rhinella', 'Rhinellagranulosa'), ('Hylidae', 'Hypsiboas', 'HypsiboasCordobae'), ('Hylidae', 'Hypsiboas', 'HypsiboasCordobae'), ('Leptodactylidae', 'Adenomera', 'AdenomeraAndre'), ('Leptodactylidae', 'Adenomera', 'AdenomeraHylaedactylus'), ('Leptodactylidae', 'Adenomera', 'AdenomeraHylaedactylus'), ('Leptodactylidae', 'Adenomera', 'AdenomeraHylaedactylus'), ('Hylidae', 'Hypsiboas', 'HypsiboasCinerascens'), ('Hylidae', 'Hypsiboas', 'HypsiboasCinerascens'), ('Leptodactylidae', 'Adenomera', 'AdenomeraHylaedactylus'), ('Hylidae', 'Hypsiboas', 'HypsiboasCordobae'), ('Leptodactylidae', 'Adenomera', 'AdenomeraHylaedactylus'), ('Hylidae', 'Hypsiboas', 'HypsiboasCordobae'), ('Leptodactylidae', 'Adenomera', 'AdenomeraAndre'), ('Leptodactylidae', 'Adenomera', 'AdenomeraHylaedactylus'), ('Leptodactylidae', 'Adenomera', 'AdenomeraHylaedactylus'), ('Hylidae', 'Hypsiboas', 'HypsiboasCordobae'), ('Leptodactylidae', 'Adenomera', 'AdenomeraAndre'), ('Leptodactylidae', 'Adenomera', 'AdenomeraAndre'), ('Leptodactylidae', 'Adenomera', 'AdenomeraAndre'), ('Hylidae', 'Hypsiboas', 'HypsiboasCordobae'), ('Leptodactylidae', 'Adenomera', 'AdenomeraHylaedactylus'), ('Leptodactylidae', 'Adenomera', 'AdenomeraHylaedactylus'), ('Dendrobatidae', 'Ameerega', 'Ameeregatrivittata'), ('Dendrobatidae', 'Ameerega', 'Ameeregatrivittata'), ('Hylidae', 'Osteocephalus', 'OsteocephalusOophagus'), ('Hylidae', 'Dendropsophus', 'HylaMinuta'), ('Hylidae', 'Hypsiboas', 'HypsiboasCordobae'), ('Hylidae', 'Hypsiboas', 'HypsiboasCordobae'), ('Hylidae', 'Dendropsophus', 'HylaMinuta'), ('Leptodactylidae', 'Adenomera', 'AdenomeraHylaedactylus'), ('Leptodactylidae', 'Adenomera', 'AdenomeraAndre'), ('Leptodactylidae', 'Adenomera', 'AdenomeraHylaedactylus'), ('Hylidae', 'Hypsiboas', 'HypsiboasCordobae'), ('Leptodactylidae', 'Adenomera', 'AdenomeraHylaedactylus'), ('Hylidae', 'Osteocephalus', 'OsteocephalusOophagus'), ('Leptodactylidae', 'Leptodactylus', 'LeptodactylusFuscus'), ('Leptodactylidae', 'Adenomera', 'AdenomeraHylaedactylus'), ('Leptodactylidae', 'Adenomera', 'AdenomeraHylaedactylus'), ('Leptodactylidae', 'Adenomera', 'AdenomeraHylaedactylus'), ('Leptodactylidae', 'Adenomera', 'AdenomeraHylaedactylus'), ('Leptodactylidae', 'Adenomera', 'AdenomeraHylaedactylus'), ('Leptodactylidae', 'Adenomera', 'AdenomeraHylaedactylus'), ('Leptodactylidae', 'Adenomera', 'AdenomeraAndre'), ('Leptodactylidae', 'Adenomera', 'AdenomeraHylaedactylus'), ('Hylidae', 'Dendropsophus', 'HylaMinuta'), ('Leptodactylidae', 'Adenomera', 'AdenomeraHylaedactylus'), ('Leptodactylidae', 'Adenomera', 'AdenomeraHylaedactylus'), ('Leptodactylidae', 'Adenomera', 'AdenomeraHylaedactylus'), ('Leptodactylidae', 'Adenomera', 'AdenomeraHylaedactylus'), ('Bufonidae', 'Rhinella', 'Rhinellagranulosa'), ('Leptodactylidae', 'Adenomera', 'AdenomeraHylaedactylus'), ('Leptodactylidae', 'Adenomera', 'AdenomeraAndre'), ('Hylidae', 'Hypsiboas', 'HypsiboasCordobae'), ('Dendrobatidae', 'Ameerega', 'Ameeregatrivittata'), ('Hylidae', 'Dendropsophus', 'HylaMinuta'), ('Leptodactylidae', 'Adenomera', 'AdenomeraHylaedactylus'), ('Dendrobatidae', 'Ameerega', 'Ameeregatrivittata'), ('Leptodactylidae', 'Leptodactylus', 'LeptodactylusFuscus'), ('Leptodactylidae', 'Adenomera', 'AdenomeraAndre'), ('Hylidae', 'Hypsiboas', 'HypsiboasCordobae'), ('Leptodactylidae', 'Adenomera', 'AdenomeraHylaedactylus'), ('Leptodactylidae', 'Adenomera', 'AdenomeraHylaedactylus'), ('Leptodactylidae', 'Adenomera', 'AdenomeraHylaedactylus'), ('Dendrobatidae', 'Ameerega', 'Ameeregatrivittata'), ('Leptodactylidae', 'Adenomera', 'AdenomeraHylaedactylus'), ('Leptodactylidae', 'Adenomera', 'AdenomeraAndre'), ('Hylidae', 'Hypsiboas', 'HypsiboasCinerascens'), ('Hylidae', 'Dendropsophus', 'HylaMinuta'), ('Hylidae', 'Hypsiboas', 'HypsiboasCinerascens'), ('Hylidae', 'Hypsiboas', 'HypsiboasCinerascens'), ('Leptodactylidae', 'Adenomera', 'AdenomeraHylaedactylus'), ('Leptodactylidae', 'Adenomera', 'AdenomeraAndre'), ('Dendrobatidae', 'Ameerega', 'Ameeregatrivittata'), ('Dendrobatidae', 'Ameerega', 'Ameeregatrivittata'), ('Leptodactylidae', 'Leptodactylus', 'LeptodactylusFuscus'), ('Hylidae', 'Hypsiboas', 'HypsiboasCinerascens'), ('Leptodactylidae', 'Adenomera', 'AdenomeraHylaedactylus'), ('Leptodactylidae', 'Adenomera', 'AdenomeraHylaedactylus'), ('Hylidae', 'Hypsiboas', 'HypsiboasCordobae'), ('Dendrobatidae', 'Ameerega', 'Ameeregatrivittata'), ('Leptodactylidae', 'Leptodactylus', 'LeptodactylusFuscus'), ('Dendrobatidae', 'Ameerega', 'Ameeregatrivittata'), ('Hylidae', 'Hypsiboas', 'HypsiboasCordobae'), ('Leptodactylidae', 'Adenomera', 'AdenomeraHylaedactylus'), ('Hylidae', 'Scinax', 'ScinaxRuber'), ('Hylidae', 'Osteocephalus', 'OsteocephalusOophagus'), ('Leptodactylidae', 'Adenomera', 'AdenomeraHylaedactylus'), ('Leptodactylidae', 'Adenomera', 'AdenomeraAndre'), ('Hylidae', 'Hypsiboas', 'HypsiboasCinerascens'), ('Leptodactylidae', 'Leptodactylus', 'LeptodactylusFuscus'), ('Leptodactylidae', 'Adenomera', 'AdenomeraHylaedactylus'), ('Leptodactylidae', 'Adenomera', 'AdenomeraHylaedactylus'), ('Hylidae', 'Hypsiboas', 'HypsiboasCordobae'), ('Hylidae', 'Hypsiboas', 'HypsiboasCordobae'), ('Leptodactylidae', 'Adenomera', 'HylaMinuta'), ('Hylidae', 'Osteocephalus', 'OsteocephalusOophagus'), ('Leptodactylidae', 'Adenomera', 'AdenomeraHylaedactylus'), ('Leptodactylidae', 'Adenomera', 'AdenomeraAndre'), ('Leptodactylidae', 'Adenomera', 'AdenomeraHylaedactylus'), ('Hylidae', 'Hypsiboas', 'HypsiboasCordobae'), ('Hylidae', 'Hypsiboas', 'HypsiboasCordobae'), ('Leptodactylidae', 'Adenomera', 'AdenomeraHylaedactylus'), ('Hylidae', 'Hypsiboas', 'HypsiboasCordobae'), ('Hylidae', 'Hypsiboas', 'HypsiboasCinerascens'), ('Hylidae', 'Dendropsophus', 'HylaMinuta'), ('Leptodactylidae', 'Adenomera', 'AdenomeraHylaedactylus'), ('Leptodactylidae', 'Adenomera', 'AdenomeraAndre'), ('Leptodactylidae', 'Adenomera', 'AdenomeraHylaedactylus'), ('Leptodactylidae', 'Leptodactylus', 'LeptodactylusFuscus'), ('Leptodactylidae', 'Adenomera', 'AdenomeraHylaedactylus'), ('Leptodactylidae', 'Adenomera', 'AdenomeraHylaedactylus'), ('Hylidae', 'Hypsiboas', 'HypsiboasCinerascens'), ('Leptodactylidae', 'Adenomera', 'AdenomeraHylaedactylus'), ('Hylidae', 'Hypsiboas', 'HypsiboasCordobae'), ('Hylidae', 'Hypsiboas', 'HypsiboasCordobae'), ('Hylidae', 'Hypsiboas', 'HypsiboasCinerascens'), ('Leptodactylidae', 'Adenomera', 'AdenomeraHylaedactylus'), ('Hylidae', 'Hypsiboas', 'HypsiboasCordobae'), ('Hylidae', 'Dendropsophus', 'HylaMinuta'), ('Leptodactylidae', 'Adenomera', 'AdenomeraHylaedactylus'), ('Leptodactylidae', 'Adenomera', 'AdenomeraAndre'), ('Leptodactylidae', 'Adenomera', 'AdenomeraHylaedactylus'), ('Hylidae', 'Hypsiboas', 'HypsiboasCinerascens'), ('Hylidae', 'Hypsiboas', 'HypsiboasCordobae'), ('Hylidae', 'Osteocephalus', 'OsteocephalusOophagus'), ('Leptodactylidae', 'Adenomera', 'AdenomeraHylaedactylus'), ('Dendrobatidae', 'Ameerega', 'Ameeregatrivittata'), ('Hylidae', 'Hypsiboas', 'HypsiboasCordobae'), ('Leptodactylidae', 'Adenomera', 'AdenomeraAndre'), ('Leptodactylidae', 'Adenomera', 'AdenomeraHylaedactylus'), ('Dendrobatidae', 'Ameerega', 'Ameeregatrivittata'), ('Dendrobatidae', 'Ameerega', 'Ameeregatrivittata'), ('Hylidae', 'Hypsiboas', 'HypsiboasCordobae'), ('Leptodactylidae', 'Adenomera', 'AdenomeraHylaedactylus'), ('Bufonidae', 'Rhinella', 'Rhinellagranulosa'), ('Hylidae', 'Hypsiboas', 'HypsiboasCinerascens'), ('Leptodactylidae', 'Adenomera', 'AdenomeraAndre'), ('Hylidae', 'Hypsiboas', 'HypsiboasCordobae'), ('Leptodactylidae', 'Adenomera', 'AdenomeraHylaedactylus'), ('Hylidae', 'Hypsiboas', 'HypsiboasCordobae'), ('Hylidae', 'Hypsiboas', 'HypsiboasCordobae'), ('Leptodactylidae', 'Adenomera', 'AdenomeraHylaedactylus'), ('Hylidae', 'Hypsiboas', 'HypsiboasCordobae'), ('Leptodactylidae', 'Adenomera', 'AdenomeraHylaedactylus'), ('Dendrobatidae', 'Ameerega', 'Ameeregatrivittata'), ('Leptodactylidae', 'Adenomera', 'AdenomeraHylaedactylus'), ('Leptodactylidae', 'Adenomera', 'AdenomeraAndre'), ('Leptodactylidae', 'Adenomera', 'AdenomeraHylaedactylus'), ('Leptodactylidae', 'Adenomera', 'AdenomeraHylaedactylus'), ('Leptodactylidae', 'Leptodactylus', 'LeptodactylusFuscus'), ('Leptodactylidae', 'Adenomera', 'AdenomeraHylaedactylus'), ('Leptodactylidae', 'Adenomera', 'AdenomeraHylaedactylus'), ('Hylidae', 'Hypsiboas', 'HypsiboasCordobae'), ('Leptodactylidae', 'Adenomera', 'AdenomeraHylaedactylus'), ('Hylidae', 'Hypsiboas', 'HypsiboasCordobae'), ('Leptodactylidae', 'Adenomera', 'AdenomeraAndre'), ('Hylidae', 'Hypsiboas', 'HypsiboasCordobae'), ('Hylidae', 'Hypsiboas', 'HypsiboasCinerascens'), ('Leptodactylidae', 'Adenomera', 'AdenomeraHylaedactylus'), ('Hylidae', 'Hypsiboas', 'HypsiboasCinerascens'), ('Leptodactylidae', 'Adenomera', 'AdenomeraAndre'), ('Leptodactylidae', 'Adenomera', 'AdenomeraHylaedactylus'), ('Leptodactylidae', 'Adenomera', 'AdenomeraHylaedactylus'), ('Hylidae', 'Hypsiboas', 'HypsiboasCordobae'), ('Hylidae', 'Hypsiboas', 'HypsiboasCordobae'), ('Leptodactylidae', 'Adenomera', 'AdenomeraHylaedactylus'), ('Leptodactylidae', 'Leptodactylus', 'LeptodactylusFuscus'), ('Hylidae', 'Hypsiboas', 'HypsiboasCordobae'), ('Leptodactylidae', 'Adenomera', 'AdenomeraHylaedactylus'), ('Hylidae', 'Osteocephalus', 'OsteocephalusOophagus'), ('Hylidae', 'Scinax', 'ScinaxRuber'), ('Leptodactylidae', 'Adenomera', 'AdenomeraHylaedactylus'), ('Hylidae', 'Hypsiboas', 'HypsiboasCordobae'), ('Leptodactylidae', 'Adenomera', 'AdenomeraHylaedactylus'), ('Hylidae', 'Hypsiboas', 'HypsiboasCordobae'), ('Dendrobatidae', 'Ameerega', 'Ameeregatrivittata'), ('Leptodactylidae', 'Adenomera', 'AdenomeraHylaedactylus'), ('Hylidae', 'Dendropsophus', 'HylaMinuta'), ('Leptodactylidae', 'Adenomera', 'AdenomeraHylaedactylus'), ('Leptodactylidae', 'Adenomera', 'AdenomeraHylaedactylus'), ('Leptodactylidae', 'Adenomera', 'AdenomeraHylaedactylus'), ('Leptodactylidae', 'Adenomera', 'AdenomeraHylaedactylus'), ('Leptodactylidae', 'Adenomera', 'AdenomeraHylaedactylus'), ('Hylidae', 'Hypsiboas', 'HypsiboasCinerascens'), ('Hylidae', 'Hypsiboas', 'HypsiboasCordobae'), ('Dendrobatidae', 'Ameerega', 'Ameeregatrivittata'), ('Leptodactylidae', 'Adenomera', 'AdenomeraHylaedactylus'), ('Dendrobatidae', 'Ameerega', 'Ameeregatrivittata'), ('Leptodactylidae', 'Adenomera', 'AdenomeraAndre'), ('Hylidae', 'Hypsiboas', 'HypsiboasCordobae'), ('Dendrobatidae', 'Ameerega', 'Ameeregatrivittata'), ('Hylidae', 'Hypsiboas', 'HypsiboasCordobae'), ('Leptodactylidae', 'Adenomera', 'AdenomeraHylaedactylus'), ('Leptodactylidae', 'Adenomera', 'AdenomeraHylaedactylus'), ('Hylidae', 'Dendropsophus', 'HylaMinuta'), ('Leptodactylidae', 'Adenomera', 'AdenomeraHylaedactylus'), ('Leptodactylidae', 'Adenomera', 'AdenomeraHylaedactylus'), ('Hylidae', 'Hypsiboas', 'HypsiboasCordobae'), ('Leptodactylidae', 'Adenomera', 'AdenomeraHylaedactylus'), ('Hylidae', 'Hypsiboas', 'HypsiboasCordobae'), ('Hylidae', 'Adenomera', 'HylaMinuta'), ('Hylidae', 'Dendropsophus', 'HylaMinuta'), ('Leptodactylidae', 'Leptodactylus', 'LeptodactylusFuscus'), ('Hylidae', 'Hypsiboas', 'HypsiboasCinerascens'), ('Leptodactylidae', 'Adenomera', 'AdenomeraAndre'), ('Leptodactylidae', 'Adenomera', 'AdenomeraHylaedactylus'), ('Hylidae', 'Scinax', 'ScinaxRuber'), ('Leptodactylidae', 'Adenomera', 'AdenomeraHylaedactylus'), ('Hylidae', 'Hypsiboas', 'HypsiboasCinerascens'), ('Hylidae', 'Hypsiboas', 'HypsiboasCinerascens'), ('Leptodactylidae', 'Adenomera', 'AdenomeraAndre'), ('Hylidae', 'Hypsiboas', 'HypsiboasCinerascens'), ('Leptodactylidae', 'Adenomera', 'AdenomeraHylaedactylus'), ('Dendrobatidae', 'Ameerega', 'Ameeregatrivittata'), ('Hylidae', 'Hypsiboas', 'HypsiboasCinerascens'), ('Leptodactylidae', 'Adenomera', 'AdenomeraAndre'), ('Leptodactylidae', 'Adenomera', 'AdenomeraHylaedactylus'), ('Hylidae', 'Hypsiboas', 'HypsiboasCordobae'), ('Leptodactylidae', 'Adenomera', 'AdenomeraHylaedactylus'), ('Hylidae', 'Hypsiboas', 'HypsiboasCordobae'), ('Hylidae', 'Dendropsophus', 'HylaMinuta'), ('Leptodactylidae', 'Adenomera', 'AdenomeraHylaedactylus'), ('Dendrobatidae', 'Ameerega', 'Ameeregatrivittata'), ('Hylidae', 'Scinax', 'ScinaxRuber'), ('Hylidae', 'Hypsiboas', 'HypsiboasCordobae'), ('Dendrobatidae', 'Ameerega', 'Ameeregatrivittata'), ('Leptodactylidae', 'Adenomera', 'AdenomeraHylaedactylus'), ('Leptodactylidae', 'Adenomera', 'AdenomeraHylaedactylus'), ('Leptodactylidae', 'Adenomera', 'AdenomeraHylaedactylus'), ('Leptodactylidae', 'Adenomera', 'AdenomeraAndre'), ('Leptodactylidae', 'Adenomera', 'AdenomeraHylaedactylus'), ('Hylidae', 'Dendropsophus', 'HylaMinuta'), ('Hylidae', 'Scinax', 'ScinaxRuber'), ('Hylidae', 'Hypsiboas', 'HypsiboasCinerascens'), ('Dendrobatidae', 'Ameerega', 'Ameeregatrivittata'), ('Leptodactylidae', 'Hypsiboas', 'HypsiboasCinerascens'), ('Leptodactylidae', 'Adenomera', 'AdenomeraHylaedactylus'), ('Leptodactylidae', 'Adenomera', 'AdenomeraHylaedactylus'), ('Dendrobatidae', 'Ameerega', 'Ameeregatrivittata'), ('Leptodactylidae', 'Adenomera', 'AdenomeraHylaedactylus'), ('Leptodactylidae', 'Adenomera', 'AdenomeraHylaedactylus'), ('Hylidae', 'Hypsiboas', 'HypsiboasCinerascens'), ('Dendrobatidae', 'Ameerega', 'Ameeregatrivittata'), ('Leptodactylidae', 'Adenomera', 'AdenomeraHylaedactylus'), ('Dendrobatidae', 'Ameerega', 'Ameeregatrivittata'), ('Hylidae', 'Hypsiboas', 'HypsiboasCinerascens'), ('Leptodactylidae', 'Leptodactylus', 'LeptodactylusFuscus'), ('Leptodactylidae', 'Adenomera', 'AdenomeraHylaedactylus'), ('Leptodactylidae', 'Adenomera', 'AdenomeraAndre'), ('Dendrobatidae', 'Ameerega', 'Ameeregatrivittata'), ('Leptodactylidae', 'Adenomera', 'AdenomeraHylaedactylus'), ('Leptodactylidae', 'Adenomera', 'AdenomeraHylaedactylus'), ('Leptodactylidae', 'Adenomera', 'AdenomeraHylaedactylus'), ('Hylidae', 'Hypsiboas', 'HypsiboasCordobae'), ('Leptodactylidae', 'Adenomera', 'AdenomeraHylaedactylus'), ('Leptodactylidae', 'Adenomera', 'AdenomeraHylaedactylus'), ('Dendrobatidae', 'Ameerega', 'Ameeregatrivittata'), ('Leptodactylidae', 'Adenomera', 'AdenomeraHylaedactylus'), ('Leptodactylidae', 'Adenomera', 'AdenomeraHylaedactylus'), ('Leptodactylidae', 'Adenomera', 'AdenomeraHylaedactylus'), ('Leptodactylidae', 'Adenomera', 'AdenomeraHylaedactylus'), ('Dendrobatidae', 'Ameerega', 'Ameeregatrivittata'), ('Leptodactylidae', 'Adenomera', 'AdenomeraHylaedactylus'), ('Leptodactylidae', 'Adenomera', 'AdenomeraHylaedactylus'), ('Leptodactylidae', 'Adenomera', 'AdenomeraHylaedactylus'), ('Hylidae', 'Hypsiboas', 'HypsiboasCordobae'), ('Hylidae', 'Hypsiboas', 'HypsiboasCinerascens'), ('Leptodactylidae', 'Adenomera', 'AdenomeraHylaedactylus'), ('Hylidae', 'Hypsiboas', 'HypsiboasCordobae'), ('Hylidae', 'Hypsiboas', 'HypsiboasCordobae'), ('Hylidae', 'Scinax', 'ScinaxRuber'), ('Leptodactylidae', 'Adenomera', 'AdenomeraHylaedactylus'), ('Leptodactylidae', 'Adenomera', 'AdenomeraHylaedactylus'), ('Leptodactylidae', 'Adenomera', 'AdenomeraHylaedactylus'), ('Leptodactylidae', 'Adenomera', 'AdenomeraHylaedactylus'), ('Leptodactylidae', 'Leptodactylus', 'LeptodactylusFuscus'), ('Dendrobatidae', 'Ameerega', 'Ameeregatrivittata'), ('Hylidae', 'Hypsiboas', 'HypsiboasCordobae'), ('Leptodactylidae', 'Adenomera', 'AdenomeraHylaedactylus'), ('Dendrobatidae', 'Ameerega', 'Ameeregatrivittata'), ('Hylidae', 'Hypsiboas', 'HypsiboasCinerascens'), ('Dendrobatidae', 'Ameerega', 'Ameeregatrivittata'), ('Dendrobatidae', 'Ameerega', 'Ameeregatrivittata'), ('Leptodactylidae', 'Adenomera', 'AdenomeraAndre'), ('Hylidae', 'Dendropsophus', 'HylaMinuta'), ('Hylidae', 'Dendropsophus', 'HylaMinuta'), ('Leptodactylidae', 'Adenomera', 'AdenomeraHylaedactylus'), ('Leptodactylidae', 'Adenomera', 'AdenomeraHylaedactylus'), ('Leptodactylidae', 'Adenomera', 'AdenomeraHylaedactylus'), ('Leptodactylidae', 'Adenomera', 'AdenomeraHylaedactylus'), ('Leptodactylidae', 'Adenomera', 'AdenomeraAndre'), ('Leptodactylidae', 'Adenomera', 'AdenomeraHylaedactylus'), ('Leptodactylidae', 'Adenomera', 'AdenomeraHylaedactylus'), ('Leptodactylidae', 'Adenomera', 'AdenomeraAndre'), ('Leptodactylidae', 'Adenomera', 'AdenomeraHylaedactylus'), ('Leptodactylidae', 'Adenomera', 'AdenomeraAndre'), ('Hylidae', 'Hypsiboas', 'HypsiboasCordobae'), ('Leptodactylidae', 'Adenomera', 'AdenomeraHylaedactylus'), ('Leptodactylidae', 'Adenomera', 'AdenomeraHylaedactylus'), ('Hylidae', 'Hypsiboas', 'HypsiboasCordobae'), ('Leptodactylidae', 'Adenomera', 'AdenomeraAndre'), ('Leptodactylidae', 'Adenomera', 'AdenomeraHylaedactylus'), ('Leptodactylidae', 'Adenomera', 'AdenomeraAndre'), ('Hylidae', 'Hypsiboas', 'HypsiboasCordobae'), ('Leptodactylidae', 'Leptodactylus', 'LeptodactylusFuscus'), ('Hylidae', 'Hypsiboas', 'HypsiboasCinerascens'), ('Leptodactylidae', 'Adenomera', 'AdenomeraAndre'), ('Leptodactylidae', 'Leptodactylus', 'LeptodactylusFuscus'), ('Hylidae', 'Hypsiboas', 'HypsiboasCordobae'), ('Leptodactylidae', 'Adenomera', 'AdenomeraHylaedactylus'), ('Leptodactylidae', 'Adenomera', 'AdenomeraHylaedactylus'), ('Hylidae', 'Hypsiboas', 'HypsiboasCordobae'), ('Leptodactylidae', 'Adenomera', 'AdenomeraAndre'), ('Leptodactylidae', 'Adenomera', 'AdenomeraHylaedactylus'), ('Hylidae', 'Scinax', 'ScinaxRuber'), ('Hylidae', 'Hypsiboas', 'HypsiboasCordobae'), ('Leptodactylidae', 'Adenomera', 'AdenomeraHylaedactylus'), ('Leptodactylidae', 'Adenomera', 'AdenomeraHylaedactylus'), ('Hylidae', 'Hypsiboas', 'HypsiboasCordobae'), ('Leptodactylidae', 'Adenomera', 'AdenomeraHylaedactylus'), ('Leptodactylidae', 'Adenomera', 'AdenomeraHylaedactylus'), ('Hylidae', 'Hypsiboas', 'HypsiboasCordobae'), ('Hylidae', 'Hypsiboas', 'HypsiboasCordobae'), ('Leptodactylidae', 'Adenomera', 'AdenomeraHylaedactylus'), ('Hylidae', 'Hypsiboas', 'HypsiboasCordobae'), ('Leptodactylidae', 'Adenomera', 'AdenomeraHylaedactylus'), ('Leptodactylidae', 'Adenomera', 'AdenomeraHylaedactylus'), ('Dendrobatidae', 'Ameerega', 'Ameeregatrivittata'), ('Hylidae', 'Hypsiboas', 'HypsiboasCordobae'), ('Hylidae', 'Hypsiboas', 'HypsiboasCordobae'), ('Leptodactylidae', 'Adenomera', 'AdenomeraAndre'), ('Leptodactylidae', 'Adenomera', 'AdenomeraHylaedactylus'), ('Dendrobatidae', 'Ameerega', 'Ameeregatrivittata'), ('Leptodactylidae', 'Adenomera', 'AdenomeraHylaedactylus'), ('Leptodactylidae', 'Adenomera', 'AdenomeraAndre'), ('Leptodactylidae', 'Adenomera', 'AdenomeraHylaedactylus'), ('Hylidae', 'Hypsiboas', 'HypsiboasCordobae'), ('Leptodactylidae', 'Adenomera', 'AdenomeraHylaedactylus'), ('Dendrobatidae', 'Ameerega', 'Ameeregatrivittata'), ('Hylidae', 'Hypsiboas', 'HypsiboasCordobae'), ('Leptodactylidae', 'Adenomera', 'AdenomeraHylaedactylus'), ('Leptodactylidae', 'Adenomera', 'AdenomeraHylaedactylus'), ('Leptodactylidae', 'Adenomera', 'AdenomeraHylaedactylus'), ('Hylidae', 'Hypsiboas', 'HypsiboasCinerascens'), ('Leptodactylidae', 'Adenomera', 'AdenomeraHylaedactylus'), ('Leptodactylidae', 'Adenomera', 'AdenomeraHylaedactylus'), ('Leptodactylidae', 'Adenomera', 'AdenomeraHylaedactylus'), ('Hylidae', 'Dendropsophus', 'HylaMinuta'), ('Leptodactylidae', 'Adenomera', 'AdenomeraHylaedactylus'), ('Leptodactylidae', 'Leptodactylus', 'LeptodactylusFuscus'), ('Leptodactylidae', 'Adenomera', 'AdenomeraHylaedactylus'), ('Hylidae', 'Hypsiboas', 'HypsiboasCinerascens'), ('Leptodactylidae', 'Adenomera', 'AdenomeraHylaedactylus'), ('Leptodactylidae', 'Adenomera', 'AdenomeraHylaedactylus'), ('Leptodactylidae', 'Adenomera', 'AdenomeraHylaedactylus'), ('Leptodactylidae', 'Adenomera', 'AdenomeraHylaedactylus'), ('Bufonidae', 'Rhinella', 'Rhinellagranulosa'), ('Leptodactylidae', 'Adenomera', 'AdenomeraHylaedactylus'), ('Bufonidae', 'Rhinella', 'Rhinellagranulosa'), ('Hylidae', 'Hypsiboas', 'HypsiboasCordobae'), ('Dendrobatidae', 'Ameerega', 'Ameeregatrivittata'), ('Leptodactylidae', 'Adenomera', 'AdenomeraHylaedactylus'), ('Leptodactylidae', 'Adenomera', 'AdenomeraHylaedactylus'), ('Leptodactylidae', 'Adenomera', 'AdenomeraHylaedactylus'), ('Leptodactylidae', 'Adenomera', 'AdenomeraHylaedactylus'), ('Hylidae', 'Hypsiboas', 'HypsiboasCinerascens'), ('Hylidae', 'Hypsiboas', 'HypsiboasCinerascens'), ('Leptodactylidae', 'Adenomera', 'AdenomeraHylaedactylus'), ('Hylidae', 'Dendropsophus', 'HylaMinuta'), ('Hylidae', 'Hypsiboas', 'HypsiboasCinerascens'), ('Hylidae', 'Hypsiboas', 'HypsiboasCinerascens'), ('Leptodactylidae', 'Adenomera', 'AdenomeraHylaedactylus'), ('Leptodactylidae', 'Adenomera', 'AdenomeraAndre'), ('Leptodactylidae', 'Adenomera', 'AdenomeraHylaedactylus'), ('Leptodactylidae', 'Adenomera', 'AdenomeraAndre'), ('Hylidae', 'Hypsiboas', 'HypsiboasCinerascens'), ('Leptodactylidae', 'Adenomera', 'AdenomeraHylaedactylus'), ('Leptodactylidae', 'Adenomera', 'AdenomeraHylaedactylus'), ('Hylidae', 'Dendropsophus', 'HylaMinuta'), ('Dendrobatidae', 'Ameerega', 'Ameeregatrivittata'), ('Leptodactylidae', 'Adenomera', 'AdenomeraAndre'), ('Leptodactylidae', 'Adenomera', 'AdenomeraHylaedactylus'), ('Leptodactylidae', 'Adenomera', 'AdenomeraAndre'), ('Dendrobatidae', 'Ameerega', 'Ameeregatrivittata'), ('Leptodactylidae', 'Adenomera', 'AdenomeraHylaedactylus'), ('Leptodactylidae', 'Adenomera', 'AdenomeraHylaedactylus'), ('Hylidae', 'Hypsiboas', 'HypsiboasCordobae'), ('Hylidae', 'Hypsiboas', 'HypsiboasCordobae'), ('Leptodactylidae', 'Adenomera', 'AdenomeraAndre'), ('Leptodactylidae', 'Adenomera', 'AdenomeraHylaedactylus'), ('Bufonidae', 'Rhinella', 'Rhinellagranulosa'), ('Leptodactylidae', 'Adenomera', 'AdenomeraHylaedactylus'), ('Hylidae', 'Hypsiboas', 'HypsiboasCinerascens'), ('Hylidae', 'Scinax', 'ScinaxRuber'), ('Leptodactylidae', 'Adenomera', 'AdenomeraHylaedactylus'), ('Hylidae', 'Dendropsophus', 'HylaMinuta'), ('Hylidae', 'Hypsiboas', 'HypsiboasCordobae'), ('Leptodactylidae', 'Adenomera', 'AdenomeraHylaedactylus'), ('Leptodactylidae', 'Adenomera', 'AdenomeraHylaedactylus'), ('Hylidae', 'Hypsiboas', 'HypsiboasCordobae'), ('Leptodactylidae', 'Adenomera', 'AdenomeraHylaedactylus'), ('Leptodactylidae', 'Leptodactylus', 'LeptodactylusFuscus'), ('Hylidae', 'Hypsiboas', 'HypsiboasCordobae'), ('Leptodactylidae', 'Adenomera', 'AdenomeraHylaedactylus'), ('Hylidae', 'Dendropsophus', 'HylaMinuta'), ('Leptodactylidae', 'Leptodactylus', 'LeptodactylusFuscus'), ('Leptodactylidae', 'Adenomera', 'AdenomeraAndre'), ('Leptodactylidae', 'Adenomera', 'AdenomeraHylaedactylus'), ('Leptodactylidae', 'Adenomera', 'AdenomeraHylaedactylus'), ('Hylidae', 'Hypsiboas', 'HypsiboasCordobae'), ('Leptodactylidae', 'Leptodactylus', 'LeptodactylusFuscus'), ('Hylidae', 'Dendropsophus', 'HylaMinuta'), ('Dendrobatidae', 'Ameerega', 'Ameeregatrivittata'), ('Dendrobatidae', 'Ameerega', 'Ameeregatrivittata'), ('Leptodactylidae', 'Adenomera', 'AdenomeraAndre'), ('Leptodactylidae', 'Adenomera', 'AdenomeraHylaedactylus'), ('Leptodactylidae', 'Adenomera', 'AdenomeraHylaedactylus'), ('Leptodactylidae', 'Adenomera', 'AdenomeraHylaedactylus'), ('Leptodactylidae', 'Rhinella', 'Rhinellagranulosa'), ('Leptodactylidae', 'Adenomera', 'AdenomeraHylaedactylus'), ('Hylidae', 'Hypsiboas', 'HypsiboasCinerascens'), ('Leptodactylidae', 'Adenomera', 'AdenomeraAndre'), ('Dendrobatidae', 'Ameerega', 'Ameeregatrivittata'), ('Leptodactylidae', 'Adenomera', 'AdenomeraHylaedactylus'), ('Hylidae', 'Hypsiboas', 'HypsiboasCordobae'), ('Leptodactylidae', 'Adenomera', 'AdenomeraHylaedactylus'), ('Hylidae', 'Scinax', 'ScinaxRuber'), ('Leptodactylidae', 'Adenomera', 'AdenomeraHylaedactylus'), ('Leptodactylidae', 'Adenomera', 'AdenomeraHylaedactylus'), ('Hylidae', 'Osteocephalus', 'OsteocephalusOophagus'), ('Leptodactylidae', 'Adenomera', 'AdenomeraHylaedactylus'), ('Leptodactylidae', 'Adenomera', 'AdenomeraHylaedactylus'), ('Hylidae', 'Hypsiboas', 'HypsiboasCordobae'), ('Leptodactylidae', 'Adenomera', 'AdenomeraHylaedactylus'), ('Leptodactylidae', 'Adenomera', 'AdenomeraHylaedactylus'), ('Leptodactylidae', 'Adenomera', 'AdenomeraHylaedactylus'), ('Leptodactylidae', 'Adenomera', 'AdenomeraAndre'), ('Hylidae', 'Dendropsophus', 'HylaMinuta'), ('Dendrobatidae', 'Ameerega', 'Ameeregatrivittata'), ('Dendrobatidae', 'Ameerega', 'Ameeregatrivittata'), ('Hylidae', 'Hypsiboas', 'HypsiboasCinerascens'), ('Leptodactylidae', 'Adenomera', 'AdenomeraAndre'), ('Leptodactylidae', 'Adenomera', 'AdenomeraHylaedactylus'), ('Hylidae', 'Osteocephalus', 'OsteocephalusOophagus'), ('Hylidae', 'Hypsiboas', 'HypsiboasCordobae'), ('Dendrobatidae', 'Ameerega', 'Ameeregatrivittata'), ('Leptodactylidae', 'Adenomera', 'AdenomeraAndre'), ('Leptodactylidae', 'Adenomera', 'AdenomeraHylaedactylus'), ('Leptodactylidae', 'Adenomera', 'AdenomeraHylaedactylus'), ('Leptodactylidae', 'Adenomera', 'AdenomeraHylaedactylus'), ('Leptodactylidae', 'Adenomera', 'AdenomeraAndre'), ('Leptodactylidae', 'Adenomera', 'AdenomeraHylaedactylus'), ('Hylidae', 'Hypsiboas', 'HypsiboasCinerascens'), ('Leptodactylidae', 'Adenomera', 'AdenomeraHylaedactylus'), ('Dendrobatidae', 'Ameerega', 'Ameeregatrivittata'), ('Leptodactylidae', 'Adenomera', 'AdenomeraHylaedactylus'), ('Leptodactylidae', 'Adenomera', 'AdenomeraHylaedactylus'), ('Leptodactylidae', 'Adenomera', 'AdenomeraHylaedactylus'), ('Hylidae', 'Hypsiboas', 'HypsiboasCinerascens'), ('Leptodactylidae', 'Adenomera', 'AdenomeraHylaedactylus'), ('Hylidae', 'Hypsiboas', 'HypsiboasCordobae'), ('Leptodactylidae', 'Adenomera', 'AdenomeraHylaedactylus'), ('Hylidae', 'Hypsiboas', 'HypsiboasCinerascens'), ('Hylidae', 'Hypsiboas', 'HypsiboasCordobae'), ('Leptodactylidae', 'Adenomera', 'AdenomeraHylaedactylus'), ('Hylidae', 'Adenomera', 'HylaMinuta'), ('Hylidae', 'Hypsiboas', 'HypsiboasCinerascens'), ('Leptodactylidae', 'Adenomera', 'AdenomeraHylaedactylus'), ('Leptodactylidae', 'Adenomera', 'AdenomeraHylaedactylus'), ('Hylidae', 'Hypsiboas', 'HypsiboasCordobae'), ('Hylidae', 'Hypsiboas', 'HypsiboasCinerascens'), ('Leptodactylidae', 'Adenomera', 'AdenomeraHylaedactylus'), ('Leptodactylidae', 'Adenomera', 'AdenomeraHylaedactylus'), ('Leptodactylidae', 'Adenomera', 'AdenomeraHylaedactylus'), ('Leptodactylidae', 'Adenomera', 'AdenomeraHylaedactylus'), ('Leptodactylidae', 'Adenomera', 'AdenomeraAndre'), ('Leptodactylidae', 'Adenomera', 'AdenomeraHylaedactylus'), ('Leptodactylidae', 'Adenomera', 'AdenomeraHylaedactylus'), ('Hylidae', 'Hypsiboas', 'AdenomeraAndre'), ('Leptodactylidae', 'Adenomera', 'AdenomeraHylaedactylus'), ('Hylidae', 'Hypsiboas', 'HypsiboasCordobae'), ('Dendrobatidae', 'Ameerega', 'Ameeregatrivittata'), ('Hylidae', 'Hypsiboas', 'OsteocephalusOophagus'), ('Hylidae', 'Scinax', 'ScinaxRuber'), ('Hylidae', 'Hypsiboas', 'HypsiboasCinerascens'), ('Leptodactylidae', 'Adenomera', 'AdenomeraHylaedactylus'), ('Dendrobatidae', 'Ameerega', 'Ameeregatrivittata'), ('Leptodactylidae', 'Adenomera', 'AdenomeraHylaedactylus'), ('Hylidae', 'Hypsiboas', 'HypsiboasCordobae'), ('Dendrobatidae', 'Ameerega', 'Ameeregatrivittata'), ('Dendrobatidae', 'Ameerega', 'Ameeregatrivittata'), ('Leptodactylidae', 'Adenomera', 'AdenomeraHylaedactylus'), ('Dendrobatidae', 'Ameerega', 'Ameeregatrivittata'), ('Hylidae', 'Dendropsophus', 'HylaMinuta'), ('Leptodactylidae', 'Adenomera', 'AdenomeraHylaedactylus'), ('Leptodactylidae', 'Adenomera', 'AdenomeraHylaedactylus'), ('Dendrobatidae', 'Ameerega', 'Ameeregatrivittata'), ('Dendrobatidae', 'Ameerega', 'Ameeregatrivittata'), ('Hylidae', 'Hypsiboas', 'HypsiboasCordobae'), ('Hylidae', 'Hypsiboas', 'HypsiboasCinerascens'), ('Leptodactylidae', 'Adenomera', 'AdenomeraHylaedactylus'), ('Leptodactylidae', 'Adenomera', 'AdenomeraHylaedactylus'), ('Leptodactylidae', 'Adenomera', 'AdenomeraHylaedactylus'), ('Hylidae', 'Hypsiboas', 'HypsiboasCordobae'), ('Leptodactylidae', 'Adenomera', 'AdenomeraAndre'), ('Leptodactylidae', 'Adenomera', 'AdenomeraAndre'), ('Dendrobatidae', 'Ameerega', 'Ameeregatrivittata'), ('Dendrobatidae', 'Ameerega', 'Ameeregatrivittata'), ('Leptodactylidae', 'Adenomera', 'AdenomeraHylaedactylus'), ('Leptodactylidae', 'Adenomera', 'AdenomeraHylaedactylus'), ('Leptodactylidae', 'Adenomera', 'AdenomeraHylaedactylus'), ('Leptodactylidae', 'Adenomera', 'AdenomeraAndre'), ('Leptodactylidae', 'Adenomera', 'AdenomeraHylaedactylus'), ('Leptodactylidae', 'Adenomera', 'AdenomeraHylaedactylus'), ('Leptodactylidae', 'Adenomera', 'AdenomeraHylaedactylus'), ('Leptodactylidae', 'Adenomera', 'AdenomeraHylaedactylus'), ('Hylidae', 'Hypsiboas', 'HypsiboasCordobae'), ('Leptodactylidae', 'Adenomera', 'AdenomeraHylaedactylus'), ('Leptodactylidae', 'Adenomera', 'AdenomeraHylaedactylus'), ('Leptodactylidae', 'Adenomera', 'AdenomeraHylaedactylus'), ('Leptodactylidae', 'Adenomera', 'AdenomeraAndre'), ('Leptodactylidae', 'Adenomera', 'AdenomeraHylaedactylus'), ('Leptodactylidae', 'Adenomera', 'AdenomeraHylaedactylus'), ('Hylidae', 'Dendropsophus', 'HylaMinuta'), ('Leptodactylidae', 'Adenomera', 'AdenomeraHylaedactylus'), ('Hylidae', 'Hypsiboas', 'HypsiboasCordobae'), ('Leptodactylidae', 'Adenomera', 'AdenomeraAndre'), ('Leptodactylidae', 'Adenomera', 'AdenomeraHylaedactylus'), ('Hylidae', 'Dendropsophus', 'HylaMinuta'), ('Leptodactylidae', 'Adenomera', 'AdenomeraHylaedactylus'), ('Leptodactylidae', 'Adenomera', 'AdenomeraHylaedactylus'), ('Leptodactylidae', 'Leptodactylus', 'LeptodactylusFuscus'), ('Leptodactylidae', 'Adenomera', 'AdenomeraHylaedactylus'), ('Hylidae', 'Hypsiboas', 'HypsiboasCordobae'), ('Leptodactylidae', 'Leptodactylus', 'LeptodactylusFuscus'), ('Dendrobatidae', 'Ameerega', 'Ameeregatrivittata'), ('Hylidae', 'Hypsiboas', 'HypsiboasCordobae'), ('Hylidae', 'Dendropsophus', 'HylaMinuta'), ('Hylidae', 'Scinax', 'ScinaxRuber'), ('Leptodactylidae', 'Adenomera', 'AdenomeraHylaedactylus'), ('Hylidae', 'Dendropsophus', 'HylaMinuta'), ('Leptodactylidae', 'Adenomera', 'AdenomeraHylaedactylus'), ('Leptodactylidae', 'Adenomera', 'AdenomeraHylaedactylus'), ('Hylidae', 'Hypsiboas', 'HypsiboasCordobae'), ('Hylidae', 'Hypsiboas', 'OsteocephalusOophagus'), ('Leptodactylidae', 'Adenomera', 'AdenomeraHylaedactylus'), ('Hylidae', 'Hypsiboas', 'HypsiboasCordobae'), ('Leptodactylidae', 'Adenomera', 'AdenomeraHylaedactylus'), ('Dendrobatidae', 'Ameerega', 'Ameeregatrivittata'), ('Leptodactylidae', 'Leptodactylus', 'LeptodactylusFuscus'), ('Hylidae', 'Hypsiboas', 'HypsiboasCordobae'), ('Dendrobatidae', 'Ameerega', 'Ameeregatrivittata'), ('Leptodactylidae', 'Adenomera', 'AdenomeraHylaedactylus'), ('Hylidae', 'Hypsiboas', 'HypsiboasCordobae'), ('Bufonidae', 'Scinax', 'ScinaxRuber'), ('Hylidae', 'Scinax', 'ScinaxRuber'), ('Leptodactylidae', 'Adenomera', 'AdenomeraHylaedactylus'), ('Hylidae', 'Hypsiboas', 'HypsiboasCordobae'), ('Dendrobatidae', 'Ameerega', 'Ameeregatrivittata'), ('Leptodactylidae', 'Adenomera', 'AdenomeraHylaedactylus'), ('Hylidae', 'Dendropsophus', 'HylaMinuta'), ('Leptodactylidae', 'Adenomera', 'AdenomeraHylaedactylus'), ('Leptodactylidae', 'Adenomera', 'AdenomeraAndre'), ('Leptodactylidae', 'Adenomera', 'AdenomeraHylaedactylus'), ('Leptodactylidae', 'Adenomera', 'AdenomeraHylaedactylus'), ('Leptodactylidae', 'Adenomera', 'AdenomeraHylaedactylus'), ('Leptodactylidae', 'Adenomera', 'AdenomeraHylaedactylus'), ('Hylidae', 'Hypsiboas', 'HypsiboasCordobae'), ('Leptodactylidae', 'Adenomera', 'AdenomeraHylaedactylus'), ('Dendrobatidae', 'Ameerega', 'Ameeregatrivittata'), ('Hylidae', 'Hypsiboas', 'HypsiboasCordobae'), ('Leptodactylidae', 'Adenomera', 'AdenomeraHylaedactylus'), ('Leptodactylidae', 'Adenomera', 'AdenomeraHylaedactylus'), ('Leptodactylidae', 'Adenomera', 'AdenomeraHylaedactylus'), ('Leptodactylidae', 'Adenomera', 'AdenomeraHylaedactylus'), ('Dendrobatidae', 'Ameerega', 'Ameeregatrivittata'), ('Hylidae', 'Hypsiboas', 'HypsiboasCordobae'), ('Hylidae', 'Hypsiboas', 'HypsiboasCordobae'), ('Hylidae', 'Hypsiboas', 'HypsiboasCinerascens'), ('Leptodactylidae', 'Adenomera', 'AdenomeraHylaedactylus'), ('Leptodactylidae', 'Adenomera', 'AdenomeraHylaedactylus'), ('Hylidae', 'Dendropsophus', 'HylaMinuta'), ('Leptodactylidae', 'Leptodactylus', 'LeptodactylusFuscus'), ('Leptodactylidae', 'Adenomera', 'AdenomeraHylaedactylus'), ('Leptodactylidae', 'Adenomera', 'AdenomeraHylaedactylus'), ('Hylidae', 'Hypsiboas', 'HypsiboasCinerascens'), ('Leptodactylidae', 'Adenomera', 'AdenomeraHylaedactylus'), ('Hylidae', 'Hypsiboas', 'HypsiboasCordobae'), ('Hylidae', 'Dendropsophus', 'HylaMinuta'), ('Leptodactylidae', 'Adenomera', 'AdenomeraHylaedactylus'), ('Leptodactylidae', 'Adenomera', 'AdenomeraHylaedactylus'), ('Hylidae', 'Hypsiboas', 'HypsiboasCordobae'), ('Hylidae', 'Hypsiboas', 'HypsiboasCordobae'), ('Hylidae', 'Dendropsophus', 'HylaMinuta'), ('Leptodactylidae', 'Adenomera', 'AdenomeraAndre'), ('Leptodactylidae', 'Adenomera', 'AdenomeraAndre'), ('Leptodactylidae', 'Adenomera', 'AdenomeraHylaedactylus'), ('Hylidae', 'Hypsiboas', 'HypsiboasCordobae'), ('Leptodactylidae', 'Adenomera', 'AdenomeraHylaedactylus'), ('Leptodactylidae', 'Adenomera', 'AdenomeraHylaedactylus'), ('Leptodactylidae', 'Adenomera', 'AdenomeraHylaedactylus'), ('Leptodactylidae', 'Adenomera', 'AdenomeraHylaedactylus'), ('Bufonidae', 'Rhinella', 'Rhinellagranulosa'), ('Leptodactylidae', 'Adenomera', 'AdenomeraAndre'), ('Leptodactylidae', 'Adenomera', 'AdenomeraHylaedactylus'), ('Leptodactylidae', 'Adenomera', 'AdenomeraHylaedactylus'), ('Leptodactylidae', 'Adenomera', 'AdenomeraHylaedactylus'), ('Dendrobatidae', 'Ameerega', 'Ameeregatrivittata'), ('Bufonidae', 'Rhinella', 'Rhinellagranulosa'), ('Leptodactylidae', 'Adenomera', 'AdenomeraAndre'), ('Hylidae', 'Osteocephalus', 'OsteocephalusOophagus'), ('Leptodactylidae', 'Dendropsophus', 'HylaMinuta'), ('Leptodactylidae', 'Adenomera', 'AdenomeraHylaedactylus'), ('Leptodactylidae', 'Adenomera', 'AdenomeraHylaedactylus'), ('Leptodactylidae', 'Adenomera', 'AdenomeraHylaedactylus'), ('Leptodactylidae', 'Adenomera', 'AdenomeraAndre'), ('Hylidae', 'Osteocephalus', 'OsteocephalusOophagus'), ('Dendrobatidae', 'Ameerega', 'Ameeregatrivittata'), ('Leptodactylidae', 'Adenomera', 'AdenomeraHylaedactylus'), ('Leptodactylidae', 'Adenomera', 'AdenomeraHylaedactylus'), ('Leptodactylidae', 'Adenomera', 'AdenomeraHylaedactylus'), ('Hylidae', 'Scinax', 'ScinaxRuber'), ('Leptodactylidae', 'Adenomera', 'AdenomeraAndre'), ('Leptodactylidae', 'Adenomera', 'AdenomeraAndre'), ('Leptodactylidae', 'Adenomera', 'AdenomeraAndre'), ('Leptodactylidae', 'Adenomera', 'AdenomeraHylaedactylus'), ('Leptodactylidae', 'Adenomera', 'AdenomeraHylaedactylus'), ('Bufonidae', 'Rhinella', 'Rhinellagranulosa'), ('Leptodactylidae', 'Adenomera', 'AdenomeraHylaedactylus'), ('Hylidae', 'Dendropsophus', 'HylaMinuta'), ('Hylidae', 'Hypsiboas', 'HypsiboasCordobae'), ('Hylidae', 'Hypsiboas', 'HypsiboasCordobae'), ('Leptodactylidae', 'Adenomera', 'AdenomeraAndre'), ('Hylidae', 'Hypsiboas', 'HypsiboasCinerascens'), ('Leptodactylidae', 'Adenomera', 'AdenomeraAndre'), ('Hylidae', 'Dendropsophus', 'HylaMinuta'), ('Leptodactylidae', 'Adenomera', 'AdenomeraHylaedactylus'), ('Leptodactylidae', 'Adenomera', 'AdenomeraHylaedactylus'), ('Hylidae', 'Hypsiboas', 'HypsiboasCinerascens'), ('Hylidae', 'Hypsiboas', 'HypsiboasCordobae'), ('Leptodactylidae', 'Hypsiboas', 'HypsiboasCinerascens'), ('Leptodactylidae', 'Adenomera', 'AdenomeraHylaedactylus'), ('Leptodactylidae', 'Adenomera', 'AdenomeraHylaedactylus'), ('Leptodactylidae', 'Adenomera', 'AdenomeraAndre'), ('Leptodactylidae', 'Adenomera', 'AdenomeraHylaedactylus'), ('Dendrobatidae', 'Ameerega', 'Ameeregatrivittata'), ('Leptodactylidae', 'Adenomera', 'AdenomeraAndre'), ('Leptodactylidae', 'Adenomera', 'AdenomeraHylaedactylus'), ('Leptodactylidae', 'Adenomera', 'AdenomeraHylaedactylus'), ('Hylidae', 'Dendropsophus', 'HylaMinuta'), ('Leptodactylidae', 'Adenomera', 'AdenomeraHylaedactylus'), ('Hylidae', 'Hypsiboas', 'HypsiboasCordobae'), ('Leptodactylidae', 'Adenomera', 'AdenomeraHylaedactylus'), ('Leptodactylidae', 'Adenomera', 'AdenomeraHylaedactylus'), ('Bufonidae', 'Rhinella', 'Rhinellagranulosa'), ('Dendrobatidae', 'Ameerega', 'Ameeregatrivittata'), ('Leptodactylidae', 'Adenomera', 'AdenomeraHylaedactylus'), ('Leptodactylidae', 'Adenomera', 'AdenomeraHylaedactylus'), ('Leptodactylidae', 'Adenomera', 'AdenomeraHylaedactylus'), ('Leptodactylidae', 'Adenomera', 'AdenomeraHylaedactylus'), ('Hylidae', 'Scinax', 'ScinaxRuber'), ('Leptodactylidae', 'Adenomera', 'AdenomeraAndre'), ('Leptodactylidae', 'Adenomera', 'AdenomeraHylaedactylus'), ('Hylidae', 'Dendropsophus', 'HylaMinuta'), ('Hylidae', 'Hypsiboas', 'HypsiboasCordobae'), ('Hylidae', 'Hypsiboas', 'HypsiboasCordobae'), ('Hylidae', 'Hypsiboas', 'HypsiboasCordobae'), ('Hylidae', 'Hypsiboas', 'HypsiboasCordobae'), ('Leptodactylidae', 'Adenomera', 'AdenomeraHylaedactylus'), ('Leptodactylidae', 'Adenomera', 'AdenomeraHylaedactylus'), ('Leptodactylidae', 'Adenomera', 'AdenomeraHylaedactylus'), ('Hylidae', 'Hypsiboas', 'HypsiboasCinerascens'), ('Leptodactylidae', 'Adenomera', 'AdenomeraHylaedactylus'), ('Leptodactylidae', 'Adenomera', 'AdenomeraAndre'), ('Hylidae', 'Osteocephalus', 'OsteocephalusOophagus'), ('Leptodactylidae', 'Adenomera', 'AdenomeraAndre'), ('Hylidae', 'Hypsiboas', 'HypsiboasCordobae'), ('Leptodactylidae', 'Adenomera', 'AdenomeraHylaedactylus'), ('Hylidae', 'Hypsiboas', 'LeptodactylusFuscus'), ('Leptodactylidae', 'Adenomera', 'AdenomeraHylaedactylus'), ('Leptodactylidae', 'Adenomera', 'AdenomeraHylaedactylus'), ('Leptodactylidae', 'Adenomera', 'AdenomeraHylaedactylus'), ('Hylidae', 'Hypsiboas', 'HypsiboasCordobae'), ('Leptodactylidae', 'Adenomera', 'AdenomeraHylaedactylus'), ('Hylidae', 'Hypsiboas', 'HypsiboasCinerascens'), ('Hylidae', 'Hypsiboas', 'HypsiboasCordobae'), ('Leptodactylidae', 'Adenomera', 'AdenomeraHylaedactylus'), ('Leptodactylidae', 'Adenomera', 'AdenomeraHylaedactylus'), ('Leptodactylidae', 'Adenomera', 'AdenomeraHylaedactylus'), ('Leptodactylidae', 'Adenomera', 'AdenomeraAndre'), ('Leptodactylidae', 'Adenomera', 'AdenomeraAndre'), ('Hylidae', 'Dendropsophus', 'HylaMinuta'), ('Leptodactylidae', 'Adenomera', 'AdenomeraHylaedactylus'), ('Leptodactylidae', 'Adenomera', 'AdenomeraHylaedactylus'), ('Leptodactylidae', 'Adenomera', 'AdenomeraHylaedactylus'), ('Leptodactylidae', 'Adenomera', 'AdenomeraHylaedactylus'), ('Leptodactylidae', 'Adenomera', 'AdenomeraAndre'), ('Leptodactylidae', 'Adenomera', 'AdenomeraHylaedactylus'), ('Hylidae', 'Hypsiboas', 'HypsiboasCordobae'), ('Leptodactylidae', 'Leptodactylus', 'LeptodactylusFuscus'), ('Leptodactylidae', 'Adenomera', 'AdenomeraHylaedactylus'), ('Dendrobatidae', 'Ameerega', 'Ameeregatrivittata'), ('Hylidae', 'Hypsiboas', 'HypsiboasCordobae'), ('Leptodactylidae', 'Adenomera', 'AdenomeraHylaedactylus'), ('Leptodactylidae', 'Adenomera', 'AdenomeraHylaedactylus'), ('Leptodactylidae', 'Adenomera', 'AdenomeraHylaedactylus'), ('Hylidae', 'Dendropsophus', 'HylaMinuta'), ('Hylidae', 'Hypsiboas', 'HypsiboasCinerascens'), ('Hylidae', 'Hypsiboas', 'HypsiboasCinerascens'), ('Leptodactylidae', 'Adenomera', 'AdenomeraAndre'), ('Leptodactylidae', 'Adenomera', 'AdenomeraAndre'), ('Hylidae', 'Hypsiboas', 'HypsiboasCordobae'), ('Dendrobatidae', 'Ameerega', 'Ameeregatrivittata'), ('Hylidae', 'Hypsiboas', 'HypsiboasCordobae'), ('Leptodactylidae', 'Adenomera', 'AdenomeraHylaedactylus'), ('Dendrobatidae', 'Ameerega', 'Ameeregatrivittata'), ('Leptodactylidae', 'Adenomera', 'AdenomeraHylaedactylus'), ('Hylidae', 'Hypsiboas', 'HypsiboasCinerascens'), ('Hylidae', 'Hypsiboas', 'HypsiboasCordobae'), ('Leptodactylidae', 'Adenomera', 'AdenomeraHylaedactylus'), ('Leptodactylidae', 'Adenomera', 'AdenomeraHylaedactylus'), ('Leptodactylidae', 'Adenomera', 'AdenomeraHylaedactylus'), ('Leptodactylidae', 'Adenomera', 'AdenomeraAndre'), ('Leptodactylidae', 'Adenomera', 'AdenomeraHylaedactylus'), ('Hylidae', 'Hypsiboas', 'HypsiboasCinerascens'), ('Hylidae', 'Dendropsophus', 'HylaMinuta'), ('Leptodactylidae', 'Adenomera', 'AdenomeraHylaedactylus'), ('Leptodactylidae', 'Adenomera', 'AdenomeraHylaedactylus'), ('Leptodactylidae', 'Adenomera', 'AdenomeraHylaedactylus'), ('Hylidae', 'Hypsiboas', 'HypsiboasCordobae'), ('Leptodactylidae', 'Leptodactylus', 'LeptodactylusFuscus'), ('Leptodactylidae', 'Adenomera', 'AdenomeraHylaedactylus'), ('Leptodactylidae', 'Adenomera', 'AdenomeraHylaedactylus'), ('Dendrobatidae', 'Ameerega', 'Ameeregatrivittata'), ('Dendrobatidae', 'Ameerega', 'Ameeregatrivittata'), ('Leptodactylidae', 'Adenomera', 'AdenomeraHylaedactylus'), ('Leptodactylidae', 'Adenomera', 'AdenomeraHylaedactylus'), ('Leptodactylidae', 'Adenomera', 'AdenomeraHylaedactylus'), ('Leptodactylidae', 'Adenomera', 'AdenomeraHylaedactylus'), ('Leptodactylidae', 'Adenomera', 'AdenomeraHylaedactylus'), ('Hylidae', 'Scinax', 'ScinaxRuber'), ('Hylidae', 'Hypsiboas', 'HypsiboasCinerascens'), ('Leptodactylidae', 'Adenomera', 'AdenomeraHylaedactylus'), ('Leptodactylidae', 'Leptodactylus', 'LeptodactylusFuscus'), ('Leptodactylidae', 'Adenomera', 'AdenomeraHylaedactylus'), ('Leptodactylidae', 'Adenomera', 'AdenomeraHylaedactylus'), ('Hylidae', 'Dendropsophus', 'HylaMinuta'), ('Leptodactylidae', 'Adenomera', 'AdenomeraHylaedactylus'), ('Leptodactylidae', 'Leptodactylus', 'LeptodactylusFuscus'), ('Leptodactylidae', 'Adenomera', 'AdenomeraHylaedactylus'), ('Leptodactylidae', 'Adenomera', 'AdenomeraHylaedactylus'), ('Leptodactylidae', 'Leptodactylus', 'LeptodactylusFuscus'), ('Leptodactylidae', 'Adenomera', 'AdenomeraHylaedactylus'), ('Leptodactylidae', 'Adenomera', 'AdenomeraHylaedactylus'), ('Leptodactylidae', 'Adenomera', 'AdenomeraHylaedactylus'), ('Dendrobatidae', 'Ameerega', 'Ameeregatrivittata'), ('Hylidae', 'Hypsiboas', 'HypsiboasCinerascens'), ('Bufonidae', 'Rhinella', 'Rhinellagranulosa'), ('Leptodactylidae', 'Adenomera', 'AdenomeraHylaedactylus'), ('Leptodactylidae', 'Adenomera', 'AdenomeraHylaedactylus'), ('Leptodactylidae', 'Adenomera', 'AdenomeraHylaedactylus'), ('Hylidae', 'Dendropsophus', 'HylaMinuta'), ('Hylidae', 'Hypsiboas', 'HypsiboasCordobae'), ('Hylidae', 'Hypsiboas', 'HypsiboasCordobae'), ('Leptodactylidae', 'Adenomera', 'AdenomeraHylaedactylus'), ('Leptodactylidae', 'Adenomera', 'AdenomeraHylaedactylus'), ('Dendrobatidae', 'Ameerega', 'Ameeregatrivittata'), ('Leptodactylidae', 'Adenomera', 'AdenomeraHylaedactylus'), ('Leptodactylidae', 'Adenomera', 'AdenomeraHylaedactylus'), ('Leptodactylidae', 'Adenomera', 'AdenomeraHylaedactylus'), ('Hylidae', 'Hypsiboas', 'HypsiboasCordobae'), ('Hylidae', 'Scinax', 'ScinaxRuber'), ('Hylidae', 'Hypsiboas', 'HypsiboasCordobae'), ('Leptodactylidae', 'Adenomera', 'AdenomeraHylaedactylus'), ('Hylidae', 'Hypsiboas', 'HypsiboasCordobae'), ('Leptodactylidae', 'Adenomera', 'AdenomeraAndre'), ('Hylidae', 'Dendropsophus', 'HylaMinuta'), ('Hylidae', 'Hypsiboas', 'HypsiboasCordobae'), ('Leptodactylidae', 'Adenomera', 'AdenomeraAndre'), ('Hylidae', 'Hypsiboas', 'HypsiboasCinerascens'), ('Leptodactylidae', 'Adenomera', 'AdenomeraHylaedactylus'), ('Hylidae', 'Hypsiboas', 'HypsiboasCinerascens'), ('Leptodactylidae', 'Adenomera', 'AdenomeraHylaedactylus'), ('Leptodactylidae', 'Adenomera', 'AdenomeraHylaedactylus'), ('Hylidae', 'Hypsiboas', 'HypsiboasCinerascens'), ('Leptodactylidae', 'Adenomera', 'AdenomeraHylaedactylus'), ('Hylidae', 'Scinax', 'ScinaxRuber'), ('Hylidae', 'Hypsiboas', 'HypsiboasCordobae'), ('Leptodactylidae', 'Adenomera', 'AdenomeraHylaedactylus'), ('Leptodactylidae', 'Adenomera', 'AdenomeraHylaedactylus'), ('Leptodactylidae', 'Leptodactylus', 'LeptodactylusFuscus'), ('Hylidae', 'Hypsiboas', 'HypsiboasCinerascens'), ('Dendrobatidae', 'Ameerega', 'Ameeregatrivittata'), ('Hylidae', 'Hypsiboas', 'HypsiboasCinerascens'), ('Hylidae', 'Hypsiboas', 'HypsiboasCinerascens'), ('Leptodactylidae', 'Adenomera', 'AdenomeraHylaedactylus'), ('Leptodactylidae', 'Adenomera', 'AdenomeraHylaedactylus'), ('Hylidae', 'Dendropsophus', 'HylaMinuta'), ('Leptodactylidae', 'Adenomera', 'AdenomeraHylaedactylus'), ('Leptodactylidae', 'Adenomera', 'AdenomeraHylaedactylus'), ('Leptodactylidae', 'Adenomera', 'AdenomeraAndre'), ('Bufonidae', 'Rhinella', 'Rhinellagranulosa'), ('Leptodactylidae', 'Leptodactylus', 'LeptodactylusFuscus'), ('Leptodactylidae', 'Adenomera', 'AdenomeraHylaedactylus'), ('Hylidae', 'Hypsiboas', 'HypsiboasCordobae'), ('Leptodactylidae', 'Adenomera', 'AdenomeraHylaedactylus'), ('Leptodactylidae', 'Adenomera', 'AdenomeraHylaedactylus'), ('Leptodactylidae', 'Adenomera', 'AdenomeraHylaedactylus'), ('Dendrobatidae', 'Ameerega', 'Ameeregatrivittata'), ('Hylidae', 'Hypsiboas', 'HypsiboasCordobae'), ('Leptodactylidae', 'Adenomera', 'AdenomeraHylaedactylus'), ('Leptodactylidae', 'Adenomera', 'AdenomeraHylaedactylus'), ('Leptodactylidae', 'Adenomera', 'AdenomeraAndre'), ('Leptodactylidae', 'Adenomera', 'AdenomeraHylaedactylus'), ('Leptodactylidae', 'Adenomera', 'AdenomeraHylaedactylus'), ('Leptodactylidae', 'Leptodactylus', 'LeptodactylusFuscus'), ('Hylidae', 'Hypsiboas', 'HypsiboasCordobae'), ('Leptodactylidae', 'Leptodactylus', 'LeptodactylusFuscus'), ('Leptodactylidae', 'Adenomera', 'AdenomeraHylaedactylus'), ('Leptodactylidae', 'Adenomera', 'AdenomeraHylaedactylus'), ('Leptodactylidae', 'Adenomera', 'AdenomeraHylaedactylus'), ('Leptodactylidae', 'Leptodactylus', 'LeptodactylusFuscus'), ('Leptodactylidae', 'Adenomera', 'AdenomeraHylaedactylus'), ('Leptodactylidae', 'Adenomera', 'AdenomeraHylaedactylus'), ('Leptodactylidae', 'Adenomera', 'AdenomeraHylaedactylus'), ('Leptodactylidae', 'Adenomera', 'AdenomeraAndre'), ('Hylidae', 'Hypsiboas', 'HypsiboasCinerascens'), ('Leptodactylidae', 'Adenomera', 'AdenomeraHylaedactylus'), ('Dendrobatidae', 'Ameerega', 'Ameeregatrivittata'), ('Leptodactylidae', 'Adenomera', 'AdenomeraHylaedactylus'), ('Leptodactylidae', 'Adenomera', 'AdenomeraHylaedactylus'), ('Leptodactylidae', 'Adenomera', 'AdenomeraHylaedactylus'), ('Leptodactylidae', 'Adenomera', 'AdenomeraHylaedactylus'), ('Leptodactylidae', 'Adenomera', 'AdenomeraHylaedactylus'), ('Hylidae', 'Osteocephalus', 'OsteocephalusOophagus'), ('Leptodactylidae', 'Leptodactylus', 'LeptodactylusFuscus'), ('Leptodactylidae', 'Leptodactylus', 'LeptodactylusFuscus'), ('Leptodactylidae', 'Adenomera', 'AdenomeraHylaedactylus'), ('Leptodactylidae', 'Adenomera', 'AdenomeraHylaedactylus'), ('Leptodactylidae', 'Adenomera', 'AdenomeraHylaedactylus'), ('Hylidae', 'Hypsiboas', 'HypsiboasCordobae'), ('Leptodactylidae', 'Adenomera', 'AdenomeraHylaedactylus'), ('Leptodactylidae', 'Adenomera', 'AdenomeraHylaedactylus'), ('Dendrobatidae', 'Ameerega', 'Ameeregatrivittata'), ('Leptodactylidae', 'Adenomera', 'AdenomeraHylaedactylus'), ('Hylidae', 'Hypsiboas', 'HypsiboasCinerascens'), ('Dendrobatidae', 'Ameerega', 'Ameeregatrivittata'), ('Leptodactylidae', 'Adenomera', 'AdenomeraHylaedactylus'), ('Leptodactylidae', 'Adenomera', 'AdenomeraAndre'), ('Leptodactylidae', 'Adenomera', 'AdenomeraHylaedactylus'), ('Leptodactylidae', 'Adenomera', 'AdenomeraAndre'), ('Hylidae', 'Hypsiboas', 'HypsiboasCordobae'), ('Hylidae', 'Hypsiboas', 'HypsiboasCinerascens'), ('Hylidae', 'Osteocephalus', 'OsteocephalusOophagus'), ('Hylidae', 'Dendropsophus', 'HylaMinuta'), ('Leptodactylidae', 'Adenomera', 'AdenomeraHylaedactylus'), ('Hylidae', 'Dendropsophus', 'HylaMinuta'), ('Leptodactylidae', 'Adenomera', 'AdenomeraHylaedactylus'), ('Hylidae', 'Hypsiboas', 'HypsiboasCordobae'), ('Leptodactylidae', 'Adenomera', 'AdenomeraAndre'), ('Hylidae', 'Hypsiboas', 'HypsiboasCordobae'), ('Leptodactylidae', 'Adenomera', 'AdenomeraHylaedactylus'), ('Dendrobatidae', 'Ameerega', 'Ameeregatrivittata'), ('Dendrobatidae', 'Ameerega', 'Ameeregatrivittata'), ('Hylidae', 'Hypsiboas', 'HypsiboasCordobae'), ('Hylidae', 'Osteocephalus', 'OsteocephalusOophagus'), ('Hylidae', 'Hypsiboas', 'HypsiboasCinerascens'), ('Hylidae', 'Hypsiboas', 'HypsiboasCordobae'), ('Leptodactylidae', 'Adenomera', 'AdenomeraHylaedactylus'), ('Leptodactylidae', 'Adenomera', 'AdenomeraHylaedactylus'), ('Leptodactylidae', 'Adenomera', 'AdenomeraHylaedactylus'), ('Leptodactylidae', 'Adenomera', 'AdenomeraHylaedactylus'), ('Hylidae', 'Hypsiboas', 'HypsiboasCordobae'), ('Leptodactylidae', 'Adenomera', 'AdenomeraHylaedactylus'), ('Leptodactylidae', 'Adenomera', 'AdenomeraHylaedactylus'), ('Hylidae', 'Hypsiboas', 'HypsiboasCordobae'), ('Leptodactylidae', 'Adenomera', 'AdenomeraHylaedactylus'), ('Leptodactylidae', 'Adenomera', 'AdenomeraHylaedactylus'), ('Leptodactylidae', 'Adenomera', 'AdenomeraHylaedactylus'), ('Hylidae', 'Hypsiboas', 'HypsiboasCinerascens'), ('Dendrobatidae', 'Ameerega', 'Ameeregatrivittata'), ('Hylidae', 'Hypsiboas', 'HypsiboasCinerascens'), ('Dendrobatidae', 'Ameerega', 'Ameeregatrivittata'), ('Leptodactylidae', 'Adenomera', 'AdenomeraHylaedactylus'), ('Leptodactylidae', 'Adenomera', 'AdenomeraHylaedactylus'), ('Leptodactylidae', 'Adenomera', 'AdenomeraHylaedactylus'), ('Dendrobatidae', 'Ameerega', 'Ameeregatrivittata'), ('Hylidae', 'Scinax', 'ScinaxRuber'), ('Leptodactylidae', 'Adenomera', 'AdenomeraHylaedactylus'), ('Leptodactylidae', 'Adenomera', 'AdenomeraHylaedactylus'), ('Hylidae', 'Hypsiboas', 'HypsiboasCinerascens'), ('Leptodactylidae', 'Adenomera', 'AdenomeraHylaedactylus'), ('Leptodactylidae', 'Adenomera', 'AdenomeraAndre'), ('Leptodactylidae', 'Adenomera', 'AdenomeraHylaedactylus'), ('Leptodactylidae', 'Adenomera', 'AdenomeraHylaedactylus'), ('Leptodactylidae', 'Adenomera', 'AdenomeraHylaedactylus'), ('Dendrobatidae', 'Ameerega', 'Ameeregatrivittata'), ('Leptodactylidae', 'Adenomera', 'AdenomeraHylaedactylus'), ('Leptodactylidae', 'Adenomera', 'AdenomeraHylaedactylus'), ('Leptodactylidae', 'Adenomera', 'AdenomeraHylaedactylus'), ('Leptodactylidae', 'Adenomera', 'AdenomeraHylaedactylus'), ('Leptodactylidae', 'Leptodactylus', 'LeptodactylusFuscus'), ('Leptodactylidae', 'Adenomera', 'AdenomeraHylaedactylus'), ('Leptodactylidae', 'Adenomera', 'AdenomeraHylaedactylus'), ('Leptodactylidae', 'Adenomera', 'AdenomeraHylaedactylus'), ('Leptodactylidae', 'Adenomera', 'AdenomeraHylaedactylus'), ('Leptodactylidae', 'Adenomera', 'AdenomeraHylaedactylus'), ('Leptodactylidae', 'Adenomera', 'AdenomeraHylaedactylus'), ('Hylidae', 'Hypsiboas', 'HypsiboasCordobae'), ('Leptodactylidae', 'Adenomera', 'AdenomeraHylaedactylus'), ('Hylidae', 'Scinax', 'ScinaxRuber'), ('Hylidae', 'Scinax', 'ScinaxRuber'), ('Leptodactylidae', 'Adenomera', 'AdenomeraAndre'), ('Leptodactylidae', 'Adenomera', 'AdenomeraHylaedactylus'), ('Leptodactylidae', 'Adenomera', 'AdenomeraHylaedactylus'), ('Leptodactylidae', 'Adenomera', 'AdenomeraHylaedactylus'), ('Leptodactylidae', 'Adenomera', 'AdenomeraHylaedactylus'), ('Leptodactylidae', 'Adenomera', 'AdenomeraAndre'), ('Leptodactylidae', 'Leptodactylus', 'LeptodactylusFuscus'), ('Leptodactylidae', 'Adenomera', 'AdenomeraHylaedactylus'), ('Leptodactylidae', 'Adenomera', 'AdenomeraHylaedactylus'), ('Leptodactylidae', 'Adenomera', 'AdenomeraHylaedactylus'), ('Leptodactylidae', 'Adenomera', 'AdenomeraHylaedactylus'), ('Hylidae', 'Osteocephalus', 'OsteocephalusOophagus'), ('Leptodactylidae', 'Adenomera', 'AdenomeraHylaedactylus'), ('Hylidae', 'Dendropsophus', 'HylaMinuta'), ('Leptodactylidae', 'Leptodactylus', 'LeptodactylusFuscus'), ('Hylidae', 'Hypsiboas', 'HypsiboasCordobae'), ('Leptodactylidae', 'Adenomera', 'AdenomeraHylaedactylus'), ('Leptodactylidae', 'Adenomera', 'AdenomeraHylaedactylus'), ('Hylidae', 'Hypsiboas', 'HypsiboasCordobae'), ('Leptodactylidae', 'Adenomera', 'AdenomeraHylaedactylus'), ('Leptodactylidae', 'Adenomera', 'AdenomeraHylaedactylus'), ('Hylidae', 'Hypsiboas', 'HypsiboasCinerascens'), ('Hylidae', 'Scinax', 'ScinaxRuber'), ('Hylidae', 'Hypsiboas', 'HypsiboasCordobae'), ('Leptodactylidae', 'Adenomera', 'AdenomeraHylaedactylus'), ('Leptodactylidae', 'Leptodactylus', 'LeptodactylusFuscus'), ('Leptodactylidae', 'Adenomera', 'AdenomeraHylaedactylus'), ('Leptodactylidae', 'Adenomera', 'AdenomeraAndre'), ('Leptodactylidae', 'Adenomera', 'AdenomeraHylaedactylus'), ('Leptodactylidae', 'Adenomera', 'AdenomeraAndre'), ('Hylidae', 'Hypsiboas', 'HypsiboasCinerascens'), ('Leptodactylidae', 'Adenomera', 'AdenomeraHylaedactylus'), ('Hylidae', 'Hypsiboas', 'HypsiboasCordobae'), ('Leptodactylidae', 'Adenomera', 'AdenomeraHylaedactylus'), ('Dendrobatidae', 'Ameerega', 'Ameeregatrivittata'), ('Hylidae', 'Hypsiboas', 'HypsiboasCordobae'), ('Leptodactylidae', 'Adenomera', 'AdenomeraHylaedactylus'), ('Leptodactylidae', 'Adenomera', 'AdenomeraHylaedactylus'), ('Leptodactylidae', 'Adenomera', 'AdenomeraAndre'), ('Leptodactylidae', 'Adenomera', 'AdenomeraHylaedactylus'), ('Hylidae', 'Hypsiboas', 'HypsiboasCinerascens'), ('Leptodactylidae', 'Adenomera', 'AdenomeraAndre'), ('Leptodactylidae', 'Adenomera', 'AdenomeraHylaedactylus'), ('Leptodactylidae', 'Adenomera', 'AdenomeraAndre'), ('Leptodactylidae', 'Adenomera', 'AdenomeraHylaedactylus'), ('Leptodactylidae', 'Adenomera', 'AdenomeraAndre'), ('Leptodactylidae', 'Adenomera', 'AdenomeraHylaedactylus'), ('Leptodactylidae', 'Adenomera', 'AdenomeraAndre'), ('Leptodactylidae', 'Adenomera', 'AdenomeraHylaedactylus'), ('Leptodactylidae', 'Adenomera', 'AdenomeraHylaedactylus'), ('Hylidae', 'Hypsiboas', 'HypsiboasCordobae'), ('Dendrobatidae', 'Ameerega', 'Ameeregatrivittata'), ('Leptodactylidae', 'Adenomera', 'AdenomeraHylaedactylus'), ('Leptodactylidae', 'Adenomera', 'AdenomeraHylaedactylus'), ('Hylidae', 'Hypsiboas', 'HypsiboasCordobae'), ('Leptodactylidae', 'Adenomera', 'AdenomeraHylaedactylus'), ('Hylidae', 'Hypsiboas', 'HypsiboasCordobae'), ('Leptodactylidae', 'Adenomera', 'AdenomeraHylaedactylus'), ('Hylidae', 'Hypsiboas', 'HypsiboasCordobae'), ('Leptodactylidae', 'Adenomera', 'AdenomeraAndre'), ('Hylidae', 'Hypsiboas', 'HypsiboasCordobae'), ('Leptodactylidae', 'Adenomera', 'AdenomeraHylaedactylus'), ('Leptodactylidae', 'Adenomera', 'AdenomeraHylaedactylus'), ('Leptodactylidae', 'Adenomera', 'AdenomeraHylaedactylus'), ('Hylidae', 'Dendropsophus', 'HylaMinuta'), ('Leptodactylidae', 'Adenomera', 'AdenomeraAndre'), ('Leptodactylidae', 'Adenomera', 'AdenomeraHylaedactylus'), ('Leptodactylidae', 'Adenomera', 'AdenomeraHylaedactylus'), ('Leptodactylidae', 'Adenomera', 'AdenomeraHylaedactylus'), ('Leptodactylidae', 'Adenomera', 'AdenomeraAndre'), ('Hylidae', 'Hypsiboas', 'HypsiboasCordobae'), ('Leptodactylidae', 'Adenomera', 'AdenomeraHylaedactylus'), ('Leptodactylidae', 'Adenomera', 'AdenomeraHylaedactylus'), ('Bufonidae', 'Rhinella', 'Rhinellagranulosa'), ('Hylidae', 'Dendropsophus', 'HylaMinuta'), ('Leptodactylidae', 'Adenomera', 'AdenomeraHylaedactylus'), ('Leptodactylidae', 'Adenomera', 'AdenomeraAndre'), ('Dendrobatidae', 'Ameerega', 'Ameeregatrivittata'), ('Hylidae', 'Hypsiboas', 'HypsiboasCordobae'), ('Dendrobatidae', 'Ameerega', 'Ameeregatrivittata'), ('Hylidae', 'Hypsiboas', 'HypsiboasCinerascens'), ('Dendrobatidae', 'Ameerega', 'Ameeregatrivittata'), ('Dendrobatidae', 'Ameerega', 'Ameeregatrivittata'), ('Leptodactylidae', 'Adenomera', 'AdenomeraAndre'), ('Leptodactylidae', 'Adenomera', 'AdenomeraHylaedactylus'), ('Hylidae', 'Hypsiboas', 'HypsiboasCordobae'), ('Leptodactylidae', 'Adenomera', 'AdenomeraHylaedactylus'), ('Leptodactylidae', 'Adenomera', 'AdenomeraHylaedactylus'), ('Leptodactylidae', 'Leptodactylus', 'LeptodactylusFuscus'), ('Leptodactylidae', 'Adenomera', 'AdenomeraHylaedactylus'), ('Leptodactylidae', 'Adenomera', 'AdenomeraHylaedactylus'), ('Leptodactylidae', 'Adenomera', 'AdenomeraHylaedactylus'), ('Leptodactylidae', 'Adenomera', 'AdenomeraHylaedactylus'), ('Leptodactylidae', 'Adenomera', 'AdenomeraHylaedactylus'), ('Leptodactylidae', 'Adenomera', 'AdenomeraHylaedactylus'), ('Leptodactylidae', 'Adenomera', 'AdenomeraAndre'), ('Leptodactylidae', 'Adenomera', 'AdenomeraAndre'), ('Hylidae', 'Hypsiboas', 'HypsiboasCordobae'), ('Leptodactylidae', 'Adenomera', 'AdenomeraHylaedactylus'), ('Leptodactylidae', 'Adenomera', 'AdenomeraHylaedactylus'), ('Leptodactylidae', 'Adenomera', 'AdenomeraHylaedactylus'), ('Hylidae', 'Hypsiboas', 'HypsiboasCordobae'), ('Leptodactylidae', 'Adenomera', 'AdenomeraHylaedactylus'), ('Hylidae', 'Hypsiboas', 'HypsiboasCordobae'), ('Leptodactylidae', 'Adenomera', 'AdenomeraAndre'), ('Leptodactylidae', 'Adenomera', 'AdenomeraHylaedactylus'), ('Leptodactylidae', 'Adenomera', 'AdenomeraHylaedactylus'), ('Hylidae', 'Hypsiboas', 'HypsiboasCinerascens'), ('Leptodactylidae', 'Adenomera', 'AdenomeraHylaedactylus'), ('Leptodactylidae', 'Adenomera', 'AdenomeraHylaedactylus'), ('Leptodactylidae', 'Leptodactylus', 'LeptodactylusFuscus'), ('Leptodactylidae', 'Adenomera', 'AdenomeraHylaedactylus'), ('Leptodactylidae', 'Adenomera', 'AdenomeraHylaedactylus'), ('Hylidae', 'Hypsiboas', 'HypsiboasCordobae'), ('Hylidae', 'Hypsiboas', 'HypsiboasCordobae'), ('Leptodactylidae', 'Adenomera', 'AdenomeraAndre'), ('Hylidae', 'Dendropsophus', 'HylaMinuta'), ('Leptodactylidae', 'Adenomera', 'AdenomeraHylaedactylus'), ('Leptodactylidae', 'Adenomera', 'AdenomeraHylaedactylus'), ('Hylidae', 'Hypsiboas', 'HypsiboasCordobae'), ('Leptodactylidae', 'Adenomera', 'AdenomeraHylaedactylus'), ('Hylidae', 'Hypsiboas', 'HypsiboasCordobae'), ('Leptodactylidae', 'Adenomera', 'AdenomeraHylaedactylus'), ('Hylidae', 'Dendropsophus', 'HylaMinuta'), ('Hylidae', 'Hypsiboas', 'HypsiboasCordobae'), ('Leptodactylidae', 'Adenomera', 'AdenomeraHylaedactylus'), ('Leptodactylidae', 'Adenomera', 'AdenomeraAndre'), ('Leptodactylidae', 'Adenomera', 'AdenomeraAndre'), ('Leptodactylidae', 'Adenomera', 'AdenomeraHylaedactylus'), ('Leptodactylidae', 'Leptodactylus', 'LeptodactylusFuscus'), ('Hylidae', 'Hypsiboas', 'HypsiboasCinerascens'), ('Hylidae', 'Hypsiboas', 'HypsiboasCordobae'), ('Leptodactylidae', 'Adenomera', 'AdenomeraHylaedactylus'), ('Leptodactylidae', 'Leptodactylus', 'LeptodactylusFuscus'), ('Leptodactylidae', 'Adenomera', 'AdenomeraHylaedactylus'), ('Hylidae', 'Hypsiboas', 'HypsiboasCordobae'), ('Leptodactylidae', 'Adenomera', 'AdenomeraAndre'), ('Leptodactylidae', 'Adenomera', 'AdenomeraHylaedactylus'), ('Hylidae', 'Hypsiboas', 'HypsiboasCinerascens'), ('Leptodactylidae', 'Adenomera', 'AdenomeraHylaedactylus'), ('Leptodactylidae', 'Adenomera', 'AdenomeraHylaedactylus'), ('Leptodactylidae', 'Adenomera', 'AdenomeraHylaedactylus'), ('Leptodactylidae', 'Adenomera', 'AdenomeraHylaedactylus'), ('Leptodactylidae', 'Adenomera', 'AdenomeraHylaedactylus'), ('Leptodactylidae', 'Adenomera', 'AdenomeraHylaedactylus'), ('Leptodactylidae', 'Adenomera', 'AdenomeraHylaedactylus'), ('Dendrobatidae', 'Ameerega', 'Ameeregatrivittata'), ('Leptodactylidae', 'Adenomera', 'AdenomeraHylaedactylus'), ('Leptodactylidae', 'Adenomera', 'AdenomeraHylaedactylus'), ('Leptodactylidae', 'Adenomera', 'AdenomeraAndre'), ('Leptodactylidae', 'Adenomera', 'AdenomeraHylaedactylus'), ('Hylidae', 'Dendropsophus', 'HylaMinuta'), ('Leptodactylidae', 'Adenomera', 'AdenomeraHylaedactylus'), ('Leptodactylidae', 'Adenomera', 'AdenomeraHylaedactylus'), ('Hylidae', 'Hypsiboas', 'HypsiboasCordobae'), ('Leptodactylidae', 'Adenomera', 'AdenomeraHylaedactylus'), ('Hylidae', 'Dendropsophus', 'HylaMinuta'), ('Leptodactylidae', 'Adenomera', 'AdenomeraHylaedactylus'), ('Hylidae', 'Scinax', 'ScinaxRuber'), ('Leptodactylidae', 'Adenomera', 'AdenomeraHylaedactylus'), ('Leptodactylidae', 'Leptodactylus', 'LeptodactylusFuscus'), ('Hylidae', 'Dendropsophus', 'HylaMinuta'), ('Hylidae', 'Hypsiboas', 'HypsiboasCordobae'), ('Leptodactylidae', 'Adenomera', 'AdenomeraHylaedactylus'), ('Hylidae', 'Hypsiboas', 'HypsiboasCinerascens'), ('Leptodactylidae', 'Adenomera', 'AdenomeraHylaedactylus'), ('Hylidae', 'Hypsiboas', 'HypsiboasCordobae'), ('Hylidae', 'Hypsiboas', 'HypsiboasCordobae'), ('Leptodactylidae', 'Adenomera', 'AdenomeraHylaedactylus'), ('Dendrobatidae', 'Ameerega', 'Ameeregatrivittata'), ('Dendrobatidae', 'Ameerega', 'Ameeregatrivittata'), ('Leptodactylidae', 'Dendropsophus', 'HylaMinuta'), ('Leptodactylidae', 'Adenomera', 'AdenomeraAndre'), ('Hylidae', 'Hypsiboas', 'HypsiboasCordobae'), ('Leptodactylidae', 'Adenomera', 'AdenomeraHylaedactylus'), ('Hylidae', 'Hypsiboas', 'HypsiboasCordobae'), ('Hylidae', 'Hypsiboas', 'HypsiboasCordobae'), ('Hylidae', 'Dendropsophus', 'HylaMinuta'), ('Hylidae', 'Hypsiboas', 'HypsiboasCordobae'), ('Leptodactylidae', 'Adenomera', 'AdenomeraHylaedactylus'), ('Hylidae', 'Hypsiboas', 'HypsiboasCinerascens'), ('Leptodactylidae', 'Adenomera', 'AdenomeraHylaedactylus'), ('Leptodactylidae', 'Adenomera', 'AdenomeraAndre'), ('Leptodactylidae', 'Adenomera', 'AdenomeraHylaedactylus'), ('Leptodactylidae', 'Adenomera', 'AdenomeraHylaedactylus'), ('Leptodactylidae', 'Adenomera', 'AdenomeraHylaedactylus'), ('Hylidae', 'Hypsiboas', 'HypsiboasCordobae'), ('Hylidae', 'Hypsiboas', 'HypsiboasCinerascens'), ('Dendrobatidae', 'Ameerega', 'Ameeregatrivittata'), ('Hylidae', 'Osteocephalus', 'OsteocephalusOophagus'), ('Hylidae', 'Hypsiboas', 'HypsiboasCordobae'), ('Leptodactylidae', 'Adenomera', 'AdenomeraAndre'), ('Hylidae', 'Hypsiboas', 'HypsiboasCordobae'), ('Leptodactylidae', 'Adenomera', 'AdenomeraHylaedactylus'), ('Hylidae', 'Hypsiboas', 'HypsiboasCordobae'), ('Leptodactylidae', 'Adenomera', 'AdenomeraHylaedactylus'), ('Leptodactylidae', 'Adenomera', 'AdenomeraHylaedactylus'), ('Hylidae', 'Hypsiboas', 'HypsiboasCordobae'), ('Hylidae', 'Hypsiboas', 'HypsiboasCinerascens'), ('Hylidae', 'Hypsiboas', 'HypsiboasCordobae'), ('Leptodactylidae', 'Adenomera', 'AdenomeraHylaedactylus'), ('Leptodactylidae', 'Adenomera', 'AdenomeraHylaedactylus'), ('Hylidae', 'Hypsiboas', 'HypsiboasCordobae'), ('Hylidae', 'Hypsiboas', 'HypsiboasCinerascens'), ('Leptodactylidae', 'Adenomera', 'AdenomeraHylaedactylus'), ('Hylidae', 'Dendropsophus', 'HylaMinuta'), ('Leptodactylidae', 'Adenomera', 'AdenomeraHylaedactylus'), ('Leptodactylidae', 'Adenomera', 'AdenomeraHylaedactylus'), ('Leptodactylidae', 'Adenomera', 'AdenomeraHylaedactylus'), ('Leptodactylidae', 'Adenomera', 'AdenomeraHylaedactylus'), ('Leptodactylidae', 'Leptodactylus', 'LeptodactylusFuscus'), ('Leptodactylidae', 'Adenomera', 'AdenomeraHylaedactylus'), ('Leptodactylidae', 'Adenomera', 'AdenomeraHylaedactylus'), ('Leptodactylidae', 'Adenomera', 'AdenomeraHylaedactylus'), ('Leptodactylidae', 'Adenomera', 'AdenomeraHylaedactylus'), ('Leptodactylidae', 'Adenomera', 'AdenomeraHylaedactylus'), ('Leptodactylidae', 'Adenomera', 'AdenomeraHylaedactylus'), ('Leptodactylidae', 'Adenomera', 'AdenomeraHylaedactylus'), ('Leptodactylidae', 'Adenomera', 'AdenomeraHylaedactylus'), ('Hylidae', 'Scinax', 'ScinaxRuber'), ('Hylidae', 'Hypsiboas', 'HypsiboasCinerascens'), ('Leptodactylidae', 'Adenomera', 'AdenomeraHylaedactylus'), ('Hylidae', 'Hypsiboas', 'HypsiboasCordobae'), ('Leptodactylidae', 'Adenomera', 'AdenomeraAndre'), ('Leptodactylidae', 'Adenomera', 'AdenomeraHylaedactylus'), ('Leptodactylidae', 'Adenomera', 'AdenomeraHylaedactylus'), ('Leptodactylidae', 'Adenomera', 'AdenomeraHylaedactylus'), ('Leptodactylidae', 'Adenomera', 'AdenomeraHylaedactylus'), ('Leptodactylidae', 'Adenomera', 'AdenomeraHylaedactylus'), ('Leptodactylidae', 'Adenomera', 'AdenomeraHylaedactylus'), ('Leptodactylidae', 'Adenomera', 'AdenomeraHylaedactylus'), ('Leptodactylidae', 'Adenomera', 'AdenomeraHylaedactylus'), ('Dendrobatidae', 'Ameerega', 'Ameeregatrivittata'), ('Hylidae', 'Hypsiboas', 'HypsiboasCordobae'), ('Hylidae', 'Hypsiboas', 'HypsiboasCordobae'), ('Hylidae', 'Dendropsophus', 'HylaMinuta'), ('Hylidae', 'Scinax', 'ScinaxRuber'), ('Hylidae', 'Osteocephalus', 'OsteocephalusOophagus'), ('Hylidae', 'Scinax', 'ScinaxRuber'), ('Leptodactylidae', 'Adenomera', 'AdenomeraHylaedactylus'), ('Hylidae', 'Hypsiboas', 'HypsiboasCordobae'), ('Dendrobatidae', 'Ameerega', 'Ameeregatrivittata'), ('Dendrobatidae', 'Ameerega', 'Ameeregatrivittata'), ('Dendrobatidae', 'Ameerega', 'Ameeregatrivittata'), ('Hylidae', 'Hypsiboas', 'HypsiboasCordobae'), ('Leptodactylidae', 'Adenomera', 'AdenomeraHylaedactylus'), ('Hylidae', 'Adenomera', 'AdenomeraHylaedactylus'), ('Leptodactylidae', 'Adenomera', 'AdenomeraAndre'), ('Leptodactylidae', 'Leptodactylus', 'LeptodactylusFuscus'), ('Leptodactylidae', 'Adenomera', 'AdenomeraHylaedactylus'), ('Hylidae', 'Hypsiboas', 'HypsiboasCinerascens'), ('Leptodactylidae', 'Adenomera', 'AdenomeraHylaedactylus'), ('Leptodactylidae', 'Adenomera', 'AdenomeraHylaedactylus'), ('Hylidae', 'Hypsiboas', 'HypsiboasCordobae'), ('Leptodactylidae', 'Adenomera', 'AdenomeraHylaedactylus'), ('Leptodactylidae', 'Adenomera', 'AdenomeraHylaedactylus'), ('Leptodactylidae', 'Adenomera', 'AdenomeraHylaedactylus'), ('Hylidae', 'Hypsiboas', 'HypsiboasCordobae'), ('Hylidae', 'Hypsiboas', 'HypsiboasCordobae'), ('Leptodactylidae', 'Adenomera', 'AdenomeraHylaedactylus'), ('Leptodactylidae', 'Leptodactylus', 'LeptodactylusFuscus'), ('Hylidae', 'Hypsiboas', 'HypsiboasCordobae'), ('Leptodactylidae', 'Adenomera', 'AdenomeraHylaedactylus'), ('Leptodactylidae', 'Adenomera', 'AdenomeraHylaedactylus'), ('Leptodactylidae', 'Adenomera', 'AdenomeraHylaedactylus'), ('Leptodactylidae', 'Adenomera', 'AdenomeraHylaedactylus'), ('Hylidae', 'Hypsiboas', 'HypsiboasCordobae'), ('Hylidae', 'Hypsiboas', 'HypsiboasCinerascens'), ('Hylidae', 'Hypsiboas', 'HypsiboasCordobae'), ('Leptodactylidae', 'Adenomera', 'AdenomeraAndre'), ('Leptodactylidae', 'Adenomera', 'AdenomeraAndre'), ('Leptodactylidae', 'Adenomera', 'AdenomeraHylaedactylus'), ('Hylidae', 'Dendropsophus', 'HylaMinuta'), ('Hylidae', 'Hypsiboas', 'HypsiboasCinerascens'), ('Hylidae', 'Hypsiboas', 'HypsiboasCordobae'), ('Leptodactylidae', 'Adenomera', 'AdenomeraHylaedactylus'), ('Leptodactylidae', 'Leptodactylus', 'LeptodactylusFuscus'), ('Leptodactylidae', 'Leptodactylus', 'LeptodactylusFuscus'), ('Leptodactylidae', 'Adenomera', 'AdenomeraAndre'), ('Hylidae', 'Osteocephalus', 'OsteocephalusOophagus'), ('Leptodactylidae', 'Adenomera', 'AdenomeraHylaedactylus'), ('Leptodactylidae', 'Adenomera', 'AdenomeraHylaedactylus'), ('Leptodactylidae', 'Adenomera', 'AdenomeraHylaedactylus'), ('Dendrobatidae', 'Ameerega', 'Ameeregatrivittata'), ('Leptodactylidae', 'Adenomera', 'AdenomeraHylaedactylus'), ('Leptodactylidae', 'Adenomera', 'AdenomeraHylaedactylus'), ('Hylidae', 'Hypsiboas', 'HypsiboasCinerascens'), ('Hylidae', 'Hypsiboas', 'HypsiboasCordobae'), ('Leptodactylidae', 'Adenomera', 'AdenomeraAndre'), ('Hylidae', 'Hypsiboas', 'HypsiboasCordobae'), ('Leptodactylidae', 'Adenomera', 'AdenomeraHylaedactylus'), ('Leptodactylidae', 'Adenomera', 'AdenomeraHylaedactylus'), ('Hylidae', 'Hypsiboas', 'HypsiboasCordobae'), ('Leptodactylidae', 'Leptodactylus', 'LeptodactylusFuscus'), ('Leptodactylidae', 'Adenomera', 'AdenomeraAndre'), ('Leptodactylidae', 'Adenomera', 'AdenomeraHylaedactylus'), ('Leptodactylidae', 'Adenomera', 'AdenomeraHylaedactylus'), ('Leptodactylidae', 'Adenomera', 'AdenomeraHylaedactylus'), ('Leptodactylidae', 'Adenomera', 'AdenomeraHylaedactylus'), ('Leptodactylidae', 'Adenomera', 'AdenomeraAndre'), ('Leptodactylidae', 'Leptodactylus', 'LeptodactylusFuscus'), ('Leptodactylidae', 'Adenomera', 'AdenomeraHylaedactylus'), ('Leptodactylidae', 'Adenomera', 'AdenomeraAndre'), ('Leptodactylidae', 'Adenomera', 'AdenomeraHylaedactylus'), ('Leptodactylidae', 'Adenomera', 'AdenomeraHylaedactylus'), ('Hylidae', 'Scinax', 'ScinaxRuber'), ('Leptodactylidae', 'Adenomera', 'AdenomeraHylaedactylus'), ('Leptodactylidae', 'Adenomera', 'AdenomeraHylaedactylus'), ('Leptodactylidae', 'Adenomera', 'AdenomeraAndre'), ('Leptodactylidae', 'Adenomera', 'AdenomeraHylaedactylus'), ('Leptodactylidae', 'Adenomera', 'AdenomeraHylaedactylus'), ('Leptodactylidae', 'Adenomera', 'AdenomeraAndre'), ('Hylidae', 'Hypsiboas', 'HypsiboasCordobae'), ('Hylidae', 'Dendropsophus', 'HylaMinuta'), ('Leptodactylidae', 'Adenomera', 'AdenomeraAndre'), ('Hylidae', 'Hypsiboas', 'HypsiboasCinerascens'), ('Leptodactylidae', 'Adenomera', 'AdenomeraAndre'), ('Leptodactylidae', 'Adenomera', 'AdenomeraHylaedactylus'), ('Leptodactylidae', 'Adenomera', 'AdenomeraHylaedactylus'), ('Leptodactylidae', 'Adenomera', 'AdenomeraHylaedactylus'), ('Hylidae', 'Hypsiboas', 'HypsiboasCordobae'), ('Leptodactylidae', 'Adenomera', 'AdenomeraHylaedactylus'), ('Leptodactylidae', 'Adenomera', 'AdenomeraAndre'), ('Leptodactylidae', 'Adenomera', 'AdenomeraHylaedactylus'), ('Leptodactylidae', 'Adenomera', 'AdenomeraHylaedactylus'), ('Dendrobatidae', 'Ameerega', 'Ameeregatrivittata'), ('Leptodactylidae', 'Adenomera', 'AdenomeraHylaedactylus'), ('Dendrobatidae', 'Ameerega', 'Ameeregatrivittata'), ('Leptodactylidae', 'Adenomera', 'AdenomeraHylaedactylus'), ('Leptodactylidae', 'Adenomera', 'AdenomeraAndre'), ('Hylidae', 'Hypsiboas', 'HypsiboasCinerascens'), ('Leptodactylidae', 'Adenomera', 'AdenomeraHylaedactylus'), ('Dendrobatidae', 'Ameerega', 'Ameeregatrivittata'), ('Hylidae', 'Hypsiboas', 'HypsiboasCordobae'), ('Leptodactylidae', 'Adenomera', 'AdenomeraHylaedactylus'), ('Hylidae', 'Osteocephalus', 'OsteocephalusOophagus'), ('Hylidae', 'Hypsiboas', 'HypsiboasCordobae'), ('Hylidae', 'Dendropsophus', 'HylaMinuta'), ('Leptodactylidae', 'Adenomera', 'AdenomeraHylaedactylus'), ('Leptodactylidae', 'Adenomera', 'AdenomeraAndre'), ('Leptodactylidae', 'Adenomera', 'AdenomeraHylaedactylus'), ('Hylidae', 'Hypsiboas', 'HypsiboasCordobae'), ('Hylidae', 'Hypsiboas', 'HypsiboasCordobae'), ('Leptodactylidae', 'Adenomera', 'AdenomeraAndre'), ('Leptodactylidae', 'Adenomera', 'AdenomeraHylaedactylus'), ('Hylidae', 'Dendropsophus', 'HylaMinuta'), ('Bufonidae', 'Rhinella', 'Rhinellagranulosa'), ('Hylidae', 'Hypsiboas', 'HypsiboasCordobae'), ('Leptodactylidae', 'Adenomera', 'AdenomeraHylaedactylus'), ('Hylidae', 'Dendropsophus', 'HylaMinuta'), ('Hylidae', 'Dendropsophus', 'HylaMinuta'), ('Leptodactylidae', 'Adenomera', 'AdenomeraHylaedactylus'), ('Leptodactylidae', 'Adenomera', 'AdenomeraHylaedactylus'), ('Hylidae', 'Hypsiboas', 'HypsiboasCordobae'), ('Hylidae', 'Hypsiboas', 'HypsiboasCordobae'), ('Hylidae', 'Hypsiboas', 'HypsiboasCordobae'), ('Leptodactylidae', 'Adenomera', 'AdenomeraHylaedactylus'), ('Leptodactylidae', 'Adenomera', 'AdenomeraHylaedactylus'), ('Leptodactylidae', 'Adenomera', 'AdenomeraHylaedactylus'), ('Leptodactylidae', 'Adenomera', 'AdenomeraHylaedactylus'), ('Hylidae', 'Scinax', 'ScinaxRuber'), ('Hylidae', 'Hypsiboas', 'HypsiboasCordobae'), ('Leptodactylidae', 'Adenomera', 'AdenomeraHylaedactylus'), ('Leptodactylidae', 'Adenomera', 'AdenomeraHylaedactylus'), ('Leptodactylidae', 'Adenomera', 'AdenomeraHylaedactylus'), ('Leptodactylidae', 'Adenomera', 'AdenomeraHylaedactylus'), ('Leptodactylidae', 'Adenomera', 'AdenomeraAndre'), ('Leptodactylidae', 'Adenomera', 'AdenomeraHylaedactylus'), ('Leptodactylidae', 'Adenomera', 'AdenomeraHylaedactylus'), ('Leptodactylidae', 'Adenomera', 'AdenomeraAndre'), ('Leptodactylidae', 'Adenomera', 'AdenomeraHylaedactylus'), ('Leptodactylidae', 'Leptodactylus', 'LeptodactylusFuscus'), ('Hylidae', 'Hypsiboas', 'HypsiboasCordobae'), ('Hylidae', 'Hypsiboas', 'HypsiboasCordobae'), ('Hylidae', 'Hypsiboas', 'HypsiboasCordobae'), ('Leptodactylidae', 'Adenomera', 'AdenomeraAndre'), ('Leptodactylidae', 'Adenomera', 'AdenomeraHylaedactylus'), ('Leptodactylidae', 'Adenomera', 'AdenomeraHylaedactylus'), ('Hylidae', 'Hypsiboas', 'HypsiboasCinerascens'), ('Leptodactylidae', 'Adenomera', 'AdenomeraHylaedactylus'), ('Leptodactylidae', 'Adenomera', 'AdenomeraHylaedactylus'), ('Leptodactylidae', 'Adenomera', 'AdenomeraHylaedactylus'), ('Hylidae', 'Hypsiboas', 'HypsiboasCordobae'), ('Leptodactylidae', 'Adenomera', 'AdenomeraHylaedactylus'), ('Leptodactylidae', 'Adenomera', 'AdenomeraAndre'), ('Leptodactylidae', 'Adenomera', 'AdenomeraAndre'), ('Leptodactylidae', 'Adenomera', 'AdenomeraHylaedactylus'), ('Hylidae', 'Hypsiboas', 'HypsiboasCordobae'), ('Leptodactylidae', 'Adenomera', 'AdenomeraHylaedactylus'), ('Leptodactylidae', 'Adenomera', 'AdenomeraHylaedactylus'), ('Leptodactylidae', 'Adenomera', 'AdenomeraHylaedactylus'), ('Dendrobatidae', 'Ameerega', 'Ameeregatrivittata'), ('Dendrobatidae', 'Ameerega', 'Ameeregatrivittata'), ('Hylidae', 'Hypsiboas', 'HypsiboasCordobae'), ('Leptodactylidae', 'Adenomera', 'AdenomeraHylaedactylus'), ('Hylidae', 'Hypsiboas', 'HypsiboasCinerascens'), ('Dendrobatidae', 'Ameerega', 'Ameeregatrivittata'), ('Leptodactylidae', 'Adenomera', 'AdenomeraAndre'), ('Leptodactylidae', 'Adenomera', 'AdenomeraHylaedactylus'), ('Hylidae', 'Hypsiboas', 'HypsiboasCordobae'), ('Hylidae', 'Scinax', 'ScinaxRuber'), ('Hylidae', 'Hypsiboas', 'HypsiboasCordobae'), ('Leptodactylidae', 'Adenomera', 'AdenomeraHylaedactylus'), ('Leptodactylidae', 'Adenomera', 'AdenomeraHylaedactylus'), ('Leptodactylidae', 'Adenomera', 'AdenomeraHylaedactylus'), ('Leptodactylidae', 'Leptodactylus', 'LeptodactylusFuscus'), ('Leptodactylidae', 'Adenomera', 'AdenomeraHylaedactylus'), ('Leptodactylidae', 'Leptodactylus', 'LeptodactylusFuscus'), ('Leptodactylidae', 'Adenomera', 'AdenomeraHylaedactylus'), ('Hylidae', 'Hypsiboas', 'HypsiboasCordobae'), ('Leptodactylidae', 'Adenomera', 'AdenomeraHylaedactylus'), ('Dendrobatidae', 'Ameerega', 'Ameeregatrivittata'), ('Leptodactylidae', 'Adenomera', 'AdenomeraHylaedactylus'), ('Leptodactylidae', 'Adenomera', 'AdenomeraHylaedactylus'), ('Hylidae', 'Hypsiboas', 'HypsiboasCordobae'), ('Hylidae', 'Dendropsophus', 'HylaMinuta'), ('Hylidae', 'Dendropsophus', 'HylaMinuta'), ('Bufonidae', 'Rhinella', 'Rhinellagranulosa'), ('Dendrobatidae', 'Ameerega', 'Ameeregatrivittata'), ('Leptodactylidae', 'Adenomera', 'AdenomeraHylaedactylus'), ('Leptodactylidae', 'Adenomera', 'AdenomeraHylaedactylus'), ('Dendrobatidae', 'Ameerega', 'Ameeregatrivittata'), ('Hylidae', 'Scinax', 'ScinaxRuber'), ('Hylidae', 'Hypsiboas', 'HypsiboasCordobae'), ('Leptodactylidae', 'Adenomera', 'AdenomeraHylaedactylus'), ('Leptodactylidae', 'Adenomera', 'AdenomeraHylaedactylus'), ('Hylidae', 'Hypsiboas', 'HypsiboasCordobae'), ('Leptodactylidae', 'Adenomera', 'AdenomeraHylaedactylus'), ('Leptodactylidae', 'Adenomera', 'AdenomeraHylaedactylus'), ('Leptodactylidae', 'Adenomera', 'AdenomeraHylaedactylus'), ('Leptodactylidae', 'Adenomera', 'AdenomeraHylaedactylus'), ('Leptodactylidae', 'Adenomera', 'AdenomeraHylaedactylus'), ('Leptodactylidae', 'Adenomera', 'AdenomeraAndre'), ('Leptodactylidae', 'Adenomera', 'AdenomeraHylaedactylus'), ('Leptodactylidae', 'Adenomera', 'AdenomeraHylaedactylus'), ('Hylidae', 'Hypsiboas', 'HypsiboasCordobae'), ('Hylidae', 'Hypsiboas', 'HypsiboasCordobae'), ('Hylidae', 'Hypsiboas', 'HypsiboasCinerascens'), ('Dendrobatidae', 'Ameerega', 'Ameeregatrivittata'), ('Leptodactylidae', 'Adenomera', 'AdenomeraAndre'), ('Dendrobatidae', 'Ameerega', 'Ameeregatrivittata'), ('Leptodactylidae', 'Adenomera', 'AdenomeraHylaedactylus'), ('Leptodactylidae', 'Adenomera', 'AdenomeraHylaedactylus'), ('Hylidae', 'Dendropsophus', 'HylaMinuta'), ('Leptodactylidae', 'Adenomera', 'AdenomeraHylaedactylus'), ('Leptodactylidae', 'Adenomera', 'AdenomeraHylaedactylus'), ('Hylidae', 'Hypsiboas', 'HypsiboasCordobae'), ('Leptodactylidae', 'Adenomera', 'AdenomeraHylaedactylus'), ('Leptodactylidae', 'Adenomera', 'AdenomeraHylaedactylus'), ('Leptodactylidae', 'Adenomera', 'AdenomeraHylaedactylus'), ('Leptodactylidae', 'Adenomera', 'AdenomeraHylaedactylus'), ('Hylidae', 'Hypsiboas', 'HypsiboasCordobae'), ('Hylidae', 'Dendropsophus', 'HylaMinuta'), ('Leptodactylidae', 'Adenomera', 'AdenomeraAndre'), ('Leptodactylidae', 'Adenomera', 'AdenomeraHylaedactylus'), ('Hylidae', 'Hypsiboas', 'HypsiboasCordobae'), ('Leptodactylidae', 'Adenomera', 'AdenomeraAndre'), ('Leptodactylidae', 'Adenomera', 'AdenomeraHylaedactylus'), ('Hylidae', 'Hypsiboas', 'HypsiboasCinerascens'), ('Leptodactylidae', 'Adenomera', 'AdenomeraHylaedactylus'), ('Hylidae', 'Hypsiboas', 'HypsiboasCordobae'), ('Hylidae', 'Adenomera', 'HylaMinuta'), ('Hylidae', 'Hypsiboas', 'HypsiboasCinerascens'), ('Hylidae', 'Hypsiboas', 'HypsiboasCordobae'), ('Leptodactylidae', 'Adenomera', 'AdenomeraHylaedactylus'), ('Leptodactylidae', 'Adenomera', 'AdenomeraHylaedactylus'), ('Dendrobatidae', 'Ameerega', 'Ameeregatrivittata'), ('Hylidae', 'Hypsiboas', 'HypsiboasCordobae'), ('Leptodactylidae', 'Adenomera', 'AdenomeraHylaedactylus'), ('Hylidae', 'Hypsiboas', 'HypsiboasCordobae'), ('Leptodactylidae', 'Adenomera', 'AdenomeraHylaedactylus'), ('Hylidae', 'Dendropsophus', 'HylaMinuta'), ('Leptodactylidae', 'Adenomera', 'AdenomeraAndre'), ('Leptodactylidae', 'Adenomera', 'AdenomeraHylaedactylus'), ('Leptodactylidae', 'Adenomera', 'AdenomeraAndre'), ('Leptodactylidae', 'Adenomera', 'AdenomeraHylaedactylus'), ('Leptodactylidae', 'Adenomera', 'AdenomeraHylaedactylus'), ('Leptodactylidae', 'Adenomera', 'AdenomeraHylaedactylus'), ('Hylidae', 'Hypsiboas', 'HypsiboasCordobae'), ('Dendrobatidae', 'Ameerega', 'Ameeregatrivittata'), ('Leptodactylidae', 'Adenomera', 'AdenomeraHylaedactylus'), ('Leptodactylidae', 'Adenomera', 'AdenomeraHylaedactylus'), ('Leptodactylidae', 'Adenomera', 'AdenomeraHylaedactylus'), ('Hylidae', 'Hypsiboas', 'HypsiboasCordobae'), ('Hylidae', 'Dendropsophus', 'HylaMinuta'), ('Hylidae', 'Hypsiboas', 'HypsiboasCordobae'), ('Dendrobatidae', 'Ameerega', 'Ameeregatrivittata'), ('Leptodactylidae', 'Adenomera', 'AdenomeraHylaedactylus'), ('Leptodactylidae', 'Adenomera', 'AdenomeraAndre'), ('Hylidae', 'Hypsiboas', 'HypsiboasCinerascens'), ('Hylidae', 'Hypsiboas', 'HypsiboasCordobae'), ('Leptodactylidae', 'Adenomera', 'AdenomeraHylaedactylus'), ('Leptodactylidae', 'Adenomera', 'AdenomeraHylaedactylus'), ('Leptodactylidae', 'Adenomera', 'AdenomeraAndre'), ('Hylidae', 'Hypsiboas', 'HypsiboasCordobae'), ('Leptodactylidae', 'Adenomera', 'AdenomeraAndre'), ('Hylidae', 'Hypsiboas', 'HypsiboasCordobae'), ('Leptodactylidae', 'Adenomera', 'AdenomeraHylaedactylus'), ('Leptodactylidae', 'Adenomera', 'AdenomeraHylaedactylus'), ('Leptodactylidae', 'Adenomera', 'AdenomeraHylaedactylus'), ('Leptodactylidae', 'Adenomera', 'AdenomeraHylaedactylus'), ('Dendrobatidae', 'Ameerega', 'Ameeregatrivittata'), ('Leptodactylidae', 'Adenomera', 'AdenomeraHylaedactylus'), ('Hylidae', 'Hypsiboas', 'HypsiboasCordobae'), ('Leptodactylidae', 'Adenomera', 'AdenomeraHylaedactylus'), ('Hylidae', 'Dendropsophus', 'HylaMinuta'), ('Dendrobatidae', 'Ameerega', 'Ameeregatrivittata'), ('Leptodactylidae', 'Adenomera', 'AdenomeraHylaedactylus'), ('Leptodactylidae', 'Adenomera', 'AdenomeraHylaedactylus'), ('Leptodactylidae', 'Adenomera', 'AdenomeraHylaedactylus'), ('Leptodactylidae', 'Adenomera', 'AdenomeraHylaedactylus'), ('Hylidae', 'Hypsiboas', 'HypsiboasCinerascens'), ('Leptodactylidae', 'Adenomera', 'AdenomeraHylaedactylus'), ('Leptodactylidae', 'Adenomera', 'AdenomeraHylaedactylus'), ('Leptodactylidae', 'Adenomera', 'AdenomeraHylaedactylus'), ('Leptodactylidae', 'Adenomera', 'AdenomeraHylaedactylus'), ('Leptodactylidae', 'Adenomera', 'AdenomeraHylaedactylus'), ('Leptodactylidae', 'Adenomera', 'AdenomeraHylaedactylus'), ('Hylidae', 'Hypsiboas', 'HypsiboasCordobae'), ('Hylidae', 'Scinax', 'ScinaxRuber'), ('Leptodactylidae', 'Adenomera', 'AdenomeraHylaedactylus'), ('Leptodactylidae', 'Adenomera', 'AdenomeraHylaedactylus'), ('Hylidae', 'Hypsiboas', 'HypsiboasCordobae'), ('Leptodactylidae', 'Adenomera', 'AdenomeraHylaedactylus'), ('Leptodactylidae', 'Adenomera', 'AdenomeraHylaedactylus'), ('Leptodactylidae', 'Adenomera', 'AdenomeraAndre'), ('Dendrobatidae', 'Ameerega', 'Ameeregatrivittata'), ('Dendrobatidae', 'Ameerega', 'Ameeregatrivittata'), ('Leptodactylidae', 'Adenomera', 'AdenomeraHylaedactylus'), ('Hylidae', 'Dendropsophus', 'HylaMinuta'), ('Leptodactylidae', 'Adenomera', 'AdenomeraHylaedactylus'), ('Leptodactylidae', 'Leptodactylus', 'LeptodactylusFuscus'), ('Leptodactylidae', 'Adenomera', 'AdenomeraHylaedactylus'), ('Hylidae', 'Hypsiboas', 'HypsiboasCordobae'), ('Leptodactylidae', 'Adenomera', 'AdenomeraHylaedactylus'), ('Hylidae', 'Hypsiboas', 'HypsiboasCordobae'), ('Leptodactylidae', 'Adenomera', 'AdenomeraHylaedactylus'), ('Dendrobatidae', 'Ameerega', 'Ameeregatrivittata'), ('Leptodactylidae', 'Leptodactylus', 'LeptodactylusFuscus'), ('Leptodactylidae', 'Adenomera', 'AdenomeraHylaedactylus'), ('Hylidae', 'Hypsiboas', 'HypsiboasCordobae'), ('Leptodactylidae', 'Adenomera', 'AdenomeraHylaedactylus'), ('Leptodactylidae', 'Leptodactylus', 'LeptodactylusFuscus'), ('Hylidae', 'Hypsiboas', 'HypsiboasCordobae'), ('Leptodactylidae', 'Adenomera', 'AdenomeraHylaedactylus'), ('Leptodactylidae', 'Adenomera', 'AdenomeraHylaedactylus'), ('Leptodactylidae', 'Adenomera', 'AdenomeraHylaedactylus'), ('Hylidae', 'Hypsiboas', 'HypsiboasCordobae'), ('Leptodactylidae', 'Adenomera', 'AdenomeraHylaedactylus'), ('Leptodactylidae', 'Adenomera', 'AdenomeraHylaedactylus'), ('Leptodactylidae', 'Adenomera', 'AdenomeraHylaedactylus'), ('Leptodactylidae', 'Adenomera', 'AdenomeraHylaedactylus'), ('Leptodactylidae', 'Adenomera', 'AdenomeraHylaedactylus'), ('Hylidae', 'Dendropsophus', 'HylaMinuta'), ('Leptodactylidae', 'Adenomera', 'AdenomeraHylaedactylus'), ('Leptodactylidae', 'Adenomera', 'AdenomeraHylaedactylus'), ('Hylidae', 'Hypsiboas', 'HypsiboasCinerascens'), ('Leptodactylidae', 'Adenomera', 'AdenomeraHylaedactylus'), ('Leptodactylidae', 'Adenomera', 'AdenomeraHylaedactylus'), ('Leptodactylidae', 'Adenomera', 'AdenomeraHylaedactylus'), ('Hylidae', 'Hypsiboas', 'HypsiboasCinerascens'), ('Hylidae', 'Hypsiboas', 'HypsiboasCinerascens'), ('Leptodactylidae', 'Adenomera', 'AdenomeraHylaedactylus'), ('Leptodactylidae', 'Adenomera', 'AdenomeraHylaedactylus'), ('Hylidae', 'Scinax', 'ScinaxRuber'), ('Leptodactylidae', 'Adenomera', 'AdenomeraHylaedactylus'), ('Leptodactylidae', 'Adenomera', 'AdenomeraHylaedactylus'), ('Leptodactylidae', 'Adenomera', 'AdenomeraHylaedactylus'), ('Leptodactylidae', 'Adenomera', 'AdenomeraAndre'), ('Hylidae', 'Hypsiboas', 'HypsiboasCinerascens'), ('Hylidae', 'Hypsiboas', 'HypsiboasCordobae'), ('Hylidae', 'Scinax', 'ScinaxRuber'), ('Leptodactylidae', 'Adenomera', 'AdenomeraAndre'), ('Leptodactylidae', 'Adenomera', 'AdenomeraHylaedactylus'), ('Leptodactylidae', 'Adenomera', 'AdenomeraHylaedactylus'), ('Leptodactylidae', 'Adenomera', 'AdenomeraHylaedactylus'), ('Leptodactylidae', 'Adenomera', 'AdenomeraHylaedactylus'), ('Hylidae', 'Hypsiboas', 'HypsiboasCordobae'), ('Leptodactylidae', 'Adenomera', 'AdenomeraHylaedactylus'), ('Leptodactylidae', 'Adenomera', 'AdenomeraAndre'), ('Leptodactylidae', 'Adenomera', 'AdenomeraHylaedactylus'), ('Leptodactylidae', 'Adenomera', 'AdenomeraHylaedactylus'), ('Leptodactylidae', 'Adenomera', 'AdenomeraHylaedactylus'), ('Leptodactylidae', 'Adenomera', 'AdenomeraHylaedactylus'), ('Dendrobatidae', 'Ameerega', 'Ameeregatrivittata'), ('Leptodactylidae', 'Adenomera', 'AdenomeraHylaedactylus'), ('Leptodactylidae', 'Adenomera', 'AdenomeraHylaedactylus'), ('Leptodactylidae', 'Adenomera', 'AdenomeraHylaedactylus'), ('Leptodactylidae', 'Adenomera', 'AdenomeraHylaedactylus'), ('Hylidae', 'Osteocephalus', 'OsteocephalusOophagus'), ('Leptodactylidae', 'Adenomera', 'AdenomeraHylaedactylus'), ('Leptodactylidae', 'Adenomera', 'AdenomeraHylaedactylus'), ('Leptodactylidae', 'Adenomera', 'AdenomeraHylaedactylus'), ('Leptodactylidae', 'Adenomera', 'AdenomeraHylaedactylus'), ('Hylidae', 'Hypsiboas', 'HypsiboasCordobae'), ('Leptodactylidae', 'Adenomera', 'AdenomeraHylaedactylus'), ('Hylidae', 'Hypsiboas', 'HypsiboasCordobae'), ('Leptodactylidae', 'Adenomera', 'AdenomeraHylaedactylus'), ('Leptodactylidae', 'Adenomera', 'AdenomeraHylaedactylus'), ('Leptodactylidae', 'Adenomera', 'AdenomeraHylaedactylus'), ('Leptodactylidae', 'Adenomera', 'AdenomeraHylaedactylus'), ('Leptodactylidae', 'Adenomera', 'AdenomeraHylaedactylus'), ('Leptodactylidae', 'Adenomera', 'AdenomeraHylaedactylus'), ('Leptodactylidae', 'Adenomera', 'AdenomeraHylaedactylus'), ('Hylidae', 'Hypsiboas', 'HypsiboasCordobae'), ('Leptodactylidae', 'Adenomera', 'AdenomeraHylaedactylus'), ('Leptodactylidae', 'Adenomera', 'AdenomeraHylaedactylus'), ('Leptodactylidae', 'Adenomera', 'AdenomeraHylaedactylus'), ('Dendrobatidae', 'Ameerega', 'Ameeregatrivittata'), ('Hylidae', 'Hypsiboas', 'HypsiboasCordobae'), ('Hylidae', 'Osteocephalus', 'OsteocephalusOophagus'), ('Hylidae', 'Osteocephalus', 'OsteocephalusOophagus'), ('Dendrobatidae', 'Ameerega', 'Ameeregatrivittata'), ('Leptodactylidae', 'Adenomera', 'AdenomeraHylaedactylus'), ('Leptodactylidae', 'Adenomera', 'AdenomeraHylaedactylus'), ('Hylidae', 'Hypsiboas', 'HypsiboasCinerascens'), ('Leptodactylidae', 'Adenomera', 'AdenomeraHylaedactylus'), ('Leptodactylidae', 'Leptodactylus', 'LeptodactylusFuscus'), ('Dendrobatidae', 'Ameerega', 'Ameeregatrivittata'), ('Hylidae', 'Dendropsophus', 'HylaMinuta'), ('Hylidae', 'Hypsiboas', 'HypsiboasCordobae'), ('Leptodactylidae', 'Leptodactylus', 'LeptodactylusFuscus'), ('Bufonidae', 'Rhinella', 'Rhinellagranulosa'), ('Leptodactylidae', 'Adenomera', 'AdenomeraHylaedactylus'), ('Leptodactylidae', 'Leptodactylus', 'LeptodactylusFuscus'), ('Hylidae', 'Hypsiboas', 'HypsiboasCordobae'), ('Leptodactylidae', 'Adenomera', 'AdenomeraHylaedactylus'), ('Hylidae', 'Hypsiboas', 'HypsiboasCinerascens'), ('Leptodactylidae', 'Adenomera', 'AdenomeraHylaedactylus'), ('Hylidae', 'Hypsiboas', 'HypsiboasCordobae'), ('Leptodactylidae', 'Adenomera', 'AdenomeraAndre'), ('Leptodactylidae', 'Adenomera', 'AdenomeraAndre'), ('Leptodactylidae', 'Adenomera', 'AdenomeraAndre'), ('Leptodactylidae', 'Adenomera', 'AdenomeraHylaedactylus'), ('Leptodactylidae', 'Adenomera', 'AdenomeraHylaedactylus'), ('Hylidae', 'Hypsiboas', 'HypsiboasCinerascens'), ('Leptodactylidae', 'Adenomera', 'AdenomeraAndre'), ('Leptodactylidae', 'Adenomera', 'AdenomeraHylaedactylus'), ('Hylidae', 'Dendropsophus', 'HylaMinuta'), ('Leptodactylidae', 'Adenomera', 'AdenomeraHylaedactylus'), ('Leptodactylidae', 'Adenomera', 'AdenomeraAndre'), ('Leptodactylidae', 'Adenomera', 'AdenomeraHylaedactylus'), ('Leptodactylidae', 'Adenomera', 'AdenomeraHylaedactylus'), ('Leptodactylidae', 'Adenomera', 'AdenomeraAndre'), ('Leptodactylidae', 'Adenomera', 'AdenomeraAndre'), ('Leptodactylidae', 'Adenomera', 'AdenomeraHylaedactylus'), ('Leptodactylidae', 'Adenomera', 'AdenomeraHylaedactylus'), ('Hylidae', 'Hypsiboas', 'HypsiboasCordobae'), ('Leptodactylidae', 'Adenomera', 'AdenomeraHylaedactylus'), ('Leptodactylidae', 'Adenomera', 'AdenomeraHylaedactylus'), ('Dendrobatidae', 'Ameerega', 'Ameeregatrivittata'), ('Hylidae', 'Hypsiboas', 'HypsiboasCordobae'), ('Leptodactylidae', 'Adenomera', 'AdenomeraHylaedactylus'), ('Leptodactylidae', 'Adenomera', 'AdenomeraHylaedactylus'), ('Leptodactylidae', 'Adenomera', 'AdenomeraHylaedactylus'), ('Leptodactylidae', 'Adenomera', 'AdenomeraHylaedactylus'), ('Hylidae', 'Hypsiboas', 'HypsiboasCordobae'), ('Leptodactylidae', 'Adenomera', 'AdenomeraHylaedactylus'), ('Leptodactylidae', 'Adenomera', 'AdenomeraHylaedactylus'), ('Hylidae', 'Hypsiboas', 'HypsiboasCinerascens'), ('Leptodactylidae', 'Adenomera', 'AdenomeraHylaedactylus'), ('Leptodactylidae', 'Adenomera', 'AdenomeraHylaedactylus'), ('Hylidae', 'Hypsiboas', 'HypsiboasCordobae'), ('Leptodactylidae', 'Adenomera', 'AdenomeraHylaedactylus'), ('Leptodactylidae', 'Adenomera', 'AdenomeraHylaedactylus'), ('Hylidae', 'Hypsiboas', 'HypsiboasCordobae'), ('Dendrobatidae', 'Ameerega', 'Ameeregatrivittata'), ('Leptodactylidae', 'Adenomera', 'AdenomeraHylaedactylus'), ('Hylidae', 'Hypsiboas', 'HypsiboasCinerascens'), ('Leptodactylidae', 'Adenomera', 'AdenomeraHylaedactylus'), ('Leptodactylidae', 'Adenomera', 'AdenomeraHylaedactylus'), ('Leptodactylidae', 'Adenomera', 'AdenomeraHylaedactylus'), ('Leptodactylidae', 'Adenomera', 'AdenomeraHylaedactylus'), ('Leptodactylidae', 'Adenomera', 'AdenomeraHylaedactylus'), ('Leptodactylidae', 'Adenomera', 'AdenomeraHylaedactylus'), ('Leptodactylidae', 'Adenomera', 'AdenomeraHylaedactylus'), ('Hylidae', 'Adenomera', 'ScinaxRuber'), ('Leptodactylidae', 'Adenomera', 'AdenomeraHylaedactylus'), ('Leptodactylidae', 'Adenomera', 'AdenomeraHylaedactylus'), ('Leptodactylidae', 'Leptodactylus', 'LeptodactylusFuscus'), ('Leptodactylidae', 'Adenomera', 'AdenomeraHylaedactylus'), ('Hylidae', 'Hypsiboas', 'HypsiboasCinerascens'), ('Hylidae', 'Hypsiboas', 'HypsiboasCordobae'), ('Hylidae', 'Hypsiboas', 'HypsiboasCordobae'), ('Hylidae', 'Hypsiboas', 'HypsiboasCordobae'), ('Hylidae', 'Hypsiboas', 'HypsiboasCordobae'), ('Leptodactylidae', 'Adenomera', 'AdenomeraAndre'), ('Leptodactylidae', 'Adenomera', 'AdenomeraHylaedactylus'), ('Leptodactylidae', 'Adenomera', 'AdenomeraHylaedactylus'), ('Leptodactylidae', 'Adenomera', 'AdenomeraHylaedactylus'), ('Hylidae', 'Hypsiboas', 'HypsiboasCordobae'), ('Hylidae', 'Dendropsophus', 'HylaMinuta'), ('Leptodactylidae', 'Adenomera', 'AdenomeraHylaedactylus'), ('Leptodactylidae', 'Adenomera', 'AdenomeraHylaedactylus'), ('Leptodactylidae', 'Adenomera', 'AdenomeraAndre'), ('Leptodactylidae', 'Adenomera', 'AdenomeraHylaedactylus'), ('Leptodactylidae', 'Adenomera', 'AdenomeraHylaedactylus'), ('Leptodactylidae', 'Adenomera', 'AdenomeraHylaedactylus'), ('Leptodactylidae', 'Adenomera', 'AdenomeraHylaedactylus'), ('Bufonidae', 'Rhinella', 'Rhinellagranulosa'), ('Hylidae', 'Hypsiboas', 'HypsiboasCinerascens'), ('Leptodactylidae', 'Adenomera', 'AdenomeraHylaedactylus'), ('Leptodactylidae', 'Adenomera', 'AdenomeraHylaedactylus'), ('Leptodactylidae', 'Leptodactylus', 'LeptodactylusFuscus'), ('Leptodactylidae', 'Adenomera', 'AdenomeraAndre'), ('Leptodactylidae', 'Adenomera', 'AdenomeraHylaedactylus'), ('Leptodactylidae', 'Adenomera', 'AdenomeraHylaedactylus'), ('Hylidae', 'Hypsiboas', 'HypsiboasCordobae'), ('Leptodactylidae', 'Adenomera', 'AdenomeraAndre'), ('Leptodactylidae', 'Leptodactylus', 'LeptodactylusFuscus'), ('Leptodactylidae', 'Adenomera', 'AdenomeraHylaedactylus'), ('Leptodactylidae', 'Adenomera', 'AdenomeraHylaedactylus'), ('Leptodactylidae', 'Adenomera', 'AdenomeraHylaedactylus'), ('Leptodactylidae', 'Adenomera', 'AdenomeraHylaedactylus'), ('Leptodactylidae', 'Adenomera', 'AdenomeraHylaedactylus'), ('Leptodactylidae', 'Leptodactylus', 'LeptodactylusFuscus'), ('Hylidae', 'Hypsiboas', 'HypsiboasCordobae'), ('Leptodactylidae', 'Adenomera', 'AdenomeraHylaedactylus'), ('Leptodactylidae', 'Adenomera', 'AdenomeraHylaedactylus'), ('Hylidae', 'Hypsiboas', 'HypsiboasCordobae'), ('Leptodactylidae', 'Adenomera', 'AdenomeraHylaedactylus'), ('Hylidae', 'Hypsiboas', 'HypsiboasCinerascens'), ('Hylidae', 'Hypsiboas', 'HypsiboasCordobae'), ('Leptodactylidae', 'Adenomera', 'AdenomeraHylaedactylus'), ('Leptodactylidae', 'Adenomera', 'AdenomeraAndre'), ('Leptodactylidae', 'Adenomera', 'AdenomeraHylaedactylus'), ('Leptodactylidae', 'Adenomera', 'AdenomeraHylaedactylus'), ('Leptodactylidae', 'Leptodactylus', 'LeptodactylusFuscus'), ('Hylidae', 'Hypsiboas', 'HypsiboasCordobae'), ('Leptodactylidae', 'Adenomera', 'AdenomeraAndre'), ('Leptodactylidae', 'Adenomera', 'AdenomeraAndre'), ('Hylidae', 'Hypsiboas', 'HypsiboasCordobae'), ('Leptodactylidae', 'Adenomera', 'AdenomeraHylaedactylus'), ('Hylidae', 'Adenomera', 'AdenomeraAndre'), ('Hylidae', 'Hypsiboas', 'HypsiboasCinerascens'), ('Leptodactylidae', 'Adenomera', 'AdenomeraHylaedactylus'), ('Leptodactylidae', 'Adenomera', 'AdenomeraHylaedactylus'), ('Hylidae', 'Hypsiboas', 'HypsiboasCordobae'), ('Hylidae', 'Hypsiboas', 'HypsiboasCordobae'), ('Leptodactylidae', 'Adenomera', 'AdenomeraHylaedactylus'), ('Hylidae', 'Hypsiboas', 'HypsiboasCinerascens'), ('Hylidae', 'Hypsiboas', 'HypsiboasCordobae'), ('Hylidae', 'Hypsiboas', 'HypsiboasCordobae'), ('Leptodactylidae', 'Adenomera', 'AdenomeraHylaedactylus'), ('Hylidae', 'Hypsiboas', 'HypsiboasCinerascens'), ('Leptodactylidae', 'Adenomera', 'HylaMinuta'), ('Hylidae', 'Osteocephalus', 'OsteocephalusOophagus'), ('Leptodactylidae', 'Adenomera', 'AdenomeraHylaedactylus'), ('Hylidae', 'Dendropsophus', 'HylaMinuta'), ('Leptodactylidae', 'Adenomera', 'AdenomeraAndre'), ('Leptodactylidae', 'Leptodactylus', 'LeptodactylusFuscus'), ('Leptodactylidae', 'Adenomera', 'AdenomeraHylaedactylus'), ('Leptodactylidae', 'Adenomera', 'AdenomeraHylaedactylus'), ('Leptodactylidae', 'Adenomera', 'AdenomeraHylaedactylus'), ('Leptodactylidae', 'Leptodactylus', 'LeptodactylusFuscus'), ('Leptodactylidae', 'Adenomera', 'AdenomeraAndre'), ('Leptodactylidae', 'Adenomera', 'AdenomeraHylaedactylus'), ('Leptodactylidae', 'Adenomera', 'AdenomeraHylaedactylus'), ('Leptodactylidae', 'Adenomera', 'AdenomeraAndre'), ('Leptodactylidae', 'Adenomera', 'AdenomeraAndre'), ('Hylidae', 'Hypsiboas', 'HypsiboasCordobae'), ('Leptodactylidae', 'Adenomera', 'AdenomeraHylaedactylus'), ('Dendrobatidae', 'Ameerega', 'Ameeregatrivittata'), ('Leptodactylidae', 'Adenomera', 'AdenomeraHylaedactylus'), ('Hylidae', 'Hypsiboas', 'HypsiboasCordobae'), ('Leptodactylidae', 'Adenomera', 'AdenomeraHylaedactylus'), ('Dendrobatidae', 'Ameerega', 'Ameeregatrivittata'), ('Leptodactylidae', 'Adenomera', 'AdenomeraHylaedactylus'), ('Leptodactylidae', 'Adenomera', 'AdenomeraHylaedactylus'), ('Dendrobatidae', 'Ameerega', 'Ameeregatrivittata'), ('Leptodactylidae', 'Adenomera', 'AdenomeraHylaedactylus'), ('Leptodactylidae', 'Adenomera', 'AdenomeraHylaedactylus'), ('Hylidae', 'Hypsiboas', 'HypsiboasCordobae'), ('Leptodactylidae', 'Adenomera', 'AdenomeraHylaedactylus'), ('Leptodactylidae', 'Adenomera', 'AdenomeraAndre'), ('Hylidae', 'Dendropsophus', 'HylaMinuta'), ('Leptodactylidae', 'Adenomera', 'AdenomeraHylaedactylus'), ('Dendrobatidae', 'Ameerega', 'Ameeregatrivittata'), ('Leptodactylidae', 'Adenomera', 'AdenomeraHylaedactylus'), ('Hylidae', 'Hypsiboas', 'HypsiboasCordobae'), ('Leptodactylidae', 'Adenomera', 'AdenomeraHylaedactylus'), ('Hylidae', 'Scinax', 'ScinaxRuber'), ('Leptodactylidae', 'Adenomera', 'AdenomeraHylaedactylus'), ('Leptodactylidae', 'Leptodactylus', 'LeptodactylusFuscus'), ('Hylidae', 'Hypsiboas', 'HypsiboasCordobae'), ('Hylidae', 'Hypsiboas', 'HypsiboasCordobae'), ('Leptodactylidae', 'Adenomera', 'AdenomeraHylaedactylus'), ('Leptodactylidae', 'Adenomera', 'AdenomeraHylaedactylus'), ('Leptodactylidae', 'Adenomera', 'AdenomeraHylaedactylus'), ('Leptodactylidae', 'Adenomera', 'AdenomeraHylaedactylus'), ('Leptodactylidae', 'Adenomera', 'AdenomeraHylaedactylus'), ('Leptodactylidae', 'Adenomera', 'AdenomeraHylaedactylus'), ('Leptodactylidae', 'Adenomera', 'AdenomeraHylaedactylus'), ('Hylidae', 'Hypsiboas', 'HypsiboasCordobae'), ('Leptodactylidae', 'Adenomera', 'AdenomeraHylaedactylus'), ('Dendrobatidae', 'Ameerega', 'Ameeregatrivittata'), ('Leptodactylidae', 'Adenomera', 'AdenomeraHylaedactylus'), ('Hylidae', 'Hypsiboas', 'HypsiboasCinerascens'), ('Leptodactylidae', 'Adenomera', 'AdenomeraHylaedactylus'), ('Leptodactylidae', 'Adenomera', 'AdenomeraHylaedactylus'), ('Leptodactylidae', 'Adenomera', 'AdenomeraHylaedactylus'), ('Hylidae', 'Dendropsophus', 'HylaMinuta'), ('Leptodactylidae', 'Adenomera', 'AdenomeraAndre'), ('Leptodactylidae', 'Adenomera', 'AdenomeraHylaedactylus'), ('Leptodactylidae', 'Leptodactylus', 'LeptodactylusFuscus'), ('Leptodactylidae', 'Adenomera', 'AdenomeraHylaedactylus'), ('Hylidae', 'Hypsiboas', 'HypsiboasCordobae'), ('Hylidae', 'Hypsiboas', 'HypsiboasCordobae'), ('Hylidae', 'Dendropsophus', 'HylaMinuta'), ('Leptodactylidae', 'Adenomera', 'AdenomeraHylaedactylus'), ('Leptodactylidae', 'Adenomera', 'AdenomeraAndre'), ('Leptodactylidae', 'Adenomera', 'AdenomeraHylaedactylus'), ('Hylidae', 'Hypsiboas', 'HypsiboasCordobae'), ('Hylidae', 'Hypsiboas', 'HypsiboasCordobae'), ('Leptodactylidae', 'Adenomera', 'AdenomeraHylaedactylus'), ('Hylidae', 'Hypsiboas', 'HypsiboasCordobae'), ('Hylidae', 'Dendropsophus', 'HylaMinuta'), ('Leptodactylidae', 'Adenomera', 'AdenomeraHylaedactylus'), ('Hylidae', 'Hypsiboas', 'HypsiboasCordobae'), ('Leptodactylidae', 'Adenomera', 'AdenomeraHylaedactylus'), ('Leptodactylidae', 'Adenomera', 'AdenomeraHylaedactylus'), ('Leptodactylidae', 'Adenomera', 'AdenomeraHylaedactylus'), ('Leptodactylidae', 'Adenomera', 'AdenomeraAndre'), ('Hylidae', 'Hypsiboas', 'HypsiboasCordobae'), ('Hylidae', 'Hypsiboas', 'HypsiboasCinerascens'), ('Hylidae', 'Scinax', 'ScinaxRuber'), ('Leptodactylidae', 'Adenomera', 'AdenomeraHylaedactylus'), ('Hylidae', 'Hypsiboas', 'HypsiboasCordobae'), ('Hylidae', 'Hypsiboas', 'HypsiboasCordobae'), ('Leptodactylidae', 'Adenomera', 'AdenomeraHylaedactylus'), ('Leptodactylidae', 'Adenomera', 'AdenomeraAndre'), ('Hylidae', 'Hypsiboas', 'HypsiboasCordobae'), ('Leptodactylidae', 'Leptodactylus', 'LeptodactylusFuscus'), ('Leptodactylidae', 'Adenomera', 'AdenomeraHylaedactylus'), ('Leptodactylidae', 'Adenomera', 'AdenomeraAndre'), ('Leptodactylidae', 'Adenomera', 'AdenomeraHylaedactylus'), ('Leptodactylidae', 'Adenomera', 'AdenomeraHylaedactylus'), ('Leptodactylidae', 'Adenomera', 'AdenomeraHylaedactylus'), ('Leptodactylidae', 'Adenomera', 'AdenomeraAndre'), ('Leptodactylidae', 'Adenomera', 'AdenomeraHylaedactylus'), ('Leptodactylidae', 'Adenomera', 'AdenomeraHylaedactylus'), ('Hylidae', 'Hypsiboas', 'HypsiboasCordobae'), ('Leptodactylidae', 'Adenomera', 'AdenomeraHylaedactylus'), ('Dendrobatidae', 'Ameerega', 'Ameeregatrivittata'), ('Dendrobatidae', 'Ameerega', 'Ameeregatrivittata'), ('Leptodactylidae', 'Adenomera', 'AdenomeraHylaedactylus'), ('Leptodactylidae', 'Adenomera', 'AdenomeraHylaedactylus'), ('Leptodactylidae', 'Adenomera', 'AdenomeraHylaedactylus'), ('Leptodactylidae', 'Adenomera', 'AdenomeraHylaedactylus'), ('Leptodactylidae', 'Adenomera', 'AdenomeraAndre'), ('Leptodactylidae', 'Adenomera', 'AdenomeraHylaedactylus'), ('Leptodactylidae', 'Adenomera', 'AdenomeraHylaedactylus'), ('Leptodactylidae', 'Adenomera', 'AdenomeraHylaedactylus'), ('Leptodactylidae', 'Adenomera', 'AdenomeraHylaedactylus'), ('Leptodactylidae', 'Adenomera', 'AdenomeraHylaedactylus'), ('Leptodactylidae', 'Adenomera', 'AdenomeraHylaedactylus'), ('Leptodactylidae', 'Adenomera', 'AdenomeraHylaedactylus'), ('Leptodactylidae', 'Adenomera', 'AdenomeraHylaedactylus'), ('Leptodactylidae', 'Adenomera', 'AdenomeraHylaedactylus'), ('Hylidae', 'Hypsiboas', 'HypsiboasCordobae'), ('Leptodactylidae', 'Adenomera', 'AdenomeraHylaedactylus'), ('Hylidae', 'Dendropsophus', 'HylaMinuta'), ('Leptodactylidae', 'Leptodactylus', 'LeptodactylusFuscus'), ('Leptodactylidae', 'Adenomera', 'AdenomeraHylaedactylus'), ('Hylidae', 'Dendropsophus', 'HylaMinuta'), ('Leptodactylidae', 'Adenomera', 'AdenomeraHylaedactylus'), ('Hylidae', 'Hypsiboas', 'HypsiboasCordobae'), ('Leptodactylidae', 'Adenomera', 'AdenomeraHylaedactylus'), ('Hylidae', 'Hypsiboas', 'HypsiboasCordobae'), ('Hylidae', 'Dendropsophus', 'HylaMinuta'), ('Hylidae', 'Dendropsophus', 'HylaMinuta'), ('Leptodactylidae', 'Adenomera', 'AdenomeraHylaedactylus'), ('Leptodactylidae', 'Adenomera', 'AdenomeraHylaedactylus'), ('Leptodactylidae', 'Adenomera', 'AdenomeraAndre'), ('Leptodactylidae', 'Adenomera', 'AdenomeraHylaedactylus'), ('Hylidae', 'Hypsiboas', 'HypsiboasCinerascens'), ('Dendrobatidae', 'Ameerega', 'Ameeregatrivittata'), ('Leptodactylidae', 'Adenomera', 'AdenomeraHylaedactylus'), ('Leptodactylidae', 'Adenomera', 'AdenomeraHylaedactylus'), ('Hylidae', 'Hypsiboas', 'HypsiboasCordobae'), ('Leptodactylidae', 'Adenomera', 'AdenomeraHylaedactylus'), ('Dendrobatidae', 'Ameerega', 'Ameeregatrivittata'), ('Dendrobatidae', 'Ameerega', 'Ameeregatrivittata'), ('Leptodactylidae', 'Adenomera', 'AdenomeraHylaedactylus'), ('Hylidae', 'Hypsiboas', 'HypsiboasCordobae'), ('Leptodactylidae', 'Adenomera', 'AdenomeraAndre'), ('Leptodactylidae', 'Adenomera', 'AdenomeraHylaedactylus'), ('Leptodactylidae', 'Adenomera', 'AdenomeraHylaedactylus'), ('Leptodactylidae', 'Adenomera', 'AdenomeraHylaedactylus'), ('Hylidae', 'Hypsiboas', 'HypsiboasCordobae'), ('Leptodactylidae', 'Adenomera', 'AdenomeraHylaedactylus'), ('Leptodactylidae', 'Adenomera', 'AdenomeraHylaedactylus'), ('Leptodactylidae', 'Adenomera', 'AdenomeraHylaedactylus'), ('Leptodactylidae', 'Adenomera', 'AdenomeraHylaedactylus'), ('Leptodactylidae', 'Adenomera', 'AdenomeraAndre'), ('Hylidae', 'Hypsiboas', 'HypsiboasCordobae'), ('Leptodactylidae', 'Adenomera', 'AdenomeraHylaedactylus'), ('Leptodactylidae', 'Adenomera', 'AdenomeraHylaedactylus'), ('Leptodactylidae', 'Adenomera', 'AdenomeraHylaedactylus'), ('Hylidae', 'Hypsiboas', 'HypsiboasCordobae'), ('Leptodactylidae', 'Adenomera', 'AdenomeraHylaedactylus'), ('Leptodactylidae', 'Adenomera', 'AdenomeraHylaedactylus'), ('Leptodactylidae', 'Adenomera', 'AdenomeraHylaedactylus'), ('Dendrobatidae', 'Ameerega', 'Ameeregatrivittata'), ('Leptodactylidae', 'Adenomera', 'AdenomeraHylaedactylus'), ('Leptodactylidae', 'Adenomera', 'AdenomeraHylaedactylus'), ('Hylidae', 'Hypsiboas', 'HypsiboasCinerascens'), ('Leptodactylidae', 'Adenomera', 'AdenomeraHylaedactylus'), ('Hylidae', 'Hypsiboas', 'HypsiboasCinerascens'), ('Leptodactylidae', 'Adenomera', 'AdenomeraHylaedactylus'), ('Hylidae', 'Hypsiboas', 'HypsiboasCordobae'), ('Leptodactylidae', 'Adenomera', 'AdenomeraHylaedactylus'), ('Leptodactylidae', 'Adenomera', 'AdenomeraAndre'), ('Bufonidae', 'Rhinella', 'Rhinellagranulosa'), ('Leptodactylidae', 'Adenomera', 'AdenomeraHylaedactylus'), ('Leptodactylidae', 'Adenomera', 'AdenomeraHylaedactylus'), ('Leptodactylidae', 'Adenomera', 'AdenomeraAndre'), ('Dendrobatidae', 'Ameerega', 'Ameeregatrivittata'), ('Leptodactylidae', 'Adenomera', 'AdenomeraHylaedactylus'), ('Leptodactylidae', 'Adenomera', 'AdenomeraHylaedactylus'), ('Dendrobatidae', 'Ameerega', 'Ameeregatrivittata'), ('Leptodactylidae', 'Adenomera', 'AdenomeraHylaedactylus'), ('Bufonidae', 'Rhinella', 'Rhinellagranulosa'), ('Hylidae', 'Dendropsophus', 'HylaMinuta'), ('Dendrobatidae', 'Ameerega', 'Ameeregatrivittata'), ('Dendrobatidae', 'Ameerega', 'Ameeregatrivittata'), ('Leptodactylidae', 'Adenomera', 'AdenomeraAndre'), ('Hylidae', 'Hypsiboas', 'HypsiboasCordobae'), ('Hylidae', 'Hypsiboas', 'HypsiboasCordobae'), ('Leptodactylidae', 'Adenomera', 'AdenomeraHylaedactylus'), ('Leptodactylidae', 'Adenomera', 'AdenomeraHylaedactylus'), ('Leptodactylidae', 'Adenomera', 'AdenomeraHylaedactylus'), ('Hylidae', 'Hypsiboas', 'HypsiboasCordobae'), ('Hylidae', 'Osteocephalus', 'OsteocephalusOophagus'), ('Leptodactylidae', 'Adenomera', 'AdenomeraHylaedactylus'), ('Leptodactylidae', 'Adenomera', 'AdenomeraHylaedactylus'), ('Hylidae', 'Hypsiboas', 'HypsiboasCordobae'), ('Hylidae', 'Hypsiboas', 'HypsiboasCinerascens'), ('Hylidae', 'Dendropsophus', 'HylaMinuta'), ('Leptodactylidae', 'Adenomera', 'AdenomeraAndre'), ('Leptodactylidae', 'Adenomera', 'AdenomeraHylaedactylus'), ('Hylidae', 'Dendropsophus', 'HylaMinuta'), ('Hylidae', 'Hypsiboas', 'HypsiboasCordobae'), ('Leptodactylidae', 'Adenomera', 'AdenomeraHylaedactylus'), ('Leptodactylidae', 'Adenomera', 'AdenomeraAndre'), ('Leptodactylidae', 'Adenomera', 'AdenomeraHylaedactylus'), ('Hylidae', 'Scinax', 'ScinaxRuber'), ('Leptodactylidae', 'Adenomera', 'AdenomeraHylaedactylus'), ('Leptodactylidae', 'Adenomera', 'AdenomeraHylaedactylus'), ('Hylidae', 'Hypsiboas', 'HypsiboasCordobae'), ('Hylidae', 'Hypsiboas', 'HypsiboasCordobae'), ('Dendrobatidae', 'Ameerega', 'Ameeregatrivittata'), ('Leptodactylidae', 'Adenomera', 'AdenomeraHylaedactylus'), ('Hylidae', 'Hypsiboas', 'HypsiboasCordobae'), ('Leptodactylidae', 'Adenomera', 'AdenomeraHylaedactylus'), ('Leptodactylidae', 'Dendropsophus', 'AdenomeraAndre'), ('Hylidae', 'Hypsiboas', 'HypsiboasCordobae'), ('Hylidae', 'Hypsiboas', 'HypsiboasCordobae'), ('Leptodactylidae', 'Adenomera', 'AdenomeraHylaedactylus'), ('Hylidae', 'Hypsiboas', 'HypsiboasCordobae'), ('Leptodactylidae', 'Leptodactylus', 'LeptodactylusFuscus'), ('Leptodactylidae', 'Adenomera', 'AdenomeraHylaedactylus'), ('Leptodactylidae', 'Adenomera', 'AdenomeraHylaedactylus'), ('Leptodactylidae', 'Adenomera', 'AdenomeraHylaedactylus'), ('Leptodactylidae', 'Adenomera', 'AdenomeraHylaedactylus'), ('Dendrobatidae', 'Ameerega', 'Ameeregatrivittata'), ('Hylidae', 'Dendropsophus', 'HylaMinuta'), ('Dendrobatidae', 'Ameerega', 'Ameeregatrivittata'), ('Dendrobatidae', 'Ameerega', 'Ameeregatrivittata'), ('Dendrobatidae', 'Ameerega', 'Ameeregatrivittata'), ('Leptodactylidae', 'Adenomera', 'AdenomeraHylaedactylus'), ('Leptodactylidae', 'Adenomera', 'AdenomeraHylaedactylus'), ('Leptodactylidae', 'Adenomera', 'AdenomeraHylaedactylus'), ('Hylidae', 'Hypsiboas', 'HypsiboasCordobae'), ('Leptodactylidae', 'Adenomera', 'AdenomeraHylaedactylus'), ('Hylidae', 'Hypsiboas', 'HypsiboasCordobae'), ('Leptodactylidae', 'Leptodactylus', 'LeptodactylusFuscus'), ('Leptodactylidae', 'Adenomera', 'AdenomeraHylaedactylus'), ('Leptodactylidae', 'Adenomera', 'AdenomeraHylaedactylus'), ('Leptodactylidae', 'Adenomera', 'AdenomeraAndre'), ('Leptodactylidae', 'Adenomera', 'AdenomeraHylaedactylus'), ('Leptodactylidae', 'Adenomera', 'AdenomeraHylaedactylus'), ('Hylidae', 'Dendropsophus', 'HylaMinuta'), ('Dendrobatidae', 'Ameerega', 'Ameeregatrivittata'), ('Hylidae', 'Hypsiboas', 'HypsiboasCinerascens'), ('Hylidae', 'Hypsiboas', 'HypsiboasCordobae'), ('Dendrobatidae', 'Ameerega', 'Ameeregatrivittata'), ('Leptodactylidae', 'Adenomera', 'AdenomeraHylaedactylus'), ('Leptodactylidae', 'Adenomera', 'AdenomeraHylaedactylus'), ('Hylidae', 'Hypsiboas', 'HypsiboasCordobae'), ('Leptodactylidae', 'Leptodactylus', 'LeptodactylusFuscus'), ('Hylidae', 'Hypsiboas', 'HypsiboasCinerascens'), ('Leptodactylidae', 'Adenomera', 'AdenomeraHylaedactylus'), ('Hylidae', 'Hypsiboas', 'HypsiboasCinerascens'), ('Leptodactylidae', 'Adenomera', 'AdenomeraAndre'), ('Leptodactylidae', 'Adenomera', 'AdenomeraHylaedactylus'), ('Hylidae', 'Hypsiboas', 'HypsiboasCordobae'), ('Hylidae', 'Hypsiboas', 'HypsiboasCordobae'), ('Hylidae', 'Hypsiboas', 'HypsiboasCordobae'), ('Hylidae', 'Hypsiboas', 'HypsiboasCordobae'), ('Leptodactylidae', 'Adenomera', 'AdenomeraHylaedactylus'), ('Leptodactylidae', 'Adenomera', 'AdenomeraHylaedactylus'), ('Hylidae', 'Scinax', 'ScinaxRuber'), ('Leptodactylidae', 'Adenomera', 'AdenomeraHylaedactylus'), ('Leptodactylidae', 'Adenomera', 'AdenomeraHylaedactylus'), ('Hylidae', 'Scinax', 'ScinaxRuber'), ('Leptodactylidae', 'Adenomera', 'AdenomeraHylaedactylus'), ('Leptodactylidae', 'Leptodactylus', 'LeptodactylusFuscus'), ('Hylidae', 'Hypsiboas', 'HypsiboasCordobae'), ('Leptodactylidae', 'Adenomera', 'AdenomeraHylaedactylus'), ('Hylidae', 'Hypsiboas', 'HypsiboasCordobae'), ('Leptodactylidae', 'Leptodactylus', 'LeptodactylusFuscus'), ('Hylidae', 'Dendropsophus', 'HylaMinuta'), ('Hylidae', 'Hypsiboas', 'HypsiboasCordobae'), ('Leptodactylidae', 'Adenomera', 'AdenomeraHylaedactylus'), ('Leptodactylidae', 'Adenomera', 'AdenomeraHylaedactylus'), ('Hylidae', 'Hypsiboas', 'HypsiboasCordobae'), ('Hylidae', 'Hypsiboas', 'HypsiboasCordobae'), ('Hylidae', 'Dendropsophus', 'HylaMinuta'), ('Leptodactylidae', 'Adenomera', 'AdenomeraHylaedactylus'), ('Leptodactylidae', 'Adenomera', 'AdenomeraHylaedactylus'), ('Leptodactylidae', 'Adenomera', 'AdenomeraHylaedactylus'), ('Leptodactylidae', 'Adenomera', 'AdenomeraHylaedactylus'), ('Leptodactylidae', 'Adenomera', 'AdenomeraHylaedactylus'), ('Leptodactylidae', 'Adenomera', 'AdenomeraHylaedactylus'), ('Hylidae', 'Dendropsophus', 'HylaMinuta'), ('Leptodactylidae', 'Adenomera', 'AdenomeraHylaedactylus'), ('Hylidae', 'Hypsiboas', 'HypsiboasCordobae'), ('Hylidae', 'Hypsiboas', 'HypsiboasCordobae'), ('Dendrobatidae', 'Ameerega', 'Ameeregatrivittata'), ('Leptodactylidae', 'Adenomera', 'AdenomeraHylaedactylus'), ('Leptodactylidae', 'Adenomera', 'AdenomeraHylaedactylus'), ('Hylidae', 'Dendropsophus', 'HylaMinuta'), ('Leptodactylidae', 'Adenomera', 'AdenomeraHylaedactylus'), ('Dendrobatidae', 'Adenomera', 'AdenomeraAndre'), ('Leptodactylidae', 'Adenomera', 'AdenomeraHylaedactylus'), ('Leptodactylidae', 'Adenomera', 'AdenomeraHylaedactylus'), ('Hylidae', 'Hypsiboas', 'HypsiboasCordobae'), ('Leptodactylidae', 'Adenomera', 'AdenomeraHylaedactylus'), ('Leptodactylidae', 'Adenomera', 'AdenomeraHylaedactylus'), ('Leptodactylidae', 'Adenomera', 'AdenomeraHylaedactylus'), ('Leptodactylidae', 'Adenomera', 'AdenomeraHylaedactylus'), ('Leptodactylidae', 'Adenomera', 'AdenomeraHylaedactylus'), ('Hylidae', 'Hypsiboas', 'HypsiboasCordobae'), ('Leptodactylidae', 'Adenomera', 'AdenomeraHylaedactylus'), ('Hylidae', 'Hypsiboas', 'HypsiboasCordobae'), ('Leptodactylidae', 'Adenomera', 'AdenomeraHylaedactylus'), ('Leptodactylidae', 'Adenomera', 'AdenomeraAndre'), ('Leptodactylidae', 'Adenomera', 'AdenomeraHylaedactylus'), ('Leptodactylidae', 'Adenomera', 'AdenomeraAndre'), ('Leptodactylidae', 'Adenomera', 'AdenomeraHylaedactylus'), ('Hylidae', 'Hypsiboas', 'HypsiboasCordobae'), ('Leptodactylidae', 'Adenomera', 'AdenomeraHylaedactylus'), ('Leptodactylidae', 'Adenomera', 'AdenomeraHylaedactylus'), ('Leptodactylidae', 'Adenomera', 'AdenomeraHylaedactylus'), ('Leptodactylidae', 'Adenomera', 'AdenomeraHylaedactylus'), ('Leptodactylidae', 'Leptodactylus', 'LeptodactylusFuscus'), ('Leptodactylidae', 'Adenomera', 'AdenomeraHylaedactylus'), ('Leptodactylidae', 'Adenomera', 'AdenomeraAndre'), ('Leptodactylidae', 'Leptodactylus', 'LeptodactylusFuscus'), ('Leptodactylidae', 'Leptodactylus', 'LeptodactylusFuscus'), ('Leptodactylidae', 'Adenomera', 'AdenomeraHylaedactylus'), ('Leptodactylidae', 'Adenomera', 'AdenomeraHylaedactylus'), ('Dendrobatidae', 'Ameerega', 'Ameeregatrivittata'), ('Leptodactylidae', 'Adenomera', 'AdenomeraHylaedactylus'), ('Leptodactylidae', 'Leptodactylus', 'LeptodactylusFuscus'), ('Leptodactylidae', 'Adenomera', 'AdenomeraAndre'), ('Leptodactylidae', 'Adenomera', 'AdenomeraHylaedactylus'), ('Hylidae', 'Hypsiboas', 'HypsiboasCordobae'), ('Leptodactylidae', 'Adenomera', 'AdenomeraHylaedactylus'), ('Dendrobatidae', 'Ameerega', 'Ameeregatrivittata'), ('Hylidae', 'Hypsiboas', 'HypsiboasCordobae'), ('Leptodactylidae', 'Adenomera', 'AdenomeraAndre'), ('Hylidae', 'Hypsiboas', 'HypsiboasCordobae'), ('Leptodactylidae', 'Adenomera', 'AdenomeraHylaedactylus'), ('Leptodactylidae', 'Adenomera', 'AdenomeraHylaedactylus'), ('Hylidae', 'Dendropsophus', 'HylaMinuta'), ('Leptodactylidae', 'Adenomera', 'AdenomeraHylaedactylus'), ('Leptodactylidae', 'Adenomera', 'AdenomeraHylaedactylus'), ('Leptodactylidae', 'Adenomera', 'AdenomeraAndre'), ('Leptodactylidae', 'Adenomera', 'AdenomeraHylaedactylus'), ('Hylidae', 'Scinax', 'ScinaxRuber'), ('Hylidae', 'Dendropsophus', 'HylaMinuta'), ('Leptodactylidae', 'Adenomera', 'AdenomeraHylaedactylus'), ('Leptodactylidae', 'Adenomera', 'AdenomeraHylaedactylus'), ('Dendrobatidae', 'Ameerega', 'Ameeregatrivittata'), ('Hylidae', 'Hypsiboas', 'HypsiboasCinerascens'), ('Leptodactylidae', 'Adenomera', 'AdenomeraHylaedactylus'), ('Leptodactylidae', 'Adenomera', 'AdenomeraHylaedactylus'), ('Leptodactylidae', 'Adenomera', 'AdenomeraHylaedactylus'), ('Hylidae', 'Hypsiboas', 'HypsiboasCordobae'), ('Dendrobatidae', 'Ameerega', 'Ameeregatrivittata'), ('Hylidae', 'Hypsiboas', 'HypsiboasCordobae'), ('Hylidae', 'Hypsiboas', 'HypsiboasCinerascens'), ('Leptodactylidae', 'Adenomera', 'AdenomeraHylaedactylus'), ('Leptodactylidae', 'Adenomera', 'AdenomeraHylaedactylus'), ('Leptodactylidae', 'Adenomera', 'AdenomeraHylaedactylus'), ('Leptodactylidae', 'Leptodactylus', 'LeptodactylusFuscus'), ('Hylidae', 'Hypsiboas', 'HypsiboasCinerascens'), ('Leptodactylidae', 'Adenomera', 'AdenomeraHylaedactylus'), ('Dendrobatidae', 'Ameerega', 'Ameeregatrivittata'), ('Hylidae', 'Hypsiboas', 'HypsiboasCordobae'), ('Leptodactylidae', 'Adenomera', 'AdenomeraAndre'), ('Leptodactylidae', 'Adenomera', 'AdenomeraHylaedactylus'), ('Leptodactylidae', 'Adenomera', 'AdenomeraHylaedactylus'), ('Leptodactylidae', 'Adenomera', 'AdenomeraHylaedactylus'), ('Leptodactylidae', 'Adenomera', 'AdenomeraHylaedactylus'), ('Leptodactylidae', 'Adenomera', 'AdenomeraHylaedactylus'), ('Leptodactylidae', 'Adenomera', 'AdenomeraHylaedactylus'), ('Leptodactylidae', 'Adenomera', 'AdenomeraAndre'), ('Leptodactylidae', 'Adenomera', 'AdenomeraHylaedactylus'), ('Leptodactylidae', 'Adenomera', 'AdenomeraHylaedactylus'), ('Leptodactylidae', 'Adenomera', 'AdenomeraHylaedactylus'), ('Leptodactylidae', 'Leptodactylus', 'LeptodactylusFuscus'), ('Hylidae', 'Hypsiboas', 'HypsiboasCordobae'), ('Dendrobatidae', 'Ameerega', 'Ameeregatrivittata'), ('Leptodactylidae', 'Adenomera', 'AdenomeraHylaedactylus'), ('Dendrobatidae', 'Ameerega', 'Ameeregatrivittata'), ('Leptodactylidae', 'Adenomera', 'AdenomeraHylaedactylus'), ('Dendrobatidae', 'Ameerega', 'Ameeregatrivittata'), ('Leptodactylidae', 'Adenomera', 'AdenomeraAndre'), ('Leptodactylidae', 'Adenomera', 'AdenomeraHylaedactylus'), ('Dendrobatidae', 'Ameerega', 'Ameeregatrivittata'), ('Leptodactylidae', 'Adenomera', 'AdenomeraHylaedactylus'), ('Hylidae', 'Hypsiboas', 'HypsiboasCinerascens'), ('Leptodactylidae', 'Leptodactylus', 'LeptodactylusFuscus'), ('Hylidae', 'Hypsiboas', 'HypsiboasCinerascens'), ('Leptodactylidae', 'Adenomera', 'AdenomeraHylaedactylus'), ('Hylidae', 'Hypsiboas', 'HypsiboasCordobae'), ('Hylidae', 'Hypsiboas', 'HypsiboasCordobae'), ('Leptodactylidae', 'Adenomera', 'AdenomeraHylaedactylus'), ('Leptodactylidae', 'Adenomera', 'AdenomeraHylaedactylus'), ('Leptodactylidae', 'Adenomera', 'AdenomeraHylaedactylus'), ('Hylidae', 'Hypsiboas', 'HypsiboasCinerascens'), ('Leptodactylidae', 'Adenomera', 'AdenomeraHylaedactylus'), ('Hylidae', 'Hypsiboas', 'HypsiboasCinerascens'), ('Leptodactylidae', 'Adenomera', 'AdenomeraAndre'), ('Leptodactylidae', 'Adenomera', 'AdenomeraHylaedactylus'), ('Hylidae', 'Hypsiboas', 'HypsiboasCordobae'), ('Hylidae', 'Adenomera', 'AdenomeraHylaedactylus'), ('Hylidae', 'Hypsiboas', 'HypsiboasCordobae'), ('Leptodactylidae', 'Adenomera', 'AdenomeraHylaedactylus'), ('Leptodactylidae', 'Adenomera', 'AdenomeraHylaedactylus'), ('Leptodactylidae', 'Adenomera', 'AdenomeraHylaedactylus'), ('Leptodactylidae', 'Adenomera', 'AdenomeraHylaedactylus'), ('Dendrobatidae', 'Ameerega', 'Ameeregatrivittata'), ('Leptodactylidae', 'Adenomera', 'AdenomeraHylaedactylus'), ('Hylidae', 'Hypsiboas', 'HypsiboasCinerascens'), ('Leptodactylidae', 'Adenomera', 'AdenomeraHylaedactylus'), ('Leptodactylidae', 'Adenomera', 'AdenomeraHylaedactylus'), ('Leptodactylidae', 'Leptodactylus', 'LeptodactylusFuscus'), ('Leptodactylidae', 'Adenomera', 'AdenomeraHylaedactylus'), ('Leptodactylidae', 'Adenomera', 'AdenomeraHylaedactylus'), ('Hylidae', 'Hypsiboas', 'HypsiboasCordobae'), ('Hylidae', 'Dendropsophus', 'HylaMinuta'), ('Leptodactylidae', 'Adenomera', 'AdenomeraHylaedactylus'), ('Leptodactylidae', 'Adenomera', 'AdenomeraHylaedactylus'), ('Hylidae', 'Hypsiboas', 'HypsiboasCinerascens'), ('Leptodactylidae', 'Adenomera', 'AdenomeraAndre'), ('Leptodactylidae', 'Adenomera', 'AdenomeraHylaedactylus'), ('Bufonidae', 'Rhinella', 'Rhinellagranulosa'), ('Leptodactylidae', 'Adenomera', 'AdenomeraHylaedactylus'), ('Hylidae', 'Hypsiboas', 'HypsiboasCordobae'), ('Leptodactylidae', 'Adenomera', 'AdenomeraHylaedactylus'), ('Hylidae', 'Hypsiboas', 'HypsiboasCordobae'), ('Leptodactylidae', 'Adenomera', 'AdenomeraHylaedactylus'), ('Leptodactylidae', 'Adenomera', 'AdenomeraHylaedactylus'), ('Leptodactylidae', 'Adenomera', 'AdenomeraHylaedactylus'), ('Leptodactylidae', 'Leptodactylus', 'LeptodactylusFuscus'), ('Leptodactylidae', 'Adenomera', 'AdenomeraHylaedactylus'), ('Dendrobatidae', 'Ameerega', 'Ameeregatrivittata'), ('Leptodactylidae', 'Adenomera', 'AdenomeraHylaedactylus'), ('Leptodactylidae', 'Adenomera', 'AdenomeraHylaedactylus'), ('Leptodactylidae', 'Adenomera', 'AdenomeraAndre'), ('Hylidae', 'Hypsiboas', 'HypsiboasCinerascens'), ('Leptodactylidae', 'Adenomera', 'AdenomeraHylaedactylus'), ('Leptodactylidae', 'Adenomera', 'AdenomeraHylaedactylus'), ('Dendrobatidae', 'Ameerega', 'Ameeregatrivittata'), ('Leptodactylidae', 'Adenomera', 'AdenomeraHylaedactylus'), ('Leptodactylidae', 'Adenomera', 'AdenomeraHylaedactylus'), ('Leptodactylidae', 'Adenomera', 'AdenomeraHylaedactylus'), ('Dendrobatidae', 'Ameerega', 'Ameeregatrivittata'), ('Hylidae', 'Hypsiboas', 'HypsiboasCordobae'), ('Leptodactylidae', 'Adenomera', 'AdenomeraAndre'), ('Hylidae', 'Hypsiboas', 'HypsiboasCinerascens'), ('Hylidae', 'Hypsiboas', 'HypsiboasCordobae'), ('Leptodactylidae', 'Adenomera', 'AdenomeraHylaedactylus'), ('Leptodactylidae', 'Adenomera', 'AdenomeraHylaedactylus'), ('Leptodactylidae', 'Adenomera', 'AdenomeraAndre'), ('Leptodactylidae', 'Leptodactylus', 'LeptodactylusFuscus'), ('Bufonidae', 'Leptodactylus', 'LeptodactylusFuscus'), ('Leptodactylidae', 'Adenomera', 'AdenomeraHylaedactylus'), ('Leptodactylidae', 'Adenomera', 'AdenomeraHylaedactylus'), ('Hylidae', 'Dendropsophus', 'HylaMinuta'), ('Leptodactylidae', 'Adenomera', 'AdenomeraHylaedactylus'), ('Leptodactylidae', 'Adenomera', 'AdenomeraAndre'), ('Leptodactylidae', 'Adenomera', 'AdenomeraAndre'), ('Hylidae', 'Hypsiboas', 'HypsiboasCordobae'), ('Leptodactylidae', 'Adenomera', 'AdenomeraHylaedactylus'), ('Leptodactylidae', 'Adenomera', 'AdenomeraHylaedactylus'), ('Leptodactylidae', 'Adenomera', 'AdenomeraHylaedactylus'), ('Leptodactylidae', 'Adenomera', 'AdenomeraHylaedactylus'), ('Hylidae', 'Scinax', 'ScinaxRuber'), ('Hylidae', 'Hypsiboas', 'HypsiboasCordobae'), ('Leptodactylidae', 'Adenomera', 'AdenomeraHylaedactylus'), ('Hylidae', 'Hypsiboas', 'HypsiboasCordobae'), ('Hylidae', 'Hypsiboas', 'HypsiboasCordobae'), ('Hylidae', 'Osteocephalus', 'OsteocephalusOophagus'), ('Dendrobatidae', 'Ameerega', 'Ameeregatrivittata'), ('Dendrobatidae', 'Ameerega', 'Ameeregatrivittata'), ('Leptodactylidae', 'Adenomera', 'AdenomeraHylaedactylus'), ('Leptodactylidae', 'Adenomera', 'AdenomeraHylaedactylus'), ('Hylidae', 'Hypsiboas', 'HypsiboasCordobae'), ('Dendrobatidae', 'Ameerega', 'Ameeregatrivittata'), ('Hylidae', 'Osteocephalus', 'OsteocephalusOophagus'), ('Hylidae', 'Osteocephalus', 'OsteocephalusOophagus'), ('Dendrobatidae', 'Ameerega', 'Ameeregatrivittata'), ('Leptodactylidae', 'Adenomera', 'AdenomeraHylaedactylus'), ('Leptodactylidae', 'Adenomera', 'AdenomeraHylaedactylus'), ('Hylidae', 'Hypsiboas', 'HypsiboasCinerascens'), ('Leptodactylidae', 'Adenomera', 'AdenomeraAndre'), ('Leptodactylidae', 'Adenomera', 'AdenomeraHylaedactylus'), ('Hylidae', 'Hypsiboas', 'HypsiboasCordobae'), ('Hylidae', 'Dendropsophus', 'HylaMinuta'), ('Dendrobatidae', 'Ameerega', 'Ameeregatrivittata'), ('Hylidae', 'Hypsiboas', 'HypsiboasCinerascens')]\n"
     ]
    }
   ],
   "source": [
    "zipped=list(zip(y1_pred,y2_pred,y3_pred))\n",
    "print(zipped) # multilabel predictions for test set"
   ]
  },
  {
   "cell_type": "code",
   "execution_count": 9,
   "metadata": {},
   "outputs": [],
   "source": [
    "def exact_match(Y1,Y2):\n",
    "    n1=len(Y1)\n",
    "    n2=len(Y1[0])\n",
    "    count=0\n",
    "    for i in range(n1):\n",
    "        exact=True\n",
    "        for j in range(n2):\n",
    "            if Y1[i][j]!=Y2[i][j]:\n",
    "                exact=False\n",
    "        if exact==True:\n",
    "            count+=1\n",
    "    return count/n1\n",
    "\n",
    "def hamming_loss(Y1,Y2):\n",
    "    n1=len(Y1)\n",
    "    n2=len(Y1[0])\n",
    "    count=0\n",
    "    for i in range(n1):\n",
    "        for j in range(n2):\n",
    "            if Y1[i][j]==Y2[i][j]:\n",
    "                count+=1\n",
    "    return 1-count/(n1*n2)"
   ]
  },
  {
   "cell_type": "code",
   "execution_count": 76,
   "metadata": {},
   "outputs": [
    {
     "name": "stdout",
     "output_type": "stream",
     "text": [
      "Before standardized:\n",
      "The Exact match accuracy is 0.9851783232978231\n",
      "The Hamming loss is 0.008954763007565258\n",
      "The Hamming score is 0.9910452369924347\n"
     ]
    }
   ],
   "source": [
    "actual=[]\n",
    "for index,row in Y_test.iterrows():\n",
    "    actual.append(row.tolist())\n",
    "\n",
    "print(\"Before standardized:\")\n",
    "print('The Exact match accuracy is',exact_match(zipped,actual))\n",
    "print('The Hamming loss is',hamming_loss(zipped,actual))\n",
    "print('The Hamming score is',1-hamming_loss(zipped,actual))"
   ]
  },
  {
   "cell_type": "code",
   "execution_count": 51,
   "metadata": {},
   "outputs": [
    {
     "name": "stdout",
     "output_type": "stream",
     "text": [
      "For SVC predicting label \"Family\" after standardizing, the best c is 10 and the best gamma is 0.1\n"
     ]
    },
    {
     "name": "stderr",
     "output_type": "stream",
     "text": [
      "E:\\usc\\anaconda\\lib\\site-packages\\sklearn\\svm\\_base.py:284: ConvergenceWarning: Solver terminated early (max_iter=100).  Consider pre-processing your data with StandardScaler or MinMaxScaler.\n",
      "  warnings.warn(\n"
     ]
    }
   ],
   "source": [
    "# try with standardized data\n",
    "gs4 = GridSearchCV(svc, parameters, cv=10 ,n_jobs=-1).fit(X_train_std, y1_train)\n",
    "c4=gs4.best_params_['C']\n",
    "gamma4=gs4.best_params_['gamma']\n",
    "print('For SVC predicting label \"Family\" after standardizing,','the best c is',c4,'and the best gamma is',gamma4)"
   ]
  },
  {
   "cell_type": "code",
   "execution_count": 53,
   "metadata": {},
   "outputs": [
    {
     "name": "stdout",
     "output_type": "stream",
     "text": [
      "For SVC predicting label \"Genus\" after standardizing, the best c is 10 and the best gamma is 0.1\n"
     ]
    },
    {
     "name": "stderr",
     "output_type": "stream",
     "text": [
      "E:\\usc\\anaconda\\lib\\site-packages\\sklearn\\svm\\_base.py:284: ConvergenceWarning: Solver terminated early (max_iter=100).  Consider pre-processing your data with StandardScaler or MinMaxScaler.\n",
      "  warnings.warn(\n"
     ]
    }
   ],
   "source": [
    "gs5 = GridSearchCV(svc, parameters, cv=10 ,n_jobs=-1).fit(X_train_std, y2_train)\n",
    "c5=gs5.best_params_['C']\n",
    "gamma5=gs5.best_params_['gamma']\n",
    "print('For SVC predicting label \"Genus\" after standardizing,','the best c is',c5,'and the best gamma is',gamma5)"
   ]
  },
  {
   "cell_type": "code",
   "execution_count": 54,
   "metadata": {},
   "outputs": [
    {
     "name": "stdout",
     "output_type": "stream",
     "text": [
      "For SVC predicting label \"Species\" after standardizing, the best c is 10 and the best gamma is 0.1\n"
     ]
    },
    {
     "name": "stderr",
     "output_type": "stream",
     "text": [
      "E:\\usc\\anaconda\\lib\\site-packages\\sklearn\\svm\\_base.py:284: ConvergenceWarning: Solver terminated early (max_iter=100).  Consider pre-processing your data with StandardScaler or MinMaxScaler.\n",
      "  warnings.warn(\n"
     ]
    }
   ],
   "source": [
    "gs6 = GridSearchCV(svc, parameters, cv=10 ,n_jobs=-1).fit(X_train_std, y3_train)\n",
    "c6=gs6.best_params_['C']\n",
    "gamma6=gs6.best_params_['gamma']\n",
    "print('For SVC predicting label \"Species\" after standardizing,','the best c is',c6,'and the best gamma is',gamma6)"
   ]
  },
  {
   "cell_type": "code",
   "execution_count": 94,
   "metadata": {},
   "outputs": [
    {
     "name": "stdout",
     "output_type": "stream",
     "text": [
      "['Leptodactylidae' 'Hylidae' 'Leptodactylidae' ... 'Hylidae'\n",
      " 'Dendrobatidae' 'Hylidae']\n"
     ]
    },
    {
     "name": "stderr",
     "output_type": "stream",
     "text": [
      "E:\\usc\\anaconda\\lib\\site-packages\\sklearn\\svm\\_base.py:284: ConvergenceWarning: Solver terminated early (max_iter=100).  Consider pre-processing your data with StandardScaler or MinMaxScaler.\n",
      "  warnings.warn(\n"
     ]
    }
   ],
   "source": [
    "svc4=SVC(C=c4,gamma=gamma4,kernel='rbf',random_state=22,max_iter=100,decision_function_shape='ovr')\n",
    "svc4.fit(X_train_std, y1_train) # re-train the model with whole standardized training data\n",
    "y4_pred=svc4.predict(X_test_std)\n",
    "print(y4_pred)"
   ]
  },
  {
   "cell_type": "code",
   "execution_count": 95,
   "metadata": {},
   "outputs": [
    {
     "name": "stderr",
     "output_type": "stream",
     "text": [
      "E:\\usc\\anaconda\\lib\\site-packages\\sklearn\\svm\\_base.py:284: ConvergenceWarning: Solver terminated early (max_iter=100).  Consider pre-processing your data with StandardScaler or MinMaxScaler.\n",
      "  warnings.warn(\n"
     ]
    },
    {
     "name": "stdout",
     "output_type": "stream",
     "text": [
      "['Adenomera' 'Hypsiboas' 'Adenomera' ... 'Dendropsophus' 'Ameerega'\n",
      " 'Hypsiboas']\n"
     ]
    }
   ],
   "source": [
    "svc5=SVC(C=c5,gamma=gamma5,kernel='rbf',random_state=22,max_iter=100,decision_function_shape='ovr')\n",
    "svc5.fit(X_train_std, y2_train) # re-train the model with whole standardized training data\n",
    "y5_pred=svc5.predict(X_test_std)\n",
    "print(y5_pred)"
   ]
  },
  {
   "cell_type": "code",
   "execution_count": 96,
   "metadata": {},
   "outputs": [
    {
     "name": "stderr",
     "output_type": "stream",
     "text": [
      "E:\\usc\\anaconda\\lib\\site-packages\\sklearn\\svm\\_base.py:284: ConvergenceWarning: Solver terminated early (max_iter=100).  Consider pre-processing your data with StandardScaler or MinMaxScaler.\n",
      "  warnings.warn(\n"
     ]
    },
    {
     "name": "stdout",
     "output_type": "stream",
     "text": [
      "['AdenomeraHylaedactylus' 'HypsiboasCordobae' 'AdenomeraHylaedactylus' ...\n",
      " 'HylaMinuta' 'Ameeregatrivittata' 'HypsiboasCinerascens']\n"
     ]
    }
   ],
   "source": [
    "svc6=SVC(C=c6,gamma=gamma6,kernel='rbf',random_state=22,max_iter=100,decision_function_shape='ovr')\n",
    "svc6.fit(X_train_std, y3_train) # re-train the model with whole standardized training data\n",
    "y6_pred=svc6.predict(X_test_std)\n",
    "print(y6_pred)"
   ]
  },
  {
   "cell_type": "code",
   "execution_count": 97,
   "metadata": {},
   "outputs": [
    {
     "name": "stdout",
     "output_type": "stream",
     "text": [
      "After standardized:\n",
      "The Exact match accuracy is 0.9805465493283928\n",
      "The Hamming loss is 0.012968967114404872\n",
      "The Hamming score is 0.9870310328855951\n"
     ]
    }
   ],
   "source": [
    "zipped1=list(zip(y4_pred,y5_pred,y6_pred))\n",
    "print(\"After standardized:\")\n",
    "print('The Exact match accuracy is',exact_match(zipped1,actual))\n",
    "print('The Hamming loss is',hamming_loss(zipped1,actual))\n",
    "print('The Hamming score is',1-hamming_loss(zipped1,actual))"
   ]
  },
  {
   "cell_type": "markdown",
   "metadata": {},
   "source": [
    "It seems that the results before standardized is slightly better than the results after standardized."
   ]
  },
  {
   "cell_type": "markdown",
   "metadata": {},
   "source": [
    "iii. Repeat 1(b)ii with L1-penalized SVMs. Remember to standardize the attributes. Determine the weight of the SVM penalty using 10 fold \n",
    "cross validation."
   ]
  },
  {
   "cell_type": "code",
   "execution_count": 85,
   "metadata": {},
   "outputs": [
    {
     "name": "stdout",
     "output_type": "stream",
     "text": [
      "For LinearSVC predicting label \"Family\", the best c is 1\n"
     ]
    }
   ],
   "source": [
    "from sklearn.svm import LinearSVC\n",
    "\n",
    "lsvc=LinearSVC(random_state=22, penalty='l1',dual=False ,multi_class='ovr',max_iter=5000) # n_samples > n_features, linear kernel\n",
    "parameters={'C':lambdas}\n",
    "\n",
    "GS1 = GridSearchCV(lsvc, parameters, cv=10 ,n_jobs=-1).fit(X_train_std, y1_train) # use standardized data\n",
    "c1_l=GS1.best_params_['C']\n",
    "print('For LinearSVC predicting label \"Family\",','the best c is',c1_l)"
   ]
  },
  {
   "cell_type": "code",
   "execution_count": 86,
   "metadata": {},
   "outputs": [
    {
     "name": "stdout",
     "output_type": "stream",
     "text": [
      "For LinearSVC predicting label \"Genus\", the best c is 10\n"
     ]
    }
   ],
   "source": [
    "GS2 = GridSearchCV(lsvc, parameters, cv=10 ,n_jobs=-1).fit(X_train_std, y2_train) # use standardized data\n",
    "c2_l=GS2.best_params_['C']\n",
    "print('For LinearSVC predicting label \"Genus\",','the best c is',c2_l)"
   ]
  },
  {
   "cell_type": "code",
   "execution_count": 87,
   "metadata": {},
   "outputs": [
    {
     "name": "stdout",
     "output_type": "stream",
     "text": [
      "For LinearSVC predicting label \"Species\", the best c is 100\n"
     ]
    }
   ],
   "source": [
    "GS3 = GridSearchCV(lsvc, parameters, cv=10 ,n_jobs=-1).fit(X_train_std, y3_train) # use standardized data\n",
    "c3_l=GS3.best_params_['C']\n",
    "print('For LinearSVC predicting label \"Species\",','the best c is',c3_l)"
   ]
  },
  {
   "cell_type": "code",
   "execution_count": 98,
   "metadata": {},
   "outputs": [
    {
     "name": "stdout",
     "output_type": "stream",
     "text": [
      "['Leptodactylidae' 'Hylidae' 'Leptodactylidae' ... 'Hylidae'\n",
      " 'Dendrobatidae' 'Hylidae']\n"
     ]
    }
   ],
   "source": [
    "lsvc1=LinearSVC(C=c1_l,random_state=22,penalty='l1',dual=False ,multi_class='ovr',max_iter=5000)\n",
    "lsvc1.fit(X_train_std, y1_train) # re-train the model with whole standardized training data\n",
    "y1_linear_pred=lsvc1.predict(X_test_std)\n",
    "print(y1_linear_pred)"
   ]
  },
  {
   "cell_type": "code",
   "execution_count": 99,
   "metadata": {},
   "outputs": [
    {
     "name": "stdout",
     "output_type": "stream",
     "text": [
      "['Adenomera' 'Hypsiboas' 'Adenomera' ... 'Dendropsophus' 'Ameerega'\n",
      " 'Hypsiboas']\n"
     ]
    }
   ],
   "source": [
    "lsvc2=LinearSVC(C=c2_l,random_state=22,penalty='l1',dual=False ,multi_class='ovr',max_iter=5000)\n",
    "lsvc2.fit(X_train_std, y2_train) # re-train the model with whole standardized training data\n",
    "y2_linear_pred=lsvc2.predict(X_test_std)\n",
    "print(y2_linear_pred)"
   ]
  },
  {
   "cell_type": "code",
   "execution_count": 100,
   "metadata": {},
   "outputs": [
    {
     "name": "stdout",
     "output_type": "stream",
     "text": [
      "['AdenomeraHylaedactylus' 'HypsiboasCordobae' 'AdenomeraHylaedactylus' ...\n",
      " 'HylaMinuta' 'Ameeregatrivittata' 'HypsiboasCinerascens']\n"
     ]
    }
   ],
   "source": [
    "lsvc3=LinearSVC(C=c3_l,random_state=22,penalty='l1',dual=False ,multi_class='ovr',max_iter=5000)\n",
    "lsvc3.fit(X_train_std, y3_train) # re-train the model with whole standardized training data\n",
    "y3_linear_pred=lsvc3.predict(X_test_std)\n",
    "print(y3_linear_pred)"
   ]
  },
  {
   "cell_type": "code",
   "execution_count": 101,
   "metadata": {},
   "outputs": [
    {
     "name": "stdout",
     "output_type": "stream",
     "text": [
      "For L1-penalized SVM:\n",
      "The Exact match accuracy is 0.9129226493747105\n",
      "The Hamming loss is 0.054191755442334455\n",
      "The Hamming score is 0.9458082445576655\n"
     ]
    }
   ],
   "source": [
    "zipped2=list(zip(y1_linear_pred,y2_linear_pred,y3_linear_pred))\n",
    "print(\"For L1-penalized SVM:\")\n",
    "print('The Exact match accuracy is',exact_match(zipped2,actual))\n",
    "print('The Hamming loss is',hamming_loss(zipped2,actual))\n",
    "print('The Hamming score is',1-hamming_loss(zipped2,actual))"
   ]
  },
  {
   "cell_type": "markdown",
   "metadata": {},
   "source": [
    "iv. Repeat 1(b)iii by using SMOTE or any other method you know to remedy class imbalance. Report your conclusions about the classifiers you \n",
    "trained."
   ]
  },
  {
   "cell_type": "code",
   "execution_count": 107,
   "metadata": {},
   "outputs": [
    {
     "name": "stdout",
     "output_type": "stream",
     "text": [
      "{'Leptodactylidae': 3092, 'Hylidae': 1517, 'Dendrobatidae': 379, 'Bufonidae': 48}\n",
      "{'Adenomera': 2911, 'Hypsiboas': 1115, 'Scinax': 105, 'Osteocephalus': 87, 'Ameerega': 379, 'Dendropsophus': 210, 'Leptodactylus': 181, 'Rhinella': 48}\n",
      "{'AdenomeraHylaedactylus': 2445, 'HypsiboasCordobae': 773, 'ScinaxRuber': 105, 'OsteocephalusOophagus': 87, 'Ameeregatrivittata': 379, 'AdenomeraAndre': 466, 'HylaMinuta': 210, 'HypsiboasCinerascens': 342, 'LeptodactylusFuscus': 181, 'Rhinellagranulosa': 48}\n"
     ]
    }
   ],
   "source": [
    "# compute the number of instances for each class of each label\n",
    "dict1={}\n",
    "for stuff in y1_train:\n",
    "    if stuff not in dict1:\n",
    "        dict1[stuff]=1\n",
    "    else:\n",
    "        dict1[stuff]+=1\n",
    "print(dict1)\n",
    "dict2={}\n",
    "for stuff in y2_train:\n",
    "    if stuff not in dict2:\n",
    "        dict2[stuff]=1\n",
    "    else:\n",
    "        dict2[stuff]+=1\n",
    "print(dict2)\n",
    "dict3={}\n",
    "for stuff in y3_train:\n",
    "    if stuff not in dict3:\n",
    "        dict3[stuff]=1\n",
    "    else:\n",
    "        dict3[stuff]+=1\n",
    "print(dict3)"
   ]
  },
  {
   "cell_type": "markdown",
   "metadata": {},
   "source": [
    "We can observe that there is obvious class imbalance problems."
   ]
  },
  {
   "cell_type": "code",
   "execution_count": 108,
   "metadata": {},
   "outputs": [
    {
     "name": "stdout",
     "output_type": "stream",
     "text": [
      "After SMOTE, the best c for label \"Family\" is {'classifier__C': 100} ,the corresponding validation accuracy is 0.9249439868724163\n"
     ]
    }
   ],
   "source": [
    "from imblearn.over_sampling import SMOTE\n",
    "from imblearn.pipeline import Pipeline as imbpipeline\n",
    "\n",
    "pipeline = imbpipeline(steps = [['smote', SMOTE(random_state=42)],\n",
    "                                ['classifier',  LinearSVC(random_state=42,penalty='l1',dual=False ,multi_class='ovr',max_iter=5000)]])\n",
    "para={'classifier__C':lambdas} \n",
    "GS = GridSearchCV(estimator=pipeline, param_grid=para, n_jobs=-1, cv=10) # include the SMOTE within the cross-validation process\n",
    "GS.fit(X_train_std,y1_train)\n",
    "smote_c1=GS.best_params_\n",
    "smote_best_score1=GS.best_score_\n",
    "\n",
    "print('After SMOTE, the best c for label \"Family\" is',smote_c1,',the corresponding validation accuracy is',smote_best_score1)"
   ]
  },
  {
   "cell_type": "code",
   "execution_count": 113,
   "metadata": {},
   "outputs": [
    {
     "name": "stdout",
     "output_type": "stream",
     "text": [
      "After SMOTE, the best c for label \"Genus\" is {'classifier__C': 10} ,the corresponding validation accuracy is 0.9171987913787121\n"
     ]
    }
   ],
   "source": [
    "GS = GridSearchCV(estimator=pipeline, param_grid=para, n_jobs=-1, cv=10)\n",
    "GS.fit(X_train_std,y2_train)\n",
    "smote_c2=GS.best_params_\n",
    "smote_best_score2=GS.best_score_\n",
    "\n",
    "print('After SMOTE, the best c for label \"Genus\" is',smote_c2,',the corresponding validation accuracy is',smote_best_score2)"
   ]
  },
  {
   "cell_type": "code",
   "execution_count": 114,
   "metadata": {},
   "outputs": [
    {
     "name": "stdout",
     "output_type": "stream",
     "text": [
      "After SMOTE, the best c for label \"Species\" is {'classifier__C': 1} ,the corresponding validation accuracy is 0.9567121083025654\n"
     ]
    }
   ],
   "source": [
    "GS = GridSearchCV(estimator=pipeline, param_grid=para, n_jobs=-1, cv=10)\n",
    "GS.fit(X_train_std,y3_train)\n",
    "smote_c3=GS.best_params_\n",
    "smote_best_score3=GS.best_score_\n",
    "\n",
    "print('After SMOTE, the best c for label \"Species\" is',smote_c3,',the corresponding validation accuracy is',smote_best_score3)"
   ]
  },
  {
   "cell_type": "code",
   "execution_count": 116,
   "metadata": {},
   "outputs": [
    {
     "name": "stdout",
     "output_type": "stream",
     "text": [
      "['Leptodactylidae' 'Hylidae' 'Leptodactylidae' ... 'Hylidae'\n",
      " 'Dendrobatidae' 'Hylidae']\n"
     ]
    }
   ],
   "source": [
    "smote_c1=smote_c1['classifier__C']\n",
    "smo=SMOTE(random_state=42)\n",
    "x_smo1,y_smo1=smo.fit_resample(X_train_std,y1_train) # reconstruct the same smote samples as in cross-validation process\n",
    "smo_svc1=LinearSVC(C=smote_c1,random_state=42,penalty='l1',dual=False ,multi_class='ovr',max_iter=5000)\n",
    "smo_svc1.fit(x_smo1, y_smo1) # re-train the model with smote training data\n",
    "y1_smote_pred=smo_svc1.predict(X_test_std)\n",
    "print(y1_smote_pred)"
   ]
  },
  {
   "cell_type": "code",
   "execution_count": 117,
   "metadata": {},
   "outputs": [
    {
     "name": "stdout",
     "output_type": "stream",
     "text": [
      "['Adenomera' 'Hypsiboas' 'Adenomera' ... 'Dendropsophus' 'Ameerega'\n",
      " 'Hypsiboas']\n"
     ]
    }
   ],
   "source": [
    "smote_c2=smote_c2['classifier__C']\n",
    "smo=SMOTE(random_state=42)\n",
    "x_smo2,y_smo2=smo.fit_resample(X_train_std,y2_train) # reconstruct the same smote samples as in cross-validation process\n",
    "smo_svc2=LinearSVC(C=smote_c2,random_state=42,penalty='l1',dual=False ,multi_class='ovr',max_iter=5000)\n",
    "smo_svc2.fit(x_smo2, y_smo2) # re-train the model with smote training data\n",
    "y2_smote_pred=smo_svc2.predict(X_test_std)\n",
    "print(y2_smote_pred)"
   ]
  },
  {
   "cell_type": "code",
   "execution_count": 118,
   "metadata": {},
   "outputs": [
    {
     "name": "stdout",
     "output_type": "stream",
     "text": [
      "['AdenomeraHylaedactylus' 'HypsiboasCordobae' 'AdenomeraHylaedactylus' ...\n",
      " 'HylaMinuta' 'Ameeregatrivittata' 'HypsiboasCinerascens']\n"
     ]
    }
   ],
   "source": [
    "smote_c3=smote_c3['classifier__C']\n",
    "smo=SMOTE(random_state=42)\n",
    "x_smo3,y_smo3=smo.fit_resample(X_train_std,y3_train) # reconstruct the same smote samples as in cross-validation process\n",
    "smo_svc3=LinearSVC(C=smote_c3,random_state=42,penalty='l1',dual=False ,multi_class='ovr',max_iter=5000)\n",
    "smo_svc3.fit(x_smo3, y_smo3) # re-train the model with smote training data\n",
    "y3_smote_pred=smo_svc3.predict(X_test_std)\n",
    "print(y3_smote_pred)"
   ]
  },
  {
   "cell_type": "code",
   "execution_count": 119,
   "metadata": {},
   "outputs": [
    {
     "name": "stdout",
     "output_type": "stream",
     "text": [
      "After SMOTE, for L1-penalized SVM:\n",
      "The Exact match accuracy is 0.8624363131079203\n",
      "The Hamming loss is 0.07302763625135089\n",
      "The Hamming score is 0.9269723637486491\n"
     ]
    }
   ],
   "source": [
    "zipped3=list(zip(y1_smote_pred,y2_smote_pred,y3_smote_pred))\n",
    "print(\"After SMOTE, for L1-penalized SVM:\")\n",
    "print('The Exact match accuracy is',exact_match(zipped3,actual))\n",
    "print('The Hamming loss is',hamming_loss(zipped3,actual))\n",
    "print('The Hamming score is',1-hamming_loss(zipped3,actual))"
   ]
  },
  {
   "cell_type": "markdown",
   "metadata": {},
   "source": [
    "2. K-Means Clustering on a Multi-Class and Multi-Label Data Set\n",
    "<br>Monte-Carlo Simulation: Perform the following procedures 50 times, and report the average and standard deviation of the 50 Hamming Distances that you calculate."
   ]
  },
  {
   "cell_type": "markdown",
   "metadata": {},
   "source": [
    "(a) Use k-means clustering on the whole Anuran Calls (MFCCs) Data Set (do not split the data into train and test, as we are not performing \n",
    "supervised learning in this exercise). Choose k ∈ {1,2,...,50} automatically based on one of the methods provided in the slides (CH or Gap \n",
    "Statistics or scree plots or Silhouettes) or any other method you know.\n",
    "<br>(b) In each cluster, determine which family is the majority by reading the true labels. Repeat for genus and species.\n",
    "<br>(c) Now for each cluster you have a majority label triplet (family, genus, species). Calculate the average Hamming distance, Hamming score, and Hamming loss between the true labels and the labels assigned by clusters."
   ]
  },
  {
   "cell_type": "code",
   "execution_count": 11,
   "metadata": {},
   "outputs": [],
   "source": [
    "y1_all=Y_set['Family']\n",
    "y2_all=Y_set['Genus']\n",
    "y3_all=Y_set['Species']\n",
    "\n",
    "actual_all=[]\n",
    "for index,row in Y_set.iterrows():\n",
    "    actual_all.append(row.tolist())\n",
    "\n",
    "def hamming_distance(Y1,Y2): # the average hamming distance in each simulation\n",
    "    n1=len(Y1)\n",
    "    n2=len(Y1[0])\n",
    "    dis_sum=0\n",
    "    for num1 in range(n1):\n",
    "        for num2 in range(n2):\n",
    "            if Y1[num1][num2]!=Y2[num1][num2]:\n",
    "                dis_sum+=1\n",
    "    return dis_sum/n1"
   ]
  },
  {
   "cell_type": "code",
   "execution_count": 19,
   "metadata": {},
   "outputs": [
    {
     "name": "stdout",
     "output_type": "stream",
     "text": [
      "Simulation 1 completed\n",
      "the best k is 4 , and the best silhouette score is 0.3788646212055977\n",
      "the predicted Family label for each cluster is {0: 'Leptodactylidae', 1: 'Dendrobatidae', 2: 'Hylidae', 3: 'Hylidae'}\n",
      "the predicted Genus label for each cluster is {0: 'Adenomera', 1: 'Ameerega', 2: 'Hypsiboas', 3: 'Hypsiboas'}\n",
      "the predicted Species label for each cluster is {0: 'AdenomeraHylaedactylus', 1: 'Ameeregatrivittata', 2: 'HypsiboasCinerascens', 3: 'HypsiboasCordobae'}\n",
      "the average Hamming distance in this simulation is 0.6653231410701876\n",
      "the Hamming score in this simulation is 0.7782256196432707\n",
      "the Hamming loss in this simulation is 0.22177438035672925\n",
      "Simulation 2 completed\n",
      "the best k is 4 , and the best silhouette score is 0.37875093433052953\n",
      "the predicted Family label for each cluster is {0: 'Hylidae', 1: 'Dendrobatidae', 2: 'Leptodactylidae', 3: 'Hylidae'}\n",
      "the predicted Genus label for each cluster is {0: 'Hypsiboas', 1: 'Ameerega', 2: 'Adenomera', 3: 'Hypsiboas'}\n",
      "the predicted Species label for each cluster is {0: 'HypsiboasCinerascens', 1: 'Ameeregatrivittata', 2: 'AdenomeraHylaedactylus', 3: 'HypsiboasCordobae'}\n",
      "the average Hamming distance in this simulation is 0.66726893676164\n",
      "the Hamming score in this simulation is 0.7775770210794534\n",
      "the Hamming loss in this simulation is 0.22242297892054663\n",
      "Simulation 3 completed\n",
      "the best k is 4 , and the best silhouette score is 0.38523395202479643\n",
      "the predicted Family label for each cluster is {0: 'Hylidae', 1: 'Leptodactylidae', 2: 'Hylidae', 3: 'Leptodactylidae'}\n",
      "the predicted Genus label for each cluster is {0: 'Hypsiboas', 1: 'Adenomera', 2: 'Hypsiboas', 3: 'Adenomera'}\n",
      "the predicted Species label for each cluster is {0: 'HypsiboasCordobae', 1: 'AdenomeraHylaedactylus', 2: 'HypsiboasCordobae', 3: 'AdenomeraAndre'}\n",
      "the average Hamming distance in this simulation is 0.7357887421820709\n",
      "the Hamming score in this simulation is 0.7547370859393097\n",
      "the Hamming loss in this simulation is 0.24526291406069034\n",
      "Simulation 4 completed\n",
      "the best k is 4 , and the best silhouette score is 0.37875093433052953\n",
      "the predicted Family label for each cluster is {0: 'Hylidae', 1: 'Hylidae', 2: 'Leptodactylidae', 3: 'Dendrobatidae'}\n",
      "the predicted Genus label for each cluster is {0: 'Hypsiboas', 1: 'Hypsiboas', 2: 'Adenomera', 3: 'Ameerega'}\n",
      "the predicted Species label for each cluster is {0: 'HypsiboasCordobae', 1: 'HypsiboasCinerascens', 2: 'AdenomeraHylaedactylus', 3: 'Ameeregatrivittata'}\n",
      "the average Hamming distance in this simulation is 0.66726893676164\n",
      "the Hamming score in this simulation is 0.7775770210794534\n",
      "the Hamming loss in this simulation is 0.22242297892054663\n",
      "Simulation 5 completed\n",
      "the best k is 4 , and the best silhouette score is 0.37875093433052953\n",
      "the predicted Family label for each cluster is {0: 'Leptodactylidae', 1: 'Hylidae', 2: 'Hylidae', 3: 'Dendrobatidae'}\n",
      "the predicted Genus label for each cluster is {0: 'Adenomera', 1: 'Hypsiboas', 2: 'Hypsiboas', 3: 'Ameerega'}\n",
      "the predicted Species label for each cluster is {0: 'AdenomeraHylaedactylus', 1: 'HypsiboasCordobae', 2: 'HypsiboasCinerascens', 3: 'Ameeregatrivittata'}\n",
      "the average Hamming distance in this simulation is 0.66726893676164\n",
      "the Hamming score in this simulation is 0.7775770210794534\n",
      "the Hamming loss in this simulation is 0.22242297892054663\n",
      "Simulation 6 completed\n",
      "the best k is 4 , and the best silhouette score is 0.37875093433052953\n",
      "the predicted Family label for each cluster is {0: 'Dendrobatidae', 1: 'Hylidae', 2: 'Hylidae', 3: 'Leptodactylidae'}\n",
      "the predicted Genus label for each cluster is {0: 'Ameerega', 1: 'Hypsiboas', 2: 'Hypsiboas', 3: 'Adenomera'}\n",
      "the predicted Species label for each cluster is {0: 'Ameeregatrivittata', 1: 'HypsiboasCordobae', 2: 'HypsiboasCinerascens', 3: 'AdenomeraHylaedactylus'}\n",
      "the average Hamming distance in this simulation is 0.66726893676164\n",
      "the Hamming score in this simulation is 0.7775770210794534\n",
      "the Hamming loss in this simulation is 0.22242297892054663\n",
      "Simulation 7 completed\n",
      "the best k is 4 , and the best silhouette score is 0.37875093433052953\n",
      "the predicted Family label for each cluster is {0: 'Leptodactylidae', 1: 'Hylidae', 2: 'Hylidae', 3: 'Dendrobatidae'}\n",
      "the predicted Genus label for each cluster is {0: 'Adenomera', 1: 'Hypsiboas', 2: 'Hypsiboas', 3: 'Ameerega'}\n",
      "the predicted Species label for each cluster is {0: 'AdenomeraHylaedactylus', 1: 'HypsiboasCordobae', 2: 'HypsiboasCinerascens', 3: 'Ameeregatrivittata'}\n",
      "the average Hamming distance in this simulation is 0.66726893676164\n",
      "the Hamming score in this simulation is 0.7775770210794534\n",
      "the Hamming loss in this simulation is 0.22242297892054663\n",
      "Simulation 8 completed\n",
      "the best k is 4 , and the best silhouette score is 0.37875093433052953\n",
      "the predicted Family label for each cluster is {0: 'Leptodactylidae', 1: 'Hylidae', 2: 'Dendrobatidae', 3: 'Hylidae'}\n",
      "the predicted Genus label for each cluster is {0: 'Adenomera', 1: 'Hypsiboas', 2: 'Ameerega', 3: 'Hypsiboas'}\n",
      "the predicted Species label for each cluster is {0: 'AdenomeraHylaedactylus', 1: 'HypsiboasCordobae', 2: 'Ameeregatrivittata', 3: 'HypsiboasCinerascens'}\n",
      "the average Hamming distance in this simulation is 0.66726893676164\n",
      "the Hamming score in this simulation is 0.7775770210794534\n",
      "the Hamming loss in this simulation is 0.22242297892054663\n",
      "Simulation 9 completed\n",
      "the best k is 4 , and the best silhouette score is 0.37875093433052953\n",
      "the predicted Family label for each cluster is {0: 'Leptodactylidae', 1: 'Dendrobatidae', 2: 'Hylidae', 3: 'Hylidae'}\n",
      "the predicted Genus label for each cluster is {0: 'Adenomera', 1: 'Ameerega', 2: 'Hypsiboas', 3: 'Hypsiboas'}\n",
      "the predicted Species label for each cluster is {0: 'AdenomeraHylaedactylus', 1: 'Ameeregatrivittata', 2: 'HypsiboasCordobae', 3: 'HypsiboasCinerascens'}\n",
      "the average Hamming distance in this simulation is 0.66726893676164\n",
      "the Hamming score in this simulation is 0.7775770210794534\n",
      "the Hamming loss in this simulation is 0.22242297892054663\n",
      "Simulation 10 completed\n",
      "the best k is 4 , and the best silhouette score is 0.37875093433052953\n",
      "the predicted Family label for each cluster is {0: 'Hylidae', 1: 'Leptodactylidae', 2: 'Dendrobatidae', 3: 'Hylidae'}\n",
      "the predicted Genus label for each cluster is {0: 'Hypsiboas', 1: 'Adenomera', 2: 'Ameerega', 3: 'Hypsiboas'}\n",
      "the predicted Species label for each cluster is {0: 'HypsiboasCordobae', 1: 'AdenomeraHylaedactylus', 2: 'Ameeregatrivittata', 3: 'HypsiboasCinerascens'}\n",
      "the average Hamming distance in this simulation is 0.66726893676164\n",
      "the Hamming score in this simulation is 0.7775770210794534\n",
      "the Hamming loss in this simulation is 0.22242297892054663\n",
      "Simulation 11 completed\n",
      "the best k is 4 , and the best silhouette score is 0.37875093433052953\n",
      "the predicted Family label for each cluster is {0: 'Leptodactylidae', 1: 'Hylidae', 2: 'Dendrobatidae', 3: 'Hylidae'}\n",
      "the predicted Genus label for each cluster is {0: 'Adenomera', 1: 'Hypsiboas', 2: 'Ameerega', 3: 'Hypsiboas'}\n",
      "the predicted Species label for each cluster is {0: 'AdenomeraHylaedactylus', 1: 'HypsiboasCordobae', 2: 'Ameeregatrivittata', 3: 'HypsiboasCinerascens'}\n",
      "the average Hamming distance in this simulation is 0.66726893676164\n",
      "the Hamming score in this simulation is 0.7775770210794534\n",
      "the Hamming loss in this simulation is 0.22242297892054663\n",
      "Simulation 12 completed\n",
      "the best k is 4 , and the best silhouette score is 0.37875093433052953\n",
      "the predicted Family label for each cluster is {0: 'Hylidae', 1: 'Leptodactylidae', 2: 'Hylidae', 3: 'Dendrobatidae'}\n",
      "the predicted Genus label for each cluster is {0: 'Hypsiboas', 1: 'Adenomera', 2: 'Hypsiboas', 3: 'Ameerega'}\n",
      "the predicted Species label for each cluster is {0: 'HypsiboasCinerascens', 1: 'AdenomeraHylaedactylus', 2: 'HypsiboasCordobae', 3: 'Ameeregatrivittata'}\n",
      "the average Hamming distance in this simulation is 0.66726893676164\n",
      "the Hamming score in this simulation is 0.7775770210794534\n",
      "the Hamming loss in this simulation is 0.22242297892054663\n",
      "Simulation 13 completed\n",
      "the best k is 4 , and the best silhouette score is 0.37875093433052953\n",
      "the predicted Family label for each cluster is {0: 'Hylidae', 1: 'Leptodactylidae', 2: 'Dendrobatidae', 3: 'Hylidae'}\n",
      "the predicted Genus label for each cluster is {0: 'Hypsiboas', 1: 'Adenomera', 2: 'Ameerega', 3: 'Hypsiboas'}\n",
      "the predicted Species label for each cluster is {0: 'HypsiboasCinerascens', 1: 'AdenomeraHylaedactylus', 2: 'Ameeregatrivittata', 3: 'HypsiboasCordobae'}\n",
      "the average Hamming distance in this simulation is 0.66726893676164\n",
      "the Hamming score in this simulation is 0.7775770210794534\n",
      "the Hamming loss in this simulation is 0.22242297892054663\n"
     ]
    },
    {
     "name": "stdout",
     "output_type": "stream",
     "text": [
      "Simulation 14 completed\n",
      "the best k is 4 , and the best silhouette score is 0.37863353074850936\n",
      "the predicted Family label for each cluster is {0: 'Hylidae', 1: 'Hylidae', 2: 'Leptodactylidae', 3: 'Dendrobatidae'}\n",
      "the predicted Genus label for each cluster is {0: 'Hypsiboas', 1: 'Hypsiboas', 2: 'Adenomera', 3: 'Ameerega'}\n",
      "the predicted Species label for each cluster is {0: 'HypsiboasCordobae', 1: 'HypsiboasCinerascens', 2: 'AdenomeraHylaedactylus', 3: 'Ameeregatrivittata'}\n",
      "the average Hamming distance in this simulation is 0.6674079221681724\n",
      "the Hamming score in this simulation is 0.7775306926106093\n",
      "the Hamming loss in this simulation is 0.22246930738939075\n",
      "Simulation 15 completed\n",
      "the best k is 4 , and the best silhouette score is 0.37875093433052953\n",
      "the predicted Family label for each cluster is {0: 'Leptodactylidae', 1: 'Hylidae', 2: 'Dendrobatidae', 3: 'Hylidae'}\n",
      "the predicted Genus label for each cluster is {0: 'Adenomera', 1: 'Hypsiboas', 2: 'Ameerega', 3: 'Hypsiboas'}\n",
      "the predicted Species label for each cluster is {0: 'AdenomeraHylaedactylus', 1: 'HypsiboasCordobae', 2: 'Ameeregatrivittata', 3: 'HypsiboasCinerascens'}\n",
      "the average Hamming distance in this simulation is 0.66726893676164\n",
      "the Hamming score in this simulation is 0.7775770210794534\n",
      "the Hamming loss in this simulation is 0.22242297892054663\n",
      "Simulation 16 completed\n",
      "the best k is 4 , and the best silhouette score is 0.37863353074850936\n",
      "the predicted Family label for each cluster is {0: 'Leptodactylidae', 1: 'Dendrobatidae', 2: 'Hylidae', 3: 'Hylidae'}\n",
      "the predicted Genus label for each cluster is {0: 'Adenomera', 1: 'Ameerega', 2: 'Hypsiboas', 3: 'Hypsiboas'}\n",
      "the predicted Species label for each cluster is {0: 'AdenomeraHylaedactylus', 1: 'Ameeregatrivittata', 2: 'HypsiboasCinerascens', 3: 'HypsiboasCordobae'}\n",
      "the average Hamming distance in this simulation is 0.6674079221681724\n",
      "the Hamming score in this simulation is 0.7775306926106093\n",
      "the Hamming loss in this simulation is 0.22246930738939075\n",
      "Simulation 17 completed\n",
      "the best k is 4 , and the best silhouette score is 0.37875093433052953\n",
      "the predicted Family label for each cluster is {0: 'Hylidae', 1: 'Hylidae', 2: 'Leptodactylidae', 3: 'Dendrobatidae'}\n",
      "the predicted Genus label for each cluster is {0: 'Hypsiboas', 1: 'Hypsiboas', 2: 'Adenomera', 3: 'Ameerega'}\n",
      "the predicted Species label for each cluster is {0: 'HypsiboasCordobae', 1: 'HypsiboasCinerascens', 2: 'AdenomeraHylaedactylus', 3: 'Ameeregatrivittata'}\n",
      "the average Hamming distance in this simulation is 0.66726893676164\n",
      "the Hamming score in this simulation is 0.7775770210794534\n",
      "the Hamming loss in this simulation is 0.22242297892054663\n",
      "Simulation 18 completed\n",
      "the best k is 4 , and the best silhouette score is 0.3839947203654877\n",
      "the predicted Family label for each cluster is {0: 'Hylidae', 1: 'Hylidae', 2: 'Leptodactylidae', 3: 'Leptodactylidae'}\n",
      "the predicted Genus label for each cluster is {0: 'Hypsiboas', 1: 'Hypsiboas', 2: 'Adenomera', 3: 'Adenomera'}\n",
      "the predicted Species label for each cluster is {0: 'HypsiboasCinerascens', 1: 'HypsiboasCordobae', 2: 'AdenomeraHylaedactylus', 3: 'AdenomeraAndre'}\n",
      "the average Hamming distance in this simulation is 0.7011813759555247\n",
      "the Hamming score in this simulation is 0.7662728746814917\n",
      "the Hamming loss in this simulation is 0.23372712531850826\n",
      "Simulation 19 completed\n",
      "the best k is 4 , and the best silhouette score is 0.37875093433052953\n",
      "the predicted Family label for each cluster is {0: 'Hylidae', 1: 'Leptodactylidae', 2: 'Dendrobatidae', 3: 'Hylidae'}\n",
      "the predicted Genus label for each cluster is {0: 'Hypsiboas', 1: 'Adenomera', 2: 'Ameerega', 3: 'Hypsiboas'}\n",
      "the predicted Species label for each cluster is {0: 'HypsiboasCordobae', 1: 'AdenomeraHylaedactylus', 2: 'Ameeregatrivittata', 3: 'HypsiboasCinerascens'}\n",
      "the average Hamming distance in this simulation is 0.66726893676164\n",
      "the Hamming score in this simulation is 0.7775770210794534\n",
      "the Hamming loss in this simulation is 0.22242297892054663\n",
      "Simulation 20 completed\n",
      "the best k is 4 , and the best silhouette score is 0.3788646212055977\n",
      "the predicted Family label for each cluster is {0: 'Hylidae', 1: 'Leptodactylidae', 2: 'Hylidae', 3: 'Dendrobatidae'}\n",
      "the predicted Genus label for each cluster is {0: 'Hypsiboas', 1: 'Adenomera', 2: 'Hypsiboas', 3: 'Ameerega'}\n",
      "the predicted Species label for each cluster is {0: 'HypsiboasCordobae', 1: 'AdenomeraHylaedactylus', 2: 'HypsiboasCinerascens', 3: 'Ameeregatrivittata'}\n",
      "the average Hamming distance in this simulation is 0.6653231410701876\n",
      "the Hamming score in this simulation is 0.7782256196432707\n",
      "the Hamming loss in this simulation is 0.22177438035672925\n",
      "Simulation 21 completed\n",
      "the best k is 4 , and the best silhouette score is 0.3838734890243388\n",
      "the predicted Family label for each cluster is {0: 'Hylidae', 1: 'Leptodactylidae', 2: 'Hylidae', 3: 'Leptodactylidae'}\n",
      "the predicted Genus label for each cluster is {0: 'Hypsiboas', 1: 'Adenomera', 2: 'Hypsiboas', 3: 'Adenomera'}\n",
      "the predicted Species label for each cluster is {0: 'HypsiboasCordobae', 1: 'AdenomeraHylaedactylus', 2: 'HypsiboasCinerascens', 3: 'AdenomeraAndre'}\n",
      "the average Hamming distance in this simulation is 0.7021542738012508\n",
      "the Hamming score in this simulation is 0.765948575399583\n",
      "the Hamming loss in this simulation is 0.23405142460041695\n",
      "Simulation 22 completed\n",
      "the best k is 4 , and the best silhouette score is 0.37875093433052953\n",
      "the predicted Family label for each cluster is {0: 'Dendrobatidae', 1: 'Hylidae', 2: 'Leptodactylidae', 3: 'Hylidae'}\n",
      "the predicted Genus label for each cluster is {0: 'Ameerega', 1: 'Hypsiboas', 2: 'Adenomera', 3: 'Hypsiboas'}\n",
      "the predicted Species label for each cluster is {0: 'Ameeregatrivittata', 1: 'HypsiboasCordobae', 2: 'AdenomeraHylaedactylus', 3: 'HypsiboasCinerascens'}\n",
      "the average Hamming distance in this simulation is 0.66726893676164\n",
      "the Hamming score in this simulation is 0.7775770210794534\n",
      "the Hamming loss in this simulation is 0.22242297892054663\n",
      "Simulation 23 completed\n",
      "the best k is 4 , and the best silhouette score is 0.37875093433052953\n",
      "the predicted Family label for each cluster is {0: 'Leptodactylidae', 1: 'Hylidae', 2: 'Hylidae', 3: 'Dendrobatidae'}\n",
      "the predicted Genus label for each cluster is {0: 'Adenomera', 1: 'Hypsiboas', 2: 'Hypsiboas', 3: 'Ameerega'}\n",
      "the predicted Species label for each cluster is {0: 'AdenomeraHylaedactylus', 1: 'HypsiboasCinerascens', 2: 'HypsiboasCordobae', 3: 'Ameeregatrivittata'}\n",
      "the average Hamming distance in this simulation is 0.66726893676164\n",
      "the Hamming score in this simulation is 0.7775770210794534\n",
      "the Hamming loss in this simulation is 0.22242297892054663\n",
      "Simulation 24 completed\n",
      "the best k is 4 , and the best silhouette score is 0.37863353074850936\n",
      "the predicted Family label for each cluster is {0: 'Leptodactylidae', 1: 'Dendrobatidae', 2: 'Hylidae', 3: 'Hylidae'}\n",
      "the predicted Genus label for each cluster is {0: 'Adenomera', 1: 'Ameerega', 2: 'Hypsiboas', 3: 'Hypsiboas'}\n",
      "the predicted Species label for each cluster is {0: 'AdenomeraHylaedactylus', 1: 'Ameeregatrivittata', 2: 'HypsiboasCinerascens', 3: 'HypsiboasCordobae'}\n",
      "the average Hamming distance in this simulation is 0.6674079221681724\n",
      "the Hamming score in this simulation is 0.7775306926106093\n",
      "the Hamming loss in this simulation is 0.22246930738939075\n",
      "Simulation 25 completed\n",
      "the best k is 4 , and the best silhouette score is 0.37875093433052953\n",
      "the predicted Family label for each cluster is {0: 'Hylidae', 1: 'Leptodactylidae', 2: 'Dendrobatidae', 3: 'Hylidae'}\n",
      "the predicted Genus label for each cluster is {0: 'Hypsiboas', 1: 'Adenomera', 2: 'Ameerega', 3: 'Hypsiboas'}\n",
      "the predicted Species label for each cluster is {0: 'HypsiboasCordobae', 1: 'AdenomeraHylaedactylus', 2: 'Ameeregatrivittata', 3: 'HypsiboasCinerascens'}\n",
      "the average Hamming distance in this simulation is 0.66726893676164\n",
      "the Hamming score in this simulation is 0.7775770210794534\n",
      "the Hamming loss in this simulation is 0.22242297892054663\n",
      "Simulation 26 completed\n",
      "the best k is 4 , and the best silhouette score is 0.37875093433052953\n",
      "the predicted Family label for each cluster is {0: 'Dendrobatidae', 1: 'Hylidae', 2: 'Leptodactylidae', 3: 'Hylidae'}\n",
      "the predicted Genus label for each cluster is {0: 'Ameerega', 1: 'Hypsiboas', 2: 'Adenomera', 3: 'Hypsiboas'}\n",
      "the predicted Species label for each cluster is {0: 'Ameeregatrivittata', 1: 'HypsiboasCordobae', 2: 'AdenomeraHylaedactylus', 3: 'HypsiboasCinerascens'}\n",
      "the average Hamming distance in this simulation is 0.66726893676164\n",
      "the Hamming score in this simulation is 0.7775770210794534\n",
      "the Hamming loss in this simulation is 0.22242297892054663\n"
     ]
    },
    {
     "name": "stdout",
     "output_type": "stream",
     "text": [
      "Simulation 27 completed\n",
      "the best k is 4 , and the best silhouette score is 0.37886255335886554\n",
      "the predicted Family label for each cluster is {0: 'Hylidae', 1: 'Hylidae', 2: 'Leptodactylidae', 3: 'Dendrobatidae'}\n",
      "the predicted Genus label for each cluster is {0: 'Hypsiboas', 1: 'Hypsiboas', 2: 'Adenomera', 3: 'Ameerega'}\n",
      "the predicted Species label for each cluster is {0: 'HypsiboasCinerascens', 1: 'HypsiboasCordobae', 2: 'AdenomeraHylaedactylus', 3: 'Ameeregatrivittata'}\n",
      "the average Hamming distance in this simulation is 0.66726893676164\n",
      "the Hamming score in this simulation is 0.7775770210794534\n",
      "the Hamming loss in this simulation is 0.22242297892054663\n",
      "Simulation 28 completed\n",
      "the best k is 4 , and the best silhouette score is 0.37863353074850936\n",
      "the predicted Family label for each cluster is {0: 'Dendrobatidae', 1: 'Leptodactylidae', 2: 'Hylidae', 3: 'Hylidae'}\n",
      "the predicted Genus label for each cluster is {0: 'Ameerega', 1: 'Adenomera', 2: 'Hypsiboas', 3: 'Hypsiboas'}\n",
      "the predicted Species label for each cluster is {0: 'Ameeregatrivittata', 1: 'AdenomeraHylaedactylus', 2: 'HypsiboasCordobae', 3: 'HypsiboasCinerascens'}\n",
      "the average Hamming distance in this simulation is 0.6674079221681724\n",
      "the Hamming score in this simulation is 0.7775306926106093\n",
      "the Hamming loss in this simulation is 0.22246930738939075\n",
      "Simulation 29 completed\n",
      "the best k is 4 , and the best silhouette score is 0.37875093433052953\n",
      "the predicted Family label for each cluster is {0: 'Dendrobatidae', 1: 'Hylidae', 2: 'Hylidae', 3: 'Leptodactylidae'}\n",
      "the predicted Genus label for each cluster is {0: 'Ameerega', 1: 'Hypsiboas', 2: 'Hypsiboas', 3: 'Adenomera'}\n",
      "the predicted Species label for each cluster is {0: 'Ameeregatrivittata', 1: 'HypsiboasCordobae', 2: 'HypsiboasCinerascens', 3: 'AdenomeraHylaedactylus'}\n",
      "the average Hamming distance in this simulation is 0.66726893676164\n",
      "the Hamming score in this simulation is 0.7775770210794534\n",
      "the Hamming loss in this simulation is 0.22242297892054663\n",
      "Simulation 30 completed\n",
      "the best k is 4 , and the best silhouette score is 0.37866647707550904\n",
      "the predicted Family label for each cluster is {0: 'Leptodactylidae', 1: 'Hylidae', 2: 'Hylidae', 3: 'Dendrobatidae'}\n",
      "the predicted Genus label for each cluster is {0: 'Adenomera', 1: 'Hypsiboas', 2: 'Hypsiboas', 3: 'Ameerega'}\n",
      "the predicted Species label for each cluster is {0: 'AdenomeraHylaedactylus', 1: 'HypsiboasCordobae', 2: 'HypsiboasCinerascens', 3: 'Ameeregatrivittata'}\n",
      "the average Hamming distance in this simulation is 0.6664350243224462\n",
      "the Hamming score in this simulation is 0.7778549918925179\n",
      "the Hamming loss in this simulation is 0.22214500810748206\n",
      "Simulation 31 completed\n",
      "the best k is 4 , and the best silhouette score is 0.37875093433052953\n",
      "the predicted Family label for each cluster is {0: 'Hylidae', 1: 'Leptodactylidae', 2: 'Hylidae', 3: 'Dendrobatidae'}\n",
      "the predicted Genus label for each cluster is {0: 'Hypsiboas', 1: 'Adenomera', 2: 'Hypsiboas', 3: 'Ameerega'}\n",
      "the predicted Species label for each cluster is {0: 'HypsiboasCordobae', 1: 'AdenomeraHylaedactylus', 2: 'HypsiboasCinerascens', 3: 'Ameeregatrivittata'}\n",
      "the average Hamming distance in this simulation is 0.66726893676164\n",
      "the Hamming score in this simulation is 0.7775770210794534\n",
      "the Hamming loss in this simulation is 0.22242297892054663\n",
      "Simulation 32 completed\n",
      "the best k is 4 , and the best silhouette score is 0.37875093433052953\n",
      "the predicted Family label for each cluster is {0: 'Dendrobatidae', 1: 'Leptodactylidae', 2: 'Hylidae', 3: 'Hylidae'}\n",
      "the predicted Genus label for each cluster is {0: 'Ameerega', 1: 'Adenomera', 2: 'Hypsiboas', 3: 'Hypsiboas'}\n",
      "the predicted Species label for each cluster is {0: 'Ameeregatrivittata', 1: 'AdenomeraHylaedactylus', 2: 'HypsiboasCinerascens', 3: 'HypsiboasCordobae'}\n",
      "the average Hamming distance in this simulation is 0.66726893676164\n",
      "the Hamming score in this simulation is 0.7775770210794534\n",
      "the Hamming loss in this simulation is 0.22242297892054663\n",
      "Simulation 33 completed\n",
      "the best k is 4 , and the best silhouette score is 0.37875093433052953\n",
      "the predicted Family label for each cluster is {0: 'Leptodactylidae', 1: 'Hylidae', 2: 'Hylidae', 3: 'Dendrobatidae'}\n",
      "the predicted Genus label for each cluster is {0: 'Adenomera', 1: 'Hypsiboas', 2: 'Hypsiboas', 3: 'Ameerega'}\n",
      "the predicted Species label for each cluster is {0: 'AdenomeraHylaedactylus', 1: 'HypsiboasCordobae', 2: 'HypsiboasCinerascens', 3: 'Ameeregatrivittata'}\n",
      "the average Hamming distance in this simulation is 0.66726893676164\n",
      "the Hamming score in this simulation is 0.7775770210794534\n",
      "the Hamming loss in this simulation is 0.22242297892054663\n",
      "Simulation 34 completed\n",
      "the best k is 4 , and the best silhouette score is 0.37875093433052953\n",
      "the predicted Family label for each cluster is {0: 'Dendrobatidae', 1: 'Hylidae', 2: 'Leptodactylidae', 3: 'Hylidae'}\n",
      "the predicted Genus label for each cluster is {0: 'Ameerega', 1: 'Hypsiboas', 2: 'Adenomera', 3: 'Hypsiboas'}\n",
      "the predicted Species label for each cluster is {0: 'Ameeregatrivittata', 1: 'HypsiboasCordobae', 2: 'AdenomeraHylaedactylus', 3: 'HypsiboasCinerascens'}\n",
      "the average Hamming distance in this simulation is 0.66726893676164\n",
      "the Hamming score in this simulation is 0.7775770210794534\n",
      "the Hamming loss in this simulation is 0.22242297892054663\n",
      "Simulation 35 completed\n",
      "the best k is 4 , and the best silhouette score is 0.3779308010931296\n",
      "the predicted Family label for each cluster is {0: 'Dendrobatidae', 1: 'Leptodactylidae', 2: 'Hylidae', 3: 'Leptodactylidae'}\n",
      "the predicted Genus label for each cluster is {0: 'Ameerega', 1: 'Adenomera', 2: 'Hypsiboas', 3: 'Adenomera'}\n",
      "the predicted Species label for each cluster is {0: 'Ameeregatrivittata', 1: 'AdenomeraHylaedactylus', 2: 'HypsiboasCordobae', 3: 'AdenomeraAndre'}\n",
      "the average Hamming distance in this simulation is 0.5581653926337734\n",
      "the Hamming score in this simulation is 0.8139448691220755\n",
      "the Hamming loss in this simulation is 0.18605513087792447\n",
      "Simulation 36 completed\n",
      "the best k is 4 , and the best silhouette score is 0.37875093433052953\n",
      "the predicted Family label for each cluster is {0: 'Hylidae', 1: 'Leptodactylidae', 2: 'Hylidae', 3: 'Dendrobatidae'}\n",
      "the predicted Genus label for each cluster is {0: 'Hypsiboas', 1: 'Adenomera', 2: 'Hypsiboas', 3: 'Ameerega'}\n",
      "the predicted Species label for each cluster is {0: 'HypsiboasCordobae', 1: 'AdenomeraHylaedactylus', 2: 'HypsiboasCinerascens', 3: 'Ameeregatrivittata'}\n",
      "the average Hamming distance in this simulation is 0.66726893676164\n",
      "the Hamming score in this simulation is 0.7775770210794534\n",
      "the Hamming loss in this simulation is 0.22242297892054663\n",
      "Simulation 37 completed\n",
      "the best k is 4 , and the best silhouette score is 0.37875093433052953\n",
      "the predicted Family label for each cluster is {0: 'Hylidae', 1: 'Leptodactylidae', 2: 'Hylidae', 3: 'Dendrobatidae'}\n",
      "the predicted Genus label for each cluster is {0: 'Hypsiboas', 1: 'Adenomera', 2: 'Hypsiboas', 3: 'Ameerega'}\n",
      "the predicted Species label for each cluster is {0: 'HypsiboasCordobae', 1: 'AdenomeraHylaedactylus', 2: 'HypsiboasCinerascens', 3: 'Ameeregatrivittata'}\n",
      "the average Hamming distance in this simulation is 0.66726893676164\n",
      "the Hamming score in this simulation is 0.7775770210794534\n",
      "the Hamming loss in this simulation is 0.22242297892054663\n",
      "Simulation 38 completed\n",
      "the best k is 4 , and the best silhouette score is 0.37875093433052953\n",
      "the predicted Family label for each cluster is {0: 'Hylidae', 1: 'Leptodactylidae', 2: 'Hylidae', 3: 'Dendrobatidae'}\n",
      "the predicted Genus label for each cluster is {0: 'Hypsiboas', 1: 'Adenomera', 2: 'Hypsiboas', 3: 'Ameerega'}\n",
      "the predicted Species label for each cluster is {0: 'HypsiboasCinerascens', 1: 'AdenomeraHylaedactylus', 2: 'HypsiboasCordobae', 3: 'Ameeregatrivittata'}\n",
      "the average Hamming distance in this simulation is 0.66726893676164\n",
      "the Hamming score in this simulation is 0.7775770210794534\n",
      "the Hamming loss in this simulation is 0.22242297892054663\n",
      "Simulation 39 completed\n",
      "the best k is 4 , and the best silhouette score is 0.37875093433052953\n",
      "the predicted Family label for each cluster is {0: 'Leptodactylidae', 1: 'Hylidae', 2: 'Dendrobatidae', 3: 'Hylidae'}\n",
      "the predicted Genus label for each cluster is {0: 'Adenomera', 1: 'Hypsiboas', 2: 'Ameerega', 3: 'Hypsiboas'}\n",
      "the predicted Species label for each cluster is {0: 'AdenomeraHylaedactylus', 1: 'HypsiboasCinerascens', 2: 'Ameeregatrivittata', 3: 'HypsiboasCordobae'}\n",
      "the average Hamming distance in this simulation is 0.66726893676164\n",
      "the Hamming score in this simulation is 0.7775770210794534\n",
      "the Hamming loss in this simulation is 0.22242297892054663\n"
     ]
    },
    {
     "name": "stdout",
     "output_type": "stream",
     "text": [
      "Simulation 40 completed\n",
      "the best k is 4 , and the best silhouette score is 0.37875093433052953\n",
      "the predicted Family label for each cluster is {0: 'Hylidae', 1: 'Hylidae', 2: 'Leptodactylidae', 3: 'Dendrobatidae'}\n",
      "the predicted Genus label for each cluster is {0: 'Hypsiboas', 1: 'Hypsiboas', 2: 'Adenomera', 3: 'Ameerega'}\n",
      "the predicted Species label for each cluster is {0: 'HypsiboasCinerascens', 1: 'HypsiboasCordobae', 2: 'AdenomeraHylaedactylus', 3: 'Ameeregatrivittata'}\n",
      "the average Hamming distance in this simulation is 0.66726893676164\n",
      "the Hamming score in this simulation is 0.7775770210794534\n",
      "the Hamming loss in this simulation is 0.22242297892054663\n",
      "Simulation 41 completed\n",
      "the best k is 4 , and the best silhouette score is 0.37875093433052953\n",
      "the predicted Family label for each cluster is {0: 'Leptodactylidae', 1: 'Hylidae', 2: 'Hylidae', 3: 'Dendrobatidae'}\n",
      "the predicted Genus label for each cluster is {0: 'Adenomera', 1: 'Hypsiboas', 2: 'Hypsiboas', 3: 'Ameerega'}\n",
      "the predicted Species label for each cluster is {0: 'AdenomeraHylaedactylus', 1: 'HypsiboasCordobae', 2: 'HypsiboasCinerascens', 3: 'Ameeregatrivittata'}\n",
      "the average Hamming distance in this simulation is 0.66726893676164\n",
      "the Hamming score in this simulation is 0.7775770210794534\n",
      "the Hamming loss in this simulation is 0.22242297892054663\n",
      "Simulation 42 completed\n",
      "the best k is 4 , and the best silhouette score is 0.37875093433052953\n",
      "the predicted Family label for each cluster is {0: 'Leptodactylidae', 1: 'Hylidae', 2: 'Hylidae', 3: 'Dendrobatidae'}\n",
      "the predicted Genus label for each cluster is {0: 'Adenomera', 1: 'Hypsiboas', 2: 'Hypsiboas', 3: 'Ameerega'}\n",
      "the predicted Species label for each cluster is {0: 'AdenomeraHylaedactylus', 1: 'HypsiboasCordobae', 2: 'HypsiboasCinerascens', 3: 'Ameeregatrivittata'}\n",
      "the average Hamming distance in this simulation is 0.66726893676164\n",
      "the Hamming score in this simulation is 0.7775770210794534\n",
      "the Hamming loss in this simulation is 0.22242297892054663\n",
      "Simulation 43 completed\n",
      "the best k is 4 , and the best silhouette score is 0.37875093433052953\n",
      "the predicted Family label for each cluster is {0: 'Leptodactylidae', 1: 'Hylidae', 2: 'Hylidae', 3: 'Dendrobatidae'}\n",
      "the predicted Genus label for each cluster is {0: 'Adenomera', 1: 'Hypsiboas', 2: 'Hypsiboas', 3: 'Ameerega'}\n",
      "the predicted Species label for each cluster is {0: 'AdenomeraHylaedactylus', 1: 'HypsiboasCordobae', 2: 'HypsiboasCinerascens', 3: 'Ameeregatrivittata'}\n",
      "the average Hamming distance in this simulation is 0.66726893676164\n",
      "the Hamming score in this simulation is 0.7775770210794534\n",
      "the Hamming loss in this simulation is 0.22242297892054663\n",
      "Simulation 44 completed\n",
      "the best k is 4 , and the best silhouette score is 0.37875093433052953\n",
      "the predicted Family label for each cluster is {0: 'Leptodactylidae', 1: 'Hylidae', 2: 'Hylidae', 3: 'Dendrobatidae'}\n",
      "the predicted Genus label for each cluster is {0: 'Adenomera', 1: 'Hypsiboas', 2: 'Hypsiboas', 3: 'Ameerega'}\n",
      "the predicted Species label for each cluster is {0: 'AdenomeraHylaedactylus', 1: 'HypsiboasCinerascens', 2: 'HypsiboasCordobae', 3: 'Ameeregatrivittata'}\n",
      "the average Hamming distance in this simulation is 0.66726893676164\n",
      "the Hamming score in this simulation is 0.7775770210794534\n",
      "the Hamming loss in this simulation is 0.22242297892054663\n",
      "Simulation 45 completed\n",
      "the best k is 4 , and the best silhouette score is 0.37875093433052953\n",
      "the predicted Family label for each cluster is {0: 'Leptodactylidae', 1: 'Hylidae', 2: 'Dendrobatidae', 3: 'Hylidae'}\n",
      "the predicted Genus label for each cluster is {0: 'Adenomera', 1: 'Hypsiboas', 2: 'Ameerega', 3: 'Hypsiboas'}\n",
      "the predicted Species label for each cluster is {0: 'AdenomeraHylaedactylus', 1: 'HypsiboasCordobae', 2: 'Ameeregatrivittata', 3: 'HypsiboasCinerascens'}\n",
      "the average Hamming distance in this simulation is 0.66726893676164\n",
      "the Hamming score in this simulation is 0.7775770210794534\n",
      "the Hamming loss in this simulation is 0.22242297892054663\n",
      "Simulation 46 completed\n",
      "the best k is 4 , and the best silhouette score is 0.3788646212055977\n",
      "the predicted Family label for each cluster is {0: 'Leptodactylidae', 1: 'Dendrobatidae', 2: 'Hylidae', 3: 'Hylidae'}\n",
      "the predicted Genus label for each cluster is {0: 'Adenomera', 1: 'Ameerega', 2: 'Hypsiboas', 3: 'Hypsiboas'}\n",
      "the predicted Species label for each cluster is {0: 'AdenomeraHylaedactylus', 1: 'Ameeregatrivittata', 2: 'HypsiboasCinerascens', 3: 'HypsiboasCordobae'}\n",
      "the average Hamming distance in this simulation is 0.6653231410701876\n",
      "the Hamming score in this simulation is 0.7782256196432707\n",
      "the Hamming loss in this simulation is 0.22177438035672925\n",
      "Simulation 47 completed\n",
      "the best k is 4 , and the best silhouette score is 0.37875093433052953\n",
      "the predicted Family label for each cluster is {0: 'Hylidae', 1: 'Leptodactylidae', 2: 'Dendrobatidae', 3: 'Hylidae'}\n",
      "the predicted Genus label for each cluster is {0: 'Hypsiboas', 1: 'Adenomera', 2: 'Ameerega', 3: 'Hypsiboas'}\n",
      "the predicted Species label for each cluster is {0: 'HypsiboasCordobae', 1: 'AdenomeraHylaedactylus', 2: 'Ameeregatrivittata', 3: 'HypsiboasCinerascens'}\n",
      "the average Hamming distance in this simulation is 0.66726893676164\n",
      "the Hamming score in this simulation is 0.7775770210794534\n",
      "the Hamming loss in this simulation is 0.22242297892054663\n",
      "Simulation 48 completed\n",
      "the best k is 4 , and the best silhouette score is 0.37875093433052953\n",
      "the predicted Family label for each cluster is {0: 'Hylidae', 1: 'Leptodactylidae', 2: 'Hylidae', 3: 'Dendrobatidae'}\n",
      "the predicted Genus label for each cluster is {0: 'Hypsiboas', 1: 'Adenomera', 2: 'Hypsiboas', 3: 'Ameerega'}\n",
      "the predicted Species label for each cluster is {0: 'HypsiboasCordobae', 1: 'AdenomeraHylaedactylus', 2: 'HypsiboasCinerascens', 3: 'Ameeregatrivittata'}\n",
      "the average Hamming distance in this simulation is 0.66726893676164\n",
      "the Hamming score in this simulation is 0.7775770210794534\n",
      "the Hamming loss in this simulation is 0.22242297892054663\n",
      "Simulation 49 completed\n",
      "the best k is 4 , and the best silhouette score is 0.37474606152248774\n",
      "the predicted Family label for each cluster is {0: 'Leptodactylidae', 1: 'Hylidae', 2: 'Hylidae', 3: 'Hylidae'}\n",
      "the predicted Genus label for each cluster is {0: 'Adenomera', 1: 'Hypsiboas', 2: 'Hypsiboas', 3: 'Hypsiboas'}\n",
      "the predicted Species label for each cluster is {0: 'AdenomeraHylaedactylus', 1: 'HypsiboasCordobae', 2: 'HypsiboasCinerascens', 3: 'HypsiboasCordobae'}\n",
      "the average Hamming distance in this simulation is 0.8401667824878388\n",
      "the Hamming score in this simulation is 0.7199444058373871\n",
      "the Hamming loss in this simulation is 0.28005559416261294\n",
      "Simulation 50 completed\n",
      "the best k is 4 , and the best silhouette score is 0.37875093433052953\n",
      "the predicted Family label for each cluster is {0: 'Leptodactylidae', 1: 'Hylidae', 2: 'Dendrobatidae', 3: 'Hylidae'}\n",
      "the predicted Genus label for each cluster is {0: 'Adenomera', 1: 'Hypsiboas', 2: 'Ameerega', 3: 'Hypsiboas'}\n",
      "the predicted Species label for each cluster is {0: 'AdenomeraHylaedactylus', 1: 'HypsiboasCinerascens', 2: 'Ameeregatrivittata', 3: 'HypsiboasCordobae'}\n",
      "the average Hamming distance in this simulation is 0.66726893676164\n",
      "the Hamming score in this simulation is 0.7775770210794534\n",
      "the Hamming loss in this simulation is 0.22242297892054663\n"
     ]
    }
   ],
   "source": [
    "from sklearn.cluster import KMeans\n",
    "from sklearn.metrics import silhouette_score\n",
    "\n",
    "X_set # the whole feature set\n",
    "rs=range(50)\n",
    "Ks=range(2,51)\n",
    "distances=[]\n",
    "losses=[]\n",
    "scores=[]\n",
    "for i in rs: # for each simulation\n",
    "    family_assign={}\n",
    "    genus_assign={}\n",
    "    species_assign={}\n",
    "    best_k=[]\n",
    "    best_silhouette=[]\n",
    "    cluster_label=[]\n",
    "    bestk=1\n",
    "    bestscore=-1 # silhouette score for k=1\n",
    "    for k in Ks: # for each k\n",
    "        cluster=KMeans(n_clusters=k,random_state=i) # the ith simulation\n",
    "        cluster.fit(X_set)\n",
    "        labels=cluster.labels_\n",
    "        score=silhouette_score(X_set,labels)\n",
    "        if score>bestscore:\n",
    "            bestk=k\n",
    "            bestscore=score\n",
    "            cluster_label=labels\n",
    "    best_k.append(bestk)\n",
    "    best_silhouette.append(bestscore)\n",
    "    for j in range(bestk): # for each cluster with the best k\n",
    "        families=[]\n",
    "        genus=[]\n",
    "        species=[]\n",
    "        for l in range(len(cluster_label)):\n",
    "            if cluster_label[l]==j:\n",
    "                families.append(y1_all[l])\n",
    "                genus.append(y2_all[l])\n",
    "                species.append(y3_all[l])\n",
    "        dic1={}\n",
    "        dic2={}\n",
    "        dic3={}\n",
    "        for fam in families:\n",
    "            if fam not in dic1:\n",
    "                dic1[fam]=families.count(fam)\n",
    "        family_assign[j]=sorted([(v1,k1) for k1,v1 in dic1.items()],reverse=True)[0][1]\n",
    "        for gen in genus:\n",
    "            if gen not in dic2:\n",
    "                dic2[gen]=genus.count(gen)\n",
    "        genus_assign[j]=sorted([(v2,k2) for k2,v2 in dic2.items()],reverse=True)[0][1]\n",
    "        for spe in species:\n",
    "            if spe not in dic3:\n",
    "                dic3[spe]=species.count(spe)\n",
    "        species_assign[j]=sorted([(v3,k3) for k3,v3 in dic3.items()],reverse=True)[0][1]\n",
    "    family_pred=[]\n",
    "    genus_pred=[]\n",
    "    species_pred=[]\n",
    "    for lab in cluster_label:\n",
    "        for q in range(bestk):\n",
    "            if lab==q:\n",
    "                family_pred.append(family_assign[lab])\n",
    "                genus_pred.append(genus_assign[lab])\n",
    "                species_pred.append(species_assign[lab])\n",
    "    zipped_c=list(zip(family_pred,genus_pred,species_pred)) # predicted labels for each instance\n",
    "    hammingloss=hamming_loss(zipped_c,actual_all)\n",
    "    hammingscore=1-hammingloss\n",
    "    hammingdistance=hamming_distance(zipped_c,actual_all)\n",
    "    losses.append(hammingloss)\n",
    "    scores.append(hammingscore)\n",
    "    distances.append(hammingdistance)\n",
    "    print('Simulation',i+1,'completed')\n",
    "    print('the best k is',bestk,', and the best silhouette score is',bestscore)\n",
    "    print('the predicted Family label for each cluster is',family_assign)\n",
    "    print('the predicted Genus label for each cluster is',genus_assign)\n",
    "    print('the predicted Species label for each cluster is',species_assign)\n",
    "    print('the average Hamming distance in this simulation is',hammingdistance)\n",
    "    print('the Hamming score in this simulation is',hammingscore)\n",
    "    print('the Hamming loss in this simulation is',hammingloss)\n",
    "    "
   ]
  },
  {
   "cell_type": "code",
   "execution_count": 25,
   "metadata": {},
   "outputs": [],
   "source": [
    "dis_avg=sum(distances)/len(distances)\n",
    "dis_std=np.std(distances)\n",
    "loss_avg=sum(losses)/len(losses)\n",
    "loss_std=np.std(losses)\n",
    "score_avg=sum(scores)/len(scores)\n",
    "score_std=np.std(scores)"
   ]
  },
  {
   "cell_type": "code",
   "execution_count": 26,
   "metadata": {},
   "outputs": [
    {
     "data": {
      "text/html": [
       "<div>\n",
       "<style scoped>\n",
       "    .dataframe tbody tr th:only-of-type {\n",
       "        vertical-align: middle;\n",
       "    }\n",
       "\n",
       "    .dataframe tbody tr th {\n",
       "        vertical-align: top;\n",
       "    }\n",
       "\n",
       "    .dataframe thead th {\n",
       "        text-align: right;\n",
       "    }\n",
       "</style>\n",
       "<table border=\"1\" class=\"dataframe\">\n",
       "  <thead>\n",
       "    <tr style=\"text-align: right;\">\n",
       "      <th></th>\n",
       "      <th>average</th>\n",
       "      <th>standard deviation</th>\n",
       "    </tr>\n",
       "  </thead>\n",
       "  <tbody>\n",
       "    <tr>\n",
       "      <th>Hamming Distance</th>\n",
       "      <td>0.671169</td>\n",
       "      <td>0.03102</td>\n",
       "    </tr>\n",
       "    <tr>\n",
       "      <th>Hamming score</th>\n",
       "      <td>0.776277</td>\n",
       "      <td>0.01034</td>\n",
       "    </tr>\n",
       "    <tr>\n",
       "      <th>Hamming loss</th>\n",
       "      <td>0.223723</td>\n",
       "      <td>0.01034</td>\n",
       "    </tr>\n",
       "  </tbody>\n",
       "</table>\n",
       "</div>"
      ],
      "text/plain": [
       "                   average  standard deviation\n",
       "Hamming Distance  0.671169             0.03102\n",
       "Hamming score     0.776277             0.01034\n",
       "Hamming loss      0.223723             0.01034"
      ]
     },
     "execution_count": 26,
     "metadata": {},
     "output_type": "execute_result"
    }
   ],
   "source": [
    "stats=[[dis_avg,dis_std],[score_avg,score_std],[loss_avg,loss_std]]\n",
    "report=pd.DataFrame(data=stats,index=['Hamming Distance','Hamming score','Hamming loss'],columns=['average','standard deviation'])\n",
    "report"
   ]
  },
  {
   "cell_type": "markdown",
   "metadata": {},
   "source": [
    "3. ISLR 12.6.2"
   ]
  },
  {
   "cell_type": "markdown",
   "metadata": {},
   "source": [
    "2. Suppose that we have four observations, for which we compute a dissimilarity matrix, given by\n",
    "<br>&emsp; &ensp;  0.3 &nbsp; &nbsp; 0.4 &nbsp; 0.7\n",
    "<br>0.3 &emsp; &ensp; &ensp; 0.5 &ensp; 0.8\n",
    "<br>0.4 &nbsp; 0.5 &emsp; &emsp; &nbsp; 0.45\n",
    "<br>0.7 &nbsp; 0.8 &nbsp; 0.45 &emsp;"
   ]
  },
  {
   "cell_type": "markdown",
   "metadata": {},
   "source": [
    "For instance, the dissimilarity between the first and second observations is 0.3, and the dissimilarity between the second and fourth\n",
    "observations is 0.8."
   ]
  },
  {
   "cell_type": "markdown",
   "metadata": {},
   "source": [
    "(a) On the basis of this dissimilarity matrix, sketch the dendrogram that results from hierarchically clustering these four observations\n",
    "using complete linkage. Be sure to indicate on the plot the height at which each fusion occurs, as well as the observations\n",
    "corresponding to each leaf in the dendrogram.\n",
    "<br>(b) Repeat (a), this time using single linkage clustering.\n",
    "<br>(c) Suppose that we cut the dendrogram obtained in (a) such that two clusters result. Which observations are in each cluster?\n",
    "<br>(d) Suppose that we cut the dendrogram obtained in (b) such that two clusters result. Which observations are in each cluster?\n",
    "<br>(e) It is mentioned in the chapter that at each fusion in the dendrogram, the position of the two clusters being fused can be\n",
    "swapped without changing the meaning of the dendrogram. Draw a dendrogram that is equivalent to the dendrogram in (a), for which two or more \n",
    "of the leaves are repositioned, but for which the meaning of the dendrogram is the same."
   ]
  },
  {
   "cell_type": "markdown",
   "metadata": {},
   "source": [
    "Answers for these questions are in the picture attached with this homework."
   ]
  },
  {
   "cell_type": "code",
   "execution_count": null,
   "metadata": {},
   "outputs": [],
   "source": []
  }
 ],
 "metadata": {
  "kernelspec": {
   "display_name": "Python 3",
   "language": "python",
   "name": "python3"
  },
  "language_info": {
   "codemirror_mode": {
    "name": "ipython",
    "version": 3
   },
   "file_extension": ".py",
   "mimetype": "text/x-python",
   "name": "python",
   "nbconvert_exporter": "python",
   "pygments_lexer": "ipython3",
   "version": "3.7.4"
  }
 },
 "nbformat": 4,
 "nbformat_minor": 5
}
